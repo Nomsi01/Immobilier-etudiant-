{
 "cells": [
  {
   "cell_type": "markdown",
   "id": "58424bf1-1d28-4ad5-8895-a4fa34e3bde7",
   "metadata": {
    "jp-MarkdownHeadingCollapsed": true,
    "tags": []
   },
   "source": [
    "---\n",
    "# **LA LOI DU CROUS :**\n",
    "## *Étude des déterminations du prix des résidences universitaires Crous et de leurs répartitions dans les départements*\n",
    "---"
   ]
  },
  {
   "cell_type": "markdown",
   "id": "fd2bda15-8b9a-4c75-bbf6-b41026fc4194",
   "metadata": {
    "tags": []
   },
   "source": [
    "# Introduction:"
   ]
  },
  {
   "cell_type": "markdown",
   "id": "eaa2a6c4-f53a-40a7-91f0-934e59954e3e",
   "metadata": {
    "jp-MarkdownHeadingCollapsed": true,
    "tags": []
   },
   "source": [
    "350 000 étudiants habitent dans une résidence des centres régionaux des œuvres universitaires et scolaires (Crous), soit seulement 10% des 2 million d'étudiants vivant hors de leur domiciles, selon un  rapport sur le logement et la précarité des étudiants, des apprentis et des jeunes actifs de l'Assemblée nationale datant de janvier 2022 [1]. Selon ce même rapport, le logement est le premier poste de dépense des étudiants soit 60% de leurs revenus. Il est donc primordiale de donner accès à un logement abordable aux étudiants qui sont de plus en plus précaires de manières équitables selon les départements où ils se trouvent. \n",
    "\n",
    "Partant de ces constats, nous nous sommes posés plusieurs questions : le loyer est-il le même pour un logement situé dans un marché immobilier en tension comme Paris que dans un marché qu'il l'est moins comme Dijon ? Ou au contraire, est-ce que les prix sont globalement uniformes ? De même, est-ce que la concentration importante d'étudiants scolarisés à proximité de la résidence influe le prix vers la hausse? \n",
    "\n",
    "De ce fait, nous chercherons donc à répondre à la problématique suivante : \n",
    "\n",
    "***Les loyers des résidences des Crous suivent-ils la loi de l'offre et de la demande ?***\n",
    "\n",
    "**Modèle :**\n",
    "\n",
    "Ainsi, nous proposons d'étudier dans ce rapport, d'une part la répartition des 795 résidences des Crous sur le territoire; et d'autre part, les déterminants du prix du loyer de celles-ci pour pouvoir montrer d'éventuelles variations entre les départements. Pour expliquer le loyer nous utiliserons un modèle d'offre et de demande économique élèmentaire. Dans celui-ci, la résidence offre des biens de surfaces variables q à un prix p en mètre carré, et fait face à une concurrence représenté par le montant des loyers dans le parc privé. La demande sera représentée par l'effectifs d'étudiants scolarisés dans une école se situant dans un rayon de 20km de la résidence. Nous faisons l'hypothèse que les résidences proposent à peu près les mêmes caractéristiques entre elles et que les étudiants sont des price-takers. \n",
    "\n",
    "Nous réaliserons ainsi des régressions linéaires classiques : \n",
    "\n",
    "\\begin{equation}\n",
    "\\hat{Y}_i = \\hat{\\beta}_0 + \\hat{\\beta}_1 X_i + \\hat{\\epsilon}_i\n",
    "\\end{equation}\n",
    "\n",
    "**PLAN:**\n",
    "\n",
    "1. Dans une première partie, nous réccupérons une base de données avec les loyers (maximum, minimum et moyen), les surfaces (idem), les coordonnées géographiques, les loyers privés dans la ville de la résidence et l'effectif des étudiants dans un périmètre de 20 kilomètres. \n",
    "\n",
    "2. Dans une deuxième partie, nous analyserons d'une part la répartition des résidences en France et, d'autre part, nous réaliserons des statistiques descriptives sur les différentes variables de notre base de données. \n",
    "\n",
    "3. Dernièrement, nous utiliserons des modèles de régressions linéaires pour répondre à notre problématique. \n"
   ]
  },
  {
   "cell_type": "markdown",
   "id": "f6c94f07-eaa8-4378-9d48-117d0a7748d5",
   "metadata": {
    "tags": []
   },
   "source": [
    "## Les données utilisées "
   ]
  },
  {
   "cell_type": "markdown",
   "id": "52fb1d90-a0ab-4215-ba04-e02dd6a5a759",
   "metadata": {},
   "source": [
    "Nous nous servirons de plusieures base de données : \n",
    "\n",
    "1. **Ensemble des logements proposés aux étudiants par le réseau des CROUS :** \n",
    "\n",
    "Données mises à disposition par le Centre National des Œuvres Universitaires et Scolaires (CNOUS). Ils ont été publiés en 2017 et sont mises à jour assez régulièrement. Le problème principale de cette base de données est la récupération des loyers et des surfaces qui sont stockés dans une colonne nommée \"infos\" (s'il y en a). De plus, chaque colonne a été remplies par les résidences. La qualité et la structure des informations sont donc très variables. Nous avons donc mis en place des techniques de traitements textuels ou de natural language processing (NPL).\n",
    "\n",
    "https://www.data.gouv.fr/fr/datasets/ensemble-des-logements-proposes-aux-etudiants-par-le-reseau-des-crous/\n",
    "\n",
    "2. **\"Carte des loyers\" - Indicateurs de loyers d'annonce par commune en 2018**\n",
    "\n",
    "Données obtenues par une collaboration entre la Direction Générale de l’Aménagement, du Logement et de la Nature (DGALN), une équipe de recherche en économie d’Agrosup Dijon, de l’Institut national de la recherche en agronomique (INRAE), de SeLoger, de leboncoin et de PAP. Ces équipes ont créé différent indicateurs par communes à partir de 9 million d'annonces. Les données datent de 2018 et nous nous servirons uniquement de données pour les appartements.\n",
    "\n",
    "https://www.data.gouv.fr/fr/datasets/carte-des-loyers-indicateurs-de-loyers-dannonce-par-commune-en-2018/\n",
    "\n",
    "\n",
    "3. **Statistiques sur les effectifs d'étudiants inscrits par établissement public sous tutelle du ministère en charge de l'Enseignement supérieur (avec doubles inscriptions CPGE)**\n",
    "\n",
    "\"Ce jeu de données propose un ensemble de statistiques sur les effectifs d'étudiants inscrits de 2006-07 à 2021-22 par établissement public sous tutelle du ministère en charge de l'Enseignement supérieur français : universités, universités de technologie, grands établissements, COMUE, écoles normales supérieures, écoles centrales, INSA, autres écoles d'ingénieurs...\"\n",
    "\n",
    "https://www.data.gouv.fr/fr/datasets/statistiques-sur-les-effectifs-detudiants-inscrits-par-etablissement-public-sous-tutelle-du-ministere-en-charge-de-lenseignement-superieur-avec-doubles-inscriptions-cpge/\n",
    "\n",
    "4. **Contours Communes France Administrative \"Format Admin-Express\" avec arrondissements**\n",
    "\n",
    "Jeu de données de l'IGN regroupant les contours communales avec arrondissements.\n",
    "\n",
    "https://www.data.gouv.fr/fr/datasets/contours-communes-france-administrative-format-admin-express-avec-arrondissements/\n",
    "\n",
    "5. **Contours des départements français issus d'OpenStreetMap**\n",
    "\n",
    "Jeu de données d'OpenStreetMap regroupant les contours géographiques des départements. \n",
    "\n",
    "https://www.data.gouv.fr/fr/datasets/contours-des-departements-francais-issus-d-openstreetmap/\n",
    "\n",
    "\n",
    "\n"
   ]
  },
  {
   "cell_type": "markdown",
   "id": "f5053f55-8bb4-48e8-b174-3dcd653d8d09",
   "metadata": {
    "tags": []
   },
   "source": [
    "# Librairies nécessaires"
   ]
  },
  {
   "cell_type": "code",
   "execution_count": 1,
   "id": "e5ed2ed3-407f-497a-a534-ec8d9ca113fa",
   "metadata": {},
   "outputs": [],
   "source": [
    "%%capture \n",
    "#hide output \n",
    "!pip install geoplot\n",
    "!pip install contextily\n",
    "!pip install altair"
   ]
  },
  {
   "cell_type": "code",
   "execution_count": 2,
   "id": "7474ad37-f0fa-45d4-ab0e-e8a6a1ac3b75",
   "metadata": {},
   "outputs": [
    {
     "name": "stderr",
     "output_type": "stream",
     "text": [
      "[nltk_data] Downloading package punkt to /home/onyxia/nltk_data...\n",
      "[nltk_data]   Unzipping tokenizers/punkt.zip.\n",
      "ERROR 1: PROJ: proj_create_from_database: Open of /opt/mamba/share/proj failed\n"
     ]
    }
   ],
   "source": [
    "import pandas as pd \n",
    "import geopandas as gpd \n",
    "import nltk\n",
    "nltk.download('punkt')\n",
    "import contextily as ctx\n",
    "import geoplot as gplt\n",
    "import geoplot.crs as gcrs\n",
    "import matplotlib.pyplot as plt\n",
    "import folium\n",
    "import numpy as np\n",
    "import seaborn as sns\n",
    "import altair as alt "
   ]
  },
  {
   "cell_type": "markdown",
   "id": "953129fb-c4c6-400e-9927-628c53a8aff0",
   "metadata": {
    "tags": []
   },
   "source": [
    "# Partie I : Obtention du dataframe "
   ]
  },
  {
   "cell_type": "markdown",
   "id": "38f6c637-3015-4f33-8154-1f2641aff6cd",
   "metadata": {},
   "source": [
    "L'objectif de cette partie est de créer une base de données contenant pour chaque résidence : \n",
    "- Le prix du loyer (maximum, minimum et moyen);\n",
    "- La surface (idem);\n",
    "- Les coordonnées géographiques compatibles avec Géopanda (nécessaires pour réccupèrer le nombre d'étudiants et les cartes);\n",
    "- L'indicateur du loyer privé maximum d'un appartement dans la ville de la résidence;\n",
    "- Le nombre d'étudiants scolarisés dans un rayon de 20 km autour de la résidence hors CPGE\n",
    "\n",
    "Le principale problème de cette base de données est le fait que d'une part, il n'existe pas de colonne contenant exlicitement le loyer et les surfaces, et d'autre part, chaque résidence a remplie à sa manière les informations sur les loyers et les surfaces (s'ils ont rempli). Nous avons donc mis en place des fonctions de Natural Language Processing (NLP) pour pouvoir les réccupèrer (pour plus d'informations voire le document : functions_for_data_cleaning.py) "
   ]
  },
  {
   "cell_type": "markdown",
   "id": "6f68a75e-6506-431d-8aa4-5a0ba3153b2a",
   "metadata": {
    "tags": []
   },
   "source": [
    "## I.1. Récupération des loyers, des surfaces et de la localisation des résidences"
   ]
  },
  {
   "cell_type": "code",
   "execution_count": 3,
   "id": "2ab5e590-2677-4d1f-8234-bbc41ddf44fc",
   "metadata": {},
   "outputs": [],
   "source": [
    "\"\"\"\n",
    "Importation des données.\n",
    "\"\"\"\n",
    "df = pd.read_csv(\"https://data.enseignementsup-recherche.gouv.fr//explore/dataset/fr_crous_logement_france_entiere/download?format=csv&timezone=Europe/Berlin&use_labels_for_header=false\", \n",
    "                 sep =';')"
   ]
  },
  {
   "cell_type": "code",
   "execution_count": 4,
   "id": "5ebddfa7-ef72-4de9-b50a-d2f5dc35eecd",
   "metadata": {},
   "outputs": [],
   "source": [
    "\"\"\"\n",
    "Réduction de notre base de données aux 5 colonnes qui nous intéressent (nom de la résidence ou \"title\";\n",
    "la colonne comportant toutes les infos sur les surfaces et les loyers ; l'adresse; les coordonnées géographiques; \n",
    "et les noms des régions.\n",
    "\"\"\"\n",
    "df = df[[\"title\", \"infos\", \"address\" ,\"geocalisation\", \"regions\"]]"
   ]
  },
  {
   "cell_type": "code",
   "execution_count": 5,
   "id": "6c9c485a-1da0-4ff8-84d2-adc3610a4bdd",
   "metadata": {},
   "outputs": [
    {
     "name": "stderr",
     "output_type": "stream",
     "text": [
      "[nltk_data] Downloading package punkt to /home/onyxia/nltk_data...\n",
      "[nltk_data]   Package punkt is already up-to-date!\n"
     ]
    }
   ],
   "source": [
    "from functions_for_data_cleaning import * #document .py comportant nos fonctions nécessaires au nettoyage\n",
    "\n",
    "df = get_loyer(df) #récuppération des loyers à partir de la colonne \"infos\"\n",
    "df = get_surface(df) #récuppération des surfaces à partir de la colonne \"infos\"\n",
    "df = get_localisation(df) #récuppération des coordonnées géographiques à partir de la colonne \"geocalisation\""
   ]
  },
  {
   "cell_type": "markdown",
   "id": "6b0538f8-0806-4c31-8e09-3dd9498ff994",
   "metadata": {},
   "source": [
    "## I.2. Récupération des loyers privés des communes (avec la géolocalisation des communes)"
   ]
  },
  {
   "cell_type": "markdown",
   "id": "5d1921bc-b434-449d-8e14-131b4c215453",
   "metadata": {},
   "source": [
    "Le but de cette partie est de joindre la base précédemment obtenue avec la base des indicateurs des loyers privés maximum pour un appartement et par communes (var : upr.lPm2)"
   ]
  },
  {
   "cell_type": "code",
   "execution_count": 6,
   "id": "d94c39f6-c289-46d4-b7e9-fa0d164dde10",
   "metadata": {},
   "outputs": [],
   "source": [
    "df_private = pd.read_csv(\"https://www.data.gouv.fr/fr/datasets/r/8fac6fb7-cd07-4747-8e0b-b101c476f0da\", encoding= 'unicode_escape', sep = \";\")"
   ]
  },
  {
   "cell_type": "markdown",
   "id": "8d09c0be-c1a5-4db3-b851-5e613a0ca5d8",
   "metadata": {},
   "source": [
    "On ne garde que le code INSEE, le nom de la ville et le loyer supérieur par m^2\n"
   ]
  },
  {
   "cell_type": "code",
   "execution_count": 7,
   "id": "51cb5c91-c92e-4133-9ce2-6c0f2665ab64",
   "metadata": {},
   "outputs": [],
   "source": [
    "df_private = df_private[[\"INSEE\", \"LIBGEO\",\"upr.IPm2\"]]"
   ]
  },
  {
   "cell_type": "markdown",
   "id": "e728c188-5991-44c2-9566-c7cb90c3a1fc",
   "metadata": {},
   "source": [
    "On renomme la colonne INSEE en codgeo pour pouvoir la merger avec la carte des contours des villes."
   ]
  },
  {
   "cell_type": "code",
   "execution_count": 8,
   "id": "c7bf2d90-62a9-474c-ab90-f77efc6bf158",
   "metadata": {},
   "outputs": [],
   "source": [
    "df_private.rename(columns = {'INSEE':'codgeo',\"upr.IPm2\" : \"Loyer_prive_m2\" }, inplace = True)"
   ]
  },
  {
   "cell_type": "code",
   "execution_count": 9,
   "id": "c441ffe8-bc1f-4589-b3c4-947f07db55c2",
   "metadata": {},
   "outputs": [],
   "source": [
    "\"\"\"\n",
    "On rajoute un 0 devant le code INSEE quand il ne fait que quatre chiffres (pour uniformiser avec l'autre base).\n",
    "\"\"\"\n",
    "df_private[\"codgeo\"] = df_private[\"codgeo\"].apply(lambda x : \"0\" + x if len(x) == 4 else x)\n",
    "\n",
    "\n",
    "df_private[\"Loyer_prive_m2\"] = df_private[\"Loyer_prive_m2\"].apply(lambda x : x.replace(',','.'))"
   ]
  },
  {
   "cell_type": "code",
   "execution_count": 10,
   "id": "20ce7545-85cd-4e22-98e6-db4d6c2d2923",
   "metadata": {},
   "outputs": [],
   "source": [
    "df_private = df_private.set_index('codgeo') #on réindex le dataframe avec le code INSEE pour merger après. "
   ]
  },
  {
   "cell_type": "markdown",
   "id": "525d5f3b-d3c2-4de5-b05e-8190adb58dda",
   "metadata": {},
   "source": [
    "On récuppère les contours géographique des communes pour pouvoir faire la jointure avec notre base.(prends du temps)"
   ]
  },
  {
   "cell_type": "code",
   "execution_count": 11,
   "id": "9b90d1fc-2110-4d3c-a488-013aea0bf752",
   "metadata": {},
   "outputs": [],
   "source": [
    "gdf_communes_boundaries = gpd.read_file(\"https://www.data.gouv.fr/fr/datasets/r/e9391593-fa95-4153-aabe-87ca84d197e9\")"
   ]
  },
  {
   "cell_type": "markdown",
   "id": "ab77190e-13eb-4e35-acac-67468c7eff89",
   "metadata": {},
   "source": [
    "On ne garde que le code INSEE et les données polygoniales. "
   ]
  },
  {
   "cell_type": "code",
   "execution_count": 12,
   "id": "f5f4a295-b1f4-42b5-9bbb-13608e477348",
   "metadata": {},
   "outputs": [],
   "source": [
    "gdf_communes_boundaries.rename(columns = {'INSEE_COM':'codgeo'}, inplace = True)\n",
    "gdf_communes_boundaries = gdf_communes_boundaries[[\"codgeo\", \"geometry\"]]\n",
    "gdf_communes_boundaries = gdf_communes_boundaries.set_index('codgeo')\n"
   ]
  },
  {
   "cell_type": "markdown",
   "id": "dd57dd54-e63e-4235-a0a6-8fae425120e3",
   "metadata": {},
   "source": [
    "On concatène les deux datafarmes"
   ]
  },
  {
   "cell_type": "code",
   "execution_count": 13,
   "id": "a11dc288-49b8-475b-a900-54e01fd3741d",
   "metadata": {},
   "outputs": [],
   "source": [
    "gdf_private = pd.concat([df_private,gdf_communes_boundaries], axis = 1, join = \"inner\")"
   ]
  },
  {
   "cell_type": "markdown",
   "id": "0dc65fbe-bb25-4b68-a2c0-29a616c68f6b",
   "metadata": {},
   "source": [
    "## I.3. Jointures spatiales"
   ]
  },
  {
   "cell_type": "markdown",
   "id": "e271c539-798f-479a-affb-6fbd29751771",
   "metadata": {},
   "source": [
    "Maintenant que nous avons une base des loyers privés avec les coordonnées des communes nous allons pouvoir réaliser une jointure spatiale avec la base des résidences."
   ]
  },
  {
   "cell_type": "code",
   "execution_count": 14,
   "id": "22ecc069-82cd-4aa2-aa36-4d2eec09154b",
   "metadata": {},
   "outputs": [
    {
     "name": "stderr",
     "output_type": "stream",
     "text": [
      "/opt/mamba/lib/python3.10/site-packages/IPython/core/interactiveshell.py:3373: FutureWarning: The `op` parameter is deprecated and will be removed in a future release. Please use the `predicate` parameter instead.\n",
      "  if await self.run_code(code, result, async_=asy):\n",
      "/tmp/ipykernel_270/2580680376.py:3: UserWarning: CRS mismatch between the CRS of left geometries and the CRS of right geometries.\n",
      "Use `to_crs()` to reproject one of the input geometries to match the CRS of the other.\n",
      "\n",
      "Left CRS: None\n",
      "Right CRS: EPSG:4326\n",
      "\n",
      "  df = gpd.sjoin(df, gdf_private, how='left', op='within') #on réalise la jointure à gauche avec within\n"
     ]
    }
   ],
   "source": [
    "\n",
    "#gdf_private['geometry'] = gdf_private['geometry'].apply(wkt.loads) #on transforme en format wkt (sinon ça ne marche pas)\n",
    "gdf_private = gpd.GeoDataFrame(gdf_private)  #on transforme en geodataframe \n",
    "df = gpd.sjoin(df, gdf_private, how='left', op='within') #on réalise la jointure à gauche avec within \n",
    "#i.e si le point est dans le polynôme. "
   ]
  },
  {
   "cell_type": "code",
   "execution_count": 15,
   "id": "74ce5391-2321-4cde-bfcd-64ebc689a91e",
   "metadata": {},
   "outputs": [],
   "source": [
    "del df['index_right'] #on supprime l'index right pour la prochaine jointure"
   ]
  },
  {
   "cell_type": "markdown",
   "id": "bce9cb34-c700-445f-8a1f-448d93db8e4a",
   "metadata": {},
   "source": [
    "## I.4 Ajout des départements "
   ]
  },
  {
   "cell_type": "markdown",
   "id": "464e3f55-f82e-492b-bd0b-7e9db0d48296",
   "metadata": {},
   "source": [
    "Pour pouvoir avoir des comparaisons par départements nous allons réccupèrer les départements et les joindre avec nos bases grâce à une jointure spatiale. "
   ]
  },
  {
   "cell_type": "code",
   "execution_count": 16,
   "id": "0fd3a918-6dcd-4230-932d-1d9c691093b6",
   "metadata": {},
   "outputs": [],
   "source": [
    "gdf_dep = gpd.read_file(\"https://www.data.gouv.fr/fr/datasets/r/eb36371a-761d-44a8-93ec-3d728bec17ce\")\n",
    "gdf_dep.rename(columns = {'nom':'departement'}, inplace = True)\n",
    "gdf_dep = gdf_dep[[\"departement\", \"geometry\"]]"
   ]
  },
  {
   "cell_type": "code",
   "execution_count": 17,
   "id": "75f05f9a-e0f6-4db4-8c83-ecba4316f352",
   "metadata": {},
   "outputs": [
    {
     "name": "stderr",
     "output_type": "stream",
     "text": [
      "/opt/mamba/lib/python3.10/site-packages/IPython/core/interactiveshell.py:3373: FutureWarning: The `op` parameter is deprecated and will be removed in a future release. Please use the `predicate` parameter instead.\n",
      "  if await self.run_code(code, result, async_=asy):\n",
      "/tmp/ipykernel_270/3363061827.py:1: UserWarning: CRS mismatch between the CRS of left geometries and the CRS of right geometries.\n",
      "Use `to_crs()` to reproject one of the input geometries to match the CRS of the other.\n",
      "\n",
      "Left CRS: None\n",
      "Right CRS: EPSG:4326\n",
      "\n",
      "  df = gpd.sjoin(df, gdf_dep, how='left', op='within')\n"
     ]
    }
   ],
   "source": [
    "df = gpd.sjoin(df, gdf_dep, how='left', op='within')\n",
    "del df['index_right'] #on supprime l'index right pour la prochaine jointure"
   ]
  },
  {
   "cell_type": "markdown",
   "id": "9b0b1f51-617b-4193-952c-9eb2bb22282b",
   "metadata": {},
   "source": [
    "## I.5. Association de résidences à une école "
   ]
  },
  {
   "cell_type": "markdown",
   "id": "ccf4b2b8-db70-4847-a2ce-e2dfee7e9334",
   "metadata": {},
   "source": [
    "Import de notre base de données des écoles pour pouvoir réccupèrer le nombre d'étudiants scolarisés dans un rayon de 20km."
   ]
  },
  {
   "cell_type": "code",
   "execution_count": 18,
   "id": "712af093-5a58-4345-a6e3-3216bf4a7fdf",
   "metadata": {},
   "outputs": [],
   "source": [
    "df_schools = pd.read_csv(\"https://www.data.gouv.fr/fr/datasets/r/0c713161-26fb-415e-ac1d-8769125f338d\", sep = \";\")"
   ]
  },
  {
   "cell_type": "code",
   "execution_count": 19,
   "id": "00d985de-bd37-4b75-aede-2424d41ea881",
   "metadata": {},
   "outputs": [],
   "source": [
    "df_schools = df_schools[df_schools[\"annee_universitaire\"] == \"2021-22\" ] #on ne prend que l'année 2021-22\n",
    "df_schools = df_schools[[\"etablissement_lib\", \"effectif_sans_cpge\", \"etablissement_code_commune\", \"etablissement_commune\"]]\n",
    "df_schools.rename(columns = {'etablissement_code_commune':'codgeo'}, inplace = True) #On renomme la colonne pour la jointure"
   ]
  },
  {
   "cell_type": "markdown",
   "id": "bf461619-a38b-4fd6-8576-03aecd6bdc51",
   "metadata": {},
   "source": [
    "On enlève les valeurs manquantes (il manque des coordonnées pour certains établissments)."
   ]
  },
  {
   "cell_type": "code",
   "execution_count": 20,
   "id": "69c4469f-950d-4297-a8d4-e9517ee22953",
   "metadata": {},
   "outputs": [
    {
     "name": "stderr",
     "output_type": "stream",
     "text": [
      "/tmp/ipykernel_270/2476089590.py:2: FutureWarning: In a future version of pandas all arguments of DataFrame.drop except for the argument 'labels' will be keyword-only.\n",
      "  df_schools.drop(index_with_nan,0, inplace=True)\n"
     ]
    }
   ],
   "source": [
    "index_with_nan = df_schools.index[df_schools.isnull().any(axis=1)]\n",
    "df_schools.drop(index_with_nan,0, inplace=True) \n",
    "df_schools.set_index('codgeo', inplace = True) #on recommence l'index"
   ]
  },
  {
   "cell_type": "markdown",
   "id": "e96b2a14-6c64-4ca6-9b9b-7668f75d683e",
   "metadata": {},
   "source": [
    "Jointure avec les coordonnées géographiques des communes pour pouvoir trouver dans un rayon de 20km les écoles autour des résidences."
   ]
  },
  {
   "cell_type": "code",
   "execution_count": 21,
   "id": "042fa8fe-e826-4074-b995-d3b6125bf824",
   "metadata": {},
   "outputs": [],
   "source": [
    "df_schools = df_schools.join(gdf_communes_boundaries)\n",
    "df_schools = gpd.GeoDataFrame(df_schools)\n",
    "df_schools.crs = \"epsg:4326\""
   ]
  },
  {
   "cell_type": "markdown",
   "id": "d9a0f320-669e-4af7-8d89-c27a5eac5705",
   "metadata": {},
   "source": [
    "On applique la fonction get_nb_student disponible dans le fichier function_for_data_cleaning.py qui permet d'obtenir le nombre d'étudiants dans un rayon de 20km autour de nos résidences."
   ]
  },
  {
   "cell_type": "code",
   "execution_count": 22,
   "id": "91c6d505-e344-4317-a8a7-e55563c9beef",
   "metadata": {},
   "outputs": [],
   "source": [
    "df.crs = \"epsg:4326\" #on définit la projection de notre dataframe\n",
    "df = get_nb_student(df, df_schools, 20)"
   ]
  },
  {
   "cell_type": "markdown",
   "id": "10697228-145c-4920-b000-532f339d1fd9",
   "metadata": {
    "tags": []
   },
   "source": [
    "## I.6. Obtention de la base de données finale"
   ]
  },
  {
   "cell_type": "code",
   "execution_count": 23,
   "id": "460578af-40d8-4648-b01a-3581d6d037c9",
   "metadata": {},
   "outputs": [
    {
     "data": {
      "text/html": [
       "<div>\n",
       "<style scoped>\n",
       "    .dataframe tbody tr th:only-of-type {\n",
       "        vertical-align: middle;\n",
       "    }\n",
       "\n",
       "    .dataframe tbody tr th {\n",
       "        vertical-align: top;\n",
       "    }\n",
       "\n",
       "    .dataframe thead th {\n",
       "        text-align: right;\n",
       "    }\n",
       "</style>\n",
       "<table border=\"1\" class=\"dataframe\">\n",
       "  <thead>\n",
       "    <tr style=\"text-align: right;\">\n",
       "      <th></th>\n",
       "      <th>title</th>\n",
       "      <th>infos</th>\n",
       "      <th>address</th>\n",
       "      <th>geocalisation</th>\n",
       "      <th>regions</th>\n",
       "      <th>Loyer</th>\n",
       "      <th>Max Loyer</th>\n",
       "      <th>Min Loyer</th>\n",
       "      <th>Mean Loyer</th>\n",
       "      <th>Surface</th>\n",
       "      <th>...</th>\n",
       "      <th>Min Surface</th>\n",
       "      <th>Mean Surface</th>\n",
       "      <th>Longitude</th>\n",
       "      <th>Latitude</th>\n",
       "      <th>geometry</th>\n",
       "      <th>LIBGEO</th>\n",
       "      <th>Loyer_prive_m2</th>\n",
       "      <th>departement</th>\n",
       "      <th>Schools</th>\n",
       "      <th>Nbstudents</th>\n",
       "    </tr>\n",
       "  </thead>\n",
       "  <tbody>\n",
       "    <tr>\n",
       "      <th>0</th>\n",
       "      <td>Cité U' La Bourgeonnière</td>\n",
       "      <td>Localisation\\n\\r\\n Tramway Ligne 2 (arrêt Bour...</td>\n",
       "      <td>5, Rue des Renards, 44322 Nantes</td>\n",
       "      <td>47.2536315918,-1.5635741949</td>\n",
       "      <td>Pays de la Loire</td>\n",
       "      <td>[164.95, 254.8, 346.8, 378.8]</td>\n",
       "      <td>378.80</td>\n",
       "      <td>164.95</td>\n",
       "      <td>286.337500</td>\n",
       "      <td>[9.0, 9.0, 13.0, 18.0, 9.0, 9.0, 13.0, 18.0]</td>\n",
       "      <td>...</td>\n",
       "      <td>9.0</td>\n",
       "      <td>12.250000</td>\n",
       "      <td>-1.563574</td>\n",
       "      <td>47.253632</td>\n",
       "      <td>POINT (-1.56357 47.25363)</td>\n",
       "      <td>Nantes</td>\n",
       "      <td>15.32628634</td>\n",
       "      <td>Loire-Atlantique</td>\n",
       "      <td>[Nantes Université]</td>\n",
       "      <td>44394</td>\n",
       "    </tr>\n",
       "    <tr>\n",
       "      <th>1</th>\n",
       "      <td>Résidence U' Les Saumonières</td>\n",
       "      <td>Localisation\\n\\r\\n Tramway Ligne 2 (arrêt Rect...</td>\n",
       "      <td>14, Rue des Saumonières, 44300 Nantes</td>\n",
       "      <td>47.2551040649,-1.5516899824</td>\n",
       "      <td>Pays de la Loire</td>\n",
       "      <td>[361.46]</td>\n",
       "      <td>361.46</td>\n",
       "      <td>361.46</td>\n",
       "      <td>361.460000</td>\n",
       "      <td>[17.0, 19.0]</td>\n",
       "      <td>...</td>\n",
       "      <td>17.0</td>\n",
       "      <td>18.000000</td>\n",
       "      <td>-1.551690</td>\n",
       "      <td>47.255104</td>\n",
       "      <td>POINT (-1.55169 47.25510)</td>\n",
       "      <td>Nantes</td>\n",
       "      <td>15.32628634</td>\n",
       "      <td>Loire-Atlantique</td>\n",
       "      <td>[Nantes Université]</td>\n",
       "      <td>44394</td>\n",
       "    </tr>\n",
       "    <tr>\n",
       "      <th>2</th>\n",
       "      <td>Résidence U' Corbilo</td>\n",
       "      <td>Localisation\\n\\r\\n Tram 2-3 (arrêt Mangin)Bus ...</td>\n",
       "      <td>18, rue Anatole de Monzie, 44200 Nantes</td>\n",
       "      <td>47.2025222778,-1.5433219671</td>\n",
       "      <td>Pays de la Loire</td>\n",
       "      <td>[343.79, 407.43, 558.75]</td>\n",
       "      <td>558.75</td>\n",
       "      <td>343.79</td>\n",
       "      <td>436.656667</td>\n",
       "      <td>[20.0, 30.0, 30.0, 35.0, 20.0, 30.0]</td>\n",
       "      <td>...</td>\n",
       "      <td>20.0</td>\n",
       "      <td>27.500000</td>\n",
       "      <td>-1.543322</td>\n",
       "      <td>47.202522</td>\n",
       "      <td>POINT (-1.54332 47.20252)</td>\n",
       "      <td>Nantes</td>\n",
       "      <td>15.32628634</td>\n",
       "      <td>Loire-Atlantique</td>\n",
       "      <td>[Nantes Université]</td>\n",
       "      <td>44394</td>\n",
       "    </tr>\n",
       "    <tr>\n",
       "      <th>3</th>\n",
       "      <td>Résidence U' Ile de Nantes</td>\n",
       "      <td>Localisation\\n\\r\\n Bus C5 et 26 (arrêt Républi...</td>\n",
       "      <td>23, Bd de la Prairie au Duc, 4200 Nantes</td>\n",
       "      <td>47.2048683167,-1.5581860542</td>\n",
       "      <td>Pays de la Loire</td>\n",
       "      <td>[338.21, 358.71]</td>\n",
       "      <td>358.71</td>\n",
       "      <td>338.21</td>\n",
       "      <td>348.460000</td>\n",
       "      <td>[18.0, 27.0, 18.0, 27.0]</td>\n",
       "      <td>...</td>\n",
       "      <td>18.0</td>\n",
       "      <td>22.500000</td>\n",
       "      <td>-1.558186</td>\n",
       "      <td>47.204868</td>\n",
       "      <td>POINT (-1.55819 47.20487)</td>\n",
       "      <td>Nantes</td>\n",
       "      <td>15.32628634</td>\n",
       "      <td>Loire-Atlantique</td>\n",
       "      <td>[Nantes Université]</td>\n",
       "      <td>44394</td>\n",
       "    </tr>\n",
       "    <tr>\n",
       "      <th>4</th>\n",
       "      <td>Résidence U' Longchamp</td>\n",
       "      <td>Localisation\\n\\r\\n Tramway 3 (arrêt Longchamp)...</td>\n",
       "      <td>79, Rue de la Gaudinière, 44300 Nantes</td>\n",
       "      <td>47.2384872437,-1.5774370432</td>\n",
       "      <td>Pays de la Loire</td>\n",
       "      <td>[309.15, 326.23, 360.49]</td>\n",
       "      <td>360.49</td>\n",
       "      <td>309.15</td>\n",
       "      <td>331.956667</td>\n",
       "      <td>[18.0, 28.0, 18.0, 22.0, 28.0]</td>\n",
       "      <td>...</td>\n",
       "      <td>18.0</td>\n",
       "      <td>22.800000</td>\n",
       "      <td>-1.577437</td>\n",
       "      <td>47.238487</td>\n",
       "      <td>POINT (-1.57744 47.23849)</td>\n",
       "      <td>Nantes</td>\n",
       "      <td>15.32628634</td>\n",
       "      <td>Loire-Atlantique</td>\n",
       "      <td>[Nantes Université]</td>\n",
       "      <td>44394</td>\n",
       "    </tr>\n",
       "    <tr>\n",
       "      <th>...</th>\n",
       "      <td>...</td>\n",
       "      <td>...</td>\n",
       "      <td>...</td>\n",
       "      <td>...</td>\n",
       "      <td>...</td>\n",
       "      <td>...</td>\n",
       "      <td>...</td>\n",
       "      <td>...</td>\n",
       "      <td>...</td>\n",
       "      <td>...</td>\n",
       "      <td>...</td>\n",
       "      <td>...</td>\n",
       "      <td>...</td>\n",
       "      <td>...</td>\n",
       "      <td>...</td>\n",
       "      <td>...</td>\n",
       "      <td>...</td>\n",
       "      <td>...</td>\n",
       "      <td>...</td>\n",
       "      <td>...</td>\n",
       "      <td>...</td>\n",
       "    </tr>\n",
       "    <tr>\n",
       "      <th>790</th>\n",
       "      <td>Cité de Lébisey (secteur Caen)</td>\n",
       "      <td>114-116 rue de lébisey 14070 Caen Cedex 5\\r\\n ...</td>\n",
       "      <td>114-116 rue de lébisey 14070 Caen Cedex 5</td>\n",
       "      <td>49.1998634338,-0.3526327014</td>\n",
       "      <td>Normandie</td>\n",
       "      <td>[235.1, 254.85, 357.3, 429.3]</td>\n",
       "      <td>429.30</td>\n",
       "      <td>235.10</td>\n",
       "      <td>319.137500</td>\n",
       "      <td>[9.0, 9.0, 17.0, 20.0]</td>\n",
       "      <td>...</td>\n",
       "      <td>9.0</td>\n",
       "      <td>13.750000</td>\n",
       "      <td>-0.352633</td>\n",
       "      <td>49.199863</td>\n",
       "      <td>POINT (-0.35263 49.19986)</td>\n",
       "      <td>Caen</td>\n",
       "      <td>14.34459394</td>\n",
       "      <td>Calvados</td>\n",
       "      <td>[École nationale supérieure d'ingénieurs de Ca...</td>\n",
       "      <td>32933</td>\n",
       "    </tr>\n",
       "    <tr>\n",
       "      <th>791</th>\n",
       "      <td>Résidence Erik Satie - Lébisey  (secteur Caen)</td>\n",
       "      <td>114-116 rue de Lébisey - 14070 Caen cedex 5\\r\\...</td>\n",
       "      <td>114-116 rue de Lébisey - 14070 Caen cedex 5</td>\n",
       "      <td>49.20095743696,-0.35141229629517</td>\n",
       "      <td>Normandie</td>\n",
       "      <td>[348.5, 406.2]</td>\n",
       "      <td>406.20</td>\n",
       "      <td>348.50</td>\n",
       "      <td>377.350000</td>\n",
       "      <td>[20.0, 30.0]</td>\n",
       "      <td>...</td>\n",
       "      <td>20.0</td>\n",
       "      <td>25.000000</td>\n",
       "      <td>-0.351412</td>\n",
       "      <td>49.200957</td>\n",
       "      <td>POINT (-0.35141 49.20096)</td>\n",
       "      <td>Caen</td>\n",
       "      <td>14.34459394</td>\n",
       "      <td>Calvados</td>\n",
       "      <td>[École nationale supérieure d'ingénieurs de Ca...</td>\n",
       "      <td>32933</td>\n",
       "    </tr>\n",
       "    <tr>\n",
       "      <th>792</th>\n",
       "      <td>Residence Bacot  (secteur Caen)</td>\n",
       "      <td>10 bd Maréchal Juin - BP 8515314070 Caen cedex...</td>\n",
       "      <td>10 bd Maréchal Juin - BP 85153 14070 Caen cedex 5</td>\n",
       "      <td>49.2125244141,-0.3707295656</td>\n",
       "      <td>Normandie</td>\n",
       "      <td>[396.54, 470.56]</td>\n",
       "      <td>470.56</td>\n",
       "      <td>396.54</td>\n",
       "      <td>433.550000</td>\n",
       "      <td>[20.0, 30.0, 50.0]</td>\n",
       "      <td>...</td>\n",
       "      <td>20.0</td>\n",
       "      <td>33.333333</td>\n",
       "      <td>-0.370730</td>\n",
       "      <td>49.212524</td>\n",
       "      <td>POINT (-0.37073 49.21252)</td>\n",
       "      <td>Caen</td>\n",
       "      <td>14.34459394</td>\n",
       "      <td>Calvados</td>\n",
       "      <td>[École nationale supérieure d'ingénieurs de Ca...</td>\n",
       "      <td>32933</td>\n",
       "    </tr>\n",
       "    <tr>\n",
       "      <th>793</th>\n",
       "      <td>Résidence Lecesne (secteur du Havre)</td>\n",
       "      <td>Description\\n\\nEquipement : kitchenette, évier...</td>\n",
       "      <td>124 rue Jules Lecesne  76600 LE HAVRE</td>\n",
       "      <td>49.4935112,0.11666479999997</td>\n",
       "      <td>Normandie</td>\n",
       "      <td>[363.0]</td>\n",
       "      <td>363.00</td>\n",
       "      <td>363.00</td>\n",
       "      <td>363.000000</td>\n",
       "      <td>[18.0]</td>\n",
       "      <td>...</td>\n",
       "      <td>18.0</td>\n",
       "      <td>18.000000</td>\n",
       "      <td>0.116665</td>\n",
       "      <td>49.493511</td>\n",
       "      <td>POINT (0.11666 49.49351)</td>\n",
       "      <td>Le Havre</td>\n",
       "      <td>13.93122446</td>\n",
       "      <td>Seine-Maritime</td>\n",
       "      <td>[Université Le Havre Normandie]</td>\n",
       "      <td>7355</td>\n",
       "    </tr>\n",
       "    <tr>\n",
       "      <th>794</th>\n",
       "      <td>Résidence Tristan (secteur d'Hérouville-Saint-...</td>\n",
       "      <td>BP 54 - Avenue de la Grande Cavée 14202 Hérouv...</td>\n",
       "      <td>BP 54 - Avenue de la Grande Cavée 14202 Hérouv...</td>\n",
       "      <td>49.2029825,-0.33820595950292</td>\n",
       "      <td>Normandie</td>\n",
       "      <td>[355.94, 439.9]</td>\n",
       "      <td>439.90</td>\n",
       "      <td>355.94</td>\n",
       "      <td>397.920000</td>\n",
       "      <td>[32.0]</td>\n",
       "      <td>...</td>\n",
       "      <td>32.0</td>\n",
       "      <td>32.000000</td>\n",
       "      <td>-0.338206</td>\n",
       "      <td>49.202982</td>\n",
       "      <td>POINT (-0.33821 49.20298)</td>\n",
       "      <td>Hérouville-Saint-Clair</td>\n",
       "      <td>13.70540711</td>\n",
       "      <td>Calvados</td>\n",
       "      <td>[École nationale supérieure d'ingénieurs de Ca...</td>\n",
       "      <td>32933</td>\n",
       "    </tr>\n",
       "  </tbody>\n",
       "</table>\n",
       "<p>795 rows × 21 columns</p>\n",
       "</div>"
      ],
      "text/plain": [
       "                                                 title  \\\n",
       "0                             Cité U' La Bourgeonnière   \n",
       "1                         Résidence U' Les Saumonières   \n",
       "2                                 Résidence U' Corbilo   \n",
       "3                           Résidence U' Ile de Nantes   \n",
       "4                               Résidence U' Longchamp   \n",
       "..                                                 ...   \n",
       "790                     Cité de Lébisey (secteur Caen)   \n",
       "791     Résidence Erik Satie - Lébisey  (secteur Caen)   \n",
       "792                    Residence Bacot  (secteur Caen)   \n",
       "793               Résidence Lecesne (secteur du Havre)   \n",
       "794  Résidence Tristan (secteur d'Hérouville-Saint-...   \n",
       "\n",
       "                                                 infos  \\\n",
       "0    Localisation\\n\\r\\n Tramway Ligne 2 (arrêt Bour...   \n",
       "1    Localisation\\n\\r\\n Tramway Ligne 2 (arrêt Rect...   \n",
       "2    Localisation\\n\\r\\n Tram 2-3 (arrêt Mangin)Bus ...   \n",
       "3    Localisation\\n\\r\\n Bus C5 et 26 (arrêt Républi...   \n",
       "4    Localisation\\n\\r\\n Tramway 3 (arrêt Longchamp)...   \n",
       "..                                                 ...   \n",
       "790  114-116 rue de lébisey 14070 Caen Cedex 5\\r\\n ...   \n",
       "791  114-116 rue de Lébisey - 14070 Caen cedex 5\\r\\...   \n",
       "792  10 bd Maréchal Juin - BP 8515314070 Caen cedex...   \n",
       "793  Description\\n\\nEquipement : kitchenette, évier...   \n",
       "794  BP 54 - Avenue de la Grande Cavée 14202 Hérouv...   \n",
       "\n",
       "                                               address  \\\n",
       "0                     5, Rue des Renards, 44322 Nantes   \n",
       "1                14, Rue des Saumonières, 44300 Nantes   \n",
       "2              18, rue Anatole de Monzie, 44200 Nantes   \n",
       "3             23, Bd de la Prairie au Duc, 4200 Nantes   \n",
       "4               79, Rue de la Gaudinière, 44300 Nantes   \n",
       "..                                                 ...   \n",
       "790          114-116 rue de lébisey 14070 Caen Cedex 5   \n",
       "791        114-116 rue de Lébisey - 14070 Caen cedex 5   \n",
       "792  10 bd Maréchal Juin - BP 85153 14070 Caen cedex 5   \n",
       "793              124 rue Jules Lecesne  76600 LE HAVRE   \n",
       "794  BP 54 - Avenue de la Grande Cavée 14202 Hérouv...   \n",
       "\n",
       "                        geocalisation           regions  \\\n",
       "0         47.2536315918,-1.5635741949  Pays de la Loire   \n",
       "1         47.2551040649,-1.5516899824  Pays de la Loire   \n",
       "2         47.2025222778,-1.5433219671  Pays de la Loire   \n",
       "3         47.2048683167,-1.5581860542  Pays de la Loire   \n",
       "4         47.2384872437,-1.5774370432  Pays de la Loire   \n",
       "..                                ...               ...   \n",
       "790       49.1998634338,-0.3526327014         Normandie   \n",
       "791  49.20095743696,-0.35141229629517         Normandie   \n",
       "792       49.2125244141,-0.3707295656         Normandie   \n",
       "793       49.4935112,0.11666479999997         Normandie   \n",
       "794      49.2029825,-0.33820595950292         Normandie   \n",
       "\n",
       "                             Loyer  Max Loyer  Min Loyer  Mean Loyer  \\\n",
       "0    [164.95, 254.8, 346.8, 378.8]     378.80     164.95  286.337500   \n",
       "1                         [361.46]     361.46     361.46  361.460000   \n",
       "2         [343.79, 407.43, 558.75]     558.75     343.79  436.656667   \n",
       "3                 [338.21, 358.71]     358.71     338.21  348.460000   \n",
       "4         [309.15, 326.23, 360.49]     360.49     309.15  331.956667   \n",
       "..                             ...        ...        ...         ...   \n",
       "790  [235.1, 254.85, 357.3, 429.3]     429.30     235.10  319.137500   \n",
       "791                 [348.5, 406.2]     406.20     348.50  377.350000   \n",
       "792               [396.54, 470.56]     470.56     396.54  433.550000   \n",
       "793                        [363.0]     363.00     363.00  363.000000   \n",
       "794                [355.94, 439.9]     439.90     355.94  397.920000   \n",
       "\n",
       "                                          Surface  ...  Min Surface  \\\n",
       "0    [9.0, 9.0, 13.0, 18.0, 9.0, 9.0, 13.0, 18.0]  ...          9.0   \n",
       "1                                    [17.0, 19.0]  ...         17.0   \n",
       "2            [20.0, 30.0, 30.0, 35.0, 20.0, 30.0]  ...         20.0   \n",
       "3                        [18.0, 27.0, 18.0, 27.0]  ...         18.0   \n",
       "4                  [18.0, 28.0, 18.0, 22.0, 28.0]  ...         18.0   \n",
       "..                                            ...  ...          ...   \n",
       "790                        [9.0, 9.0, 17.0, 20.0]  ...          9.0   \n",
       "791                                  [20.0, 30.0]  ...         20.0   \n",
       "792                            [20.0, 30.0, 50.0]  ...         20.0   \n",
       "793                                        [18.0]  ...         18.0   \n",
       "794                                        [32.0]  ...         32.0   \n",
       "\n",
       "     Mean Surface  Longitude   Latitude                   geometry  \\\n",
       "0       12.250000  -1.563574  47.253632  POINT (-1.56357 47.25363)   \n",
       "1       18.000000  -1.551690  47.255104  POINT (-1.55169 47.25510)   \n",
       "2       27.500000  -1.543322  47.202522  POINT (-1.54332 47.20252)   \n",
       "3       22.500000  -1.558186  47.204868  POINT (-1.55819 47.20487)   \n",
       "4       22.800000  -1.577437  47.238487  POINT (-1.57744 47.23849)   \n",
       "..            ...        ...        ...                        ...   \n",
       "790     13.750000  -0.352633  49.199863  POINT (-0.35263 49.19986)   \n",
       "791     25.000000  -0.351412  49.200957  POINT (-0.35141 49.20096)   \n",
       "792     33.333333  -0.370730  49.212524  POINT (-0.37073 49.21252)   \n",
       "793     18.000000   0.116665  49.493511   POINT (0.11666 49.49351)   \n",
       "794     32.000000  -0.338206  49.202982  POINT (-0.33821 49.20298)   \n",
       "\n",
       "                     LIBGEO Loyer_prive_m2       departement  \\\n",
       "0                    Nantes    15.32628634  Loire-Atlantique   \n",
       "1                    Nantes    15.32628634  Loire-Atlantique   \n",
       "2                    Nantes    15.32628634  Loire-Atlantique   \n",
       "3                    Nantes    15.32628634  Loire-Atlantique   \n",
       "4                    Nantes    15.32628634  Loire-Atlantique   \n",
       "..                      ...            ...               ...   \n",
       "790                    Caen    14.34459394          Calvados   \n",
       "791                    Caen    14.34459394          Calvados   \n",
       "792                    Caen    14.34459394          Calvados   \n",
       "793                Le Havre    13.93122446    Seine-Maritime   \n",
       "794  Hérouville-Saint-Clair    13.70540711          Calvados   \n",
       "\n",
       "                                               Schools Nbstudents  \n",
       "0                                  [Nantes Université]      44394  \n",
       "1                                  [Nantes Université]      44394  \n",
       "2                                  [Nantes Université]      44394  \n",
       "3                                  [Nantes Université]      44394  \n",
       "4                                  [Nantes Université]      44394  \n",
       "..                                                 ...        ...  \n",
       "790  [École nationale supérieure d'ingénieurs de Ca...      32933  \n",
       "791  [École nationale supérieure d'ingénieurs de Ca...      32933  \n",
       "792  [École nationale supérieure d'ingénieurs de Ca...      32933  \n",
       "793                    [Université Le Havre Normandie]       7355  \n",
       "794  [École nationale supérieure d'ingénieurs de Ca...      32933  \n",
       "\n",
       "[795 rows x 21 columns]"
      ]
     },
     "execution_count": 23,
     "metadata": {},
     "output_type": "execute_result"
    }
   ],
   "source": [
    "df "
   ]
  }
 ],
 "metadata": {
  "kernelspec": {
   "display_name": "Python 3 (ipykernel)",
   "language": "python",
   "name": "python3"
  },
  "language_info": {
   "codemirror_mode": {
    "name": "ipython",
    "version": 3
   },
   "file_extension": ".py",
   "mimetype": "text/x-python",
   "name": "python",
   "nbconvert_exporter": "python",
   "pygments_lexer": "ipython3",
   "version": "3.10.4"
  }
 },
 "nbformat": 4,
 "nbformat_minor": 5
}
