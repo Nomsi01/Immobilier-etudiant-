{
 "cells": [
  {
   "cell_type": "code",
   "execution_count": 1,
   "id": "38e7290f-df9b-45b4-acc1-cd83d93404ec",
   "metadata": {},
   "outputs": [],
   "source": [
    "#!pip install geoplot\n",
    "#!pip install contextily\n",
    "#!pip install altair"
   ]
  },
  {
   "cell_type": "code",
   "execution_count": 2,
   "id": "7474ad37-f0fa-45d4-ab0e-e8a6a1ac3b75",
   "metadata": {},
   "outputs": [
    {
     "name": "stderr",
     "output_type": "stream",
     "text": [
      "[nltk_data] Downloading package punkt to /home/onyxia/nltk_data...\n",
      "[nltk_data]   Package punkt is already up-to-date!\n"
     ]
    },
    {
     "data": {
      "text/plain": [
       "True"
      ]
     },
     "execution_count": 2,
     "metadata": {},
     "output_type": "execute_result"
    }
   ],
   "source": [
    "import pandas as pd \n",
    "import matplotlib.pyplot as plt\n",
    "import numpy as np\n",
    "import statsmodels.api as sm\n",
    "import geopandas as gpd \n",
    "import nltk\n",
    "nltk.download('punkt')\n",
    "#import contextily as ctx\n",
    "#import geoplot as gplt\n",
    "#import geoplot.crs as gcrs\n",
    "#import folium\n",
    "#import seaborn as sns\n",
    "#import altair as alt "
   ]
  },
  {
   "cell_type": "markdown",
   "id": "953129fb-c4c6-400e-9927-628c53a8aff0",
   "metadata": {},
   "source": [
    "# Part I : Obtention du dataframe \n",
    "## 1.1.Récupération des loyers, des surfaces et de la localisation des résidences"
   ]
  },
  {
   "cell_type": "code",
   "execution_count": 3,
   "id": "2ab5e590-2677-4d1f-8234-bbc41ddf44fc",
   "metadata": {},
   "outputs": [],
   "source": [
    "df = pd.read_csv(\"fr_crous_logement_france_entiere.csv\", sep =';')\n"
   ]
  },
  {
   "cell_type": "code",
   "execution_count": 4,
   "id": "5ebddfa7-ef72-4de9-b50a-d2f5dc35eecd",
   "metadata": {},
   "outputs": [],
   "source": [
    "df = df[[\"title\", \"infos\", \"address\" ,\"geocalisation\", \"regions\"]]"
   ]
  },
  {
   "cell_type": "code",
   "execution_count": null,
   "id": "6c9c485a-1da0-4ff8-84d2-adc3610a4bdd",
   "metadata": {},
   "outputs": [
    {
     "name": "stderr",
     "output_type": "stream",
     "text": [
      "[nltk_data] Downloading package punkt to /home/onyxia/nltk_data...\n",
      "[nltk_data]   Package punkt is already up-to-date!\n"
     ]
    }
   ],
   "source": [
    "from functions_for_modelling import *\n",
    "\n",
    "df = get_loyer(df)\n",
    "df = get_surface(df)\n",
    "df = get_localisation(df) \n",
    "df"
   ]
  },
  {
   "cell_type": "markdown",
   "id": "6b0538f8-0806-4c31-8e09-3dd9498ff994",
   "metadata": {},
   "source": [
    "## 1.2.Récupération des loyers privés des communes (avec la géolocalisation des communes)"
   ]
  },
  {
   "cell_type": "code",
   "execution_count": null,
   "id": "d94c39f6-c289-46d4-b7e9-fa0d164dde10",
   "metadata": {},
   "outputs": [],
   "source": [
    "df_private = pd.read_csv(\"https://www.data.gouv.fr/fr/datasets/r/8fac6fb7-cd07-4747-8e0b-b101c476f0da\", encoding= 'unicode_escape', sep = \";\")\n"
   ]
  },
  {
   "cell_type": "markdown",
   "id": "8d09c0be-c1a5-4db3-b851-5e613a0ca5d8",
   "metadata": {},
   "source": [
    "On ne garde que le code INSEE, le nom de la ville et le loyer supérieur par m^2\n"
   ]
  },
  {
   "cell_type": "code",
   "execution_count": null,
   "id": "51cb5c91-c92e-4133-9ce2-6c0f2665ab64",
   "metadata": {},
   "outputs": [],
   "source": [
    "df_private = df_private[[\"INSEE\", \"LIBGEO\",\"upr.IPm2\"]]"
   ]
  },
  {
   "cell_type": "markdown",
   "id": "e728c188-5991-44c2-9566-c7cb90c3a1fc",
   "metadata": {},
   "source": [
    "On renomme la colonne INSEE en codgeo pour pouvoir la merger avec la carte des contours des villes."
   ]
  },
  {
   "cell_type": "code",
   "execution_count": null,
   "id": "c7bf2d90-62a9-474c-ab90-f77efc6bf158",
   "metadata": {},
   "outputs": [],
   "source": [
    "df_private.rename(columns = {'INSEE':'codgeo'}, inplace = True)"
   ]
  },
  {
   "cell_type": "code",
   "execution_count": null,
   "id": "c441ffe8-bc1f-4589-b3c4-947f07db55c2",
   "metadata": {},
   "outputs": [],
   "source": [
    "\"\"\"\n",
    "On rajoute un 0 devant le code INSEE quand il ne fait que quatre chiffres (pour uniformiser avec l'autre base).\n",
    "\"\"\"\n",
    "for i in range(0,df_private.shape[0]):\n",
    "    if  len(df_private[\"codgeo\"][i]) == 4: \n",
    "            df_private[\"codgeo\"][i] = \"0\" +  df_private[\"codgeo\"][i]"
   ]
  },
  {
   "cell_type": "code",
   "execution_count": null,
   "id": "20ce7545-85cd-4e22-98e6-db4d6c2d2923",
   "metadata": {},
   "outputs": [],
   "source": [
    "df_private = df_private.set_index('codgeo') #on réindex le dataframe avec le code INSEE pour merger après. "
   ]
  },
  {
   "cell_type": "markdown",
   "id": "525d5f3b-d3c2-4de5-b05e-8190adb58dda",
   "metadata": {},
   "source": [
    "On récuppère les contours géographique des communes.(prends du temps)"
   ]
  },
  {
   "cell_type": "code",
   "execution_count": null,
   "id": "9b90d1fc-2110-4d3c-a488-013aea0bf752",
   "metadata": {},
   "outputs": [],
   "source": [
    "gdf_communes_boundaries = gpd.read_file(\"https://www.data.gouv.fr/fr/datasets/r/e9391593-fa95-4153-aabe-87ca84d197e9\")"
   ]
  },
  {
   "cell_type": "markdown",
   "id": "ab77190e-13eb-4e35-acac-67468c7eff89",
   "metadata": {},
   "source": [
    "On ne garde que le code INSEE et les données polygoniales. "
   ]
  },
  {
   "cell_type": "code",
   "execution_count": null,
   "id": "f5f4a295-b1f4-42b5-9bbb-13608e477348",
   "metadata": {},
   "outputs": [],
   "source": [
    "gdf_communes_boundaries.rename(columns = {'INSEE_COM':'codgeo'}, inplace = True)\n",
    "gdf_communes_boundaries = gdf_communes_boundaries[[\"codgeo\", \"geometry\"]]\n",
    "gdf_communes_boundaries = gdf_communes_boundaries.set_index('codgeo')\n"
   ]
  },
  {
   "cell_type": "markdown",
   "id": "dd57dd54-e63e-4235-a0a6-8fae425120e3",
   "metadata": {},
   "source": [
    "On concatène les deux datafarmes"
   ]
  },
  {
   "cell_type": "code",
   "execution_count": null,
   "id": "a11dc288-49b8-475b-a900-54e01fd3741d",
   "metadata": {},
   "outputs": [],
   "source": [
    "gdf_private = pd.concat([df_private,gdf_communes_boundaries], axis = 1, join = \"inner\")"
   ]
  },
  {
   "cell_type": "markdown",
   "id": "0dc65fbe-bb25-4b68-a2c0-29a616c68f6b",
   "metadata": {},
   "source": [
    "## 1.3. Jointures spatiales"
   ]
  },
  {
   "cell_type": "code",
   "execution_count": null,
   "id": "22ecc069-82cd-4aa2-aa36-4d2eec09154b",
   "metadata": {},
   "outputs": [],
   "source": [
    "\n",
    "#gdf_private['geometry'] = gdf_private['geometry'].apply(wkt.loads) #on transforme en format wkt (sinon ça ne marche pas)\n",
    "gdf_private = gpd.GeoDataFrame(gdf_private)  #on transforme en geodataframe \n",
    "df = gpd.sjoin(df, gdf_private, how='left', op='within') #on réalise la jointure à gauche avec within \n",
    "#i.e si le point est dans le polynôme. "
   ]
  },
  {
   "cell_type": "code",
   "execution_count": null,
   "id": "74ce5391-2321-4cde-bfcd-64ebc689a91e",
   "metadata": {},
   "outputs": [],
   "source": [
    "del df['index_right'] #on supprime l'index right pour la prochaine jointure\n",
    "df"
   ]
  },
  {
   "cell_type": "markdown",
   "id": "bce9cb34-c700-445f-8a1f-448d93db8e4a",
   "metadata": {},
   "source": [
    "## 1.4 Ajout des départements "
   ]
  },
  {
   "cell_type": "code",
   "execution_count": null,
   "id": "0fd3a918-6dcd-4230-932d-1d9c691093b6",
   "metadata": {},
   "outputs": [],
   "source": [
    "gdf_dep = gpd.read_file(\"https://www.data.gouv.fr/fr/datasets/r/eb36371a-761d-44a8-93ec-3d728bec17ce\")\n",
    "gdf_dep.rename(columns = {'nom':'departement'}, inplace = True)\n",
    "gdf_dep = gdf_dep[[\"departement\", \"geometry\"]]\n",
    "gdf_dep"
   ]
  },
  {
   "cell_type": "code",
   "execution_count": null,
   "id": "75f05f9a-e0f6-4db4-8c83-ecba4316f352",
   "metadata": {},
   "outputs": [],
   "source": [
    "df = gpd.sjoin(df, gdf_dep, how='left', op='within')\n"
   ]
  },
  {
   "cell_type": "code",
   "execution_count": null,
   "id": "bab90a5e-18a2-4a4a-a874-3a83db3c6162",
   "metadata": {},
   "outputs": [],
   "source": [
    "df"
   ]
  },
  {
   "cell_type": "code",
   "execution_count": null,
   "id": "61c6c21f-3e91-418b-a068-655de8fa3789",
   "metadata": {},
   "outputs": [],
   "source": [
    "del df['index_right'] #on supprime l'index right pour la prochaine jointure\n",
    "df"
   ]
  },
  {
   "cell_type": "markdown",
   "id": "9b0b1f51-617b-4193-952c-9eb2bb22282b",
   "metadata": {},
   "source": [
    "## 1.5. Association de résidences à une école "
   ]
  },
  {
   "cell_type": "code",
   "execution_count": null,
   "id": "da36b406-66e8-42fc-96c5-c8f3481c0a97",
   "metadata": {},
   "outputs": [],
   "source": [
    "df.crs = \"epsg:4326\" #on définit la projection de notre dataframe"
   ]
  },
  {
   "cell_type": "code",
   "execution_count": null,
   "id": "e485cdb1-a55b-4a09-8f57-8c57120b68b4",
   "metadata": {},
   "outputs": [],
   "source": [
    "\"\"\"\n",
    "Calcul d'un cercle de 20 km autour de la résidence\n",
    "\"\"\"\n",
    "df1 = df\n",
    "df1 = df1.to_crs(epsg = 3395) #On prend une projection en mètres\n",
    "df1['geometry'] = df1['geometry'].buffer(20000) #On prend un rayon de 20km \n",
    "df1 = df1.to_crs(4326) #on repasse dans la projection uselle \n",
    "df1"
   ]
  },
  {
   "cell_type": "code",
   "execution_count": null,
   "id": "712af093-5a58-4345-a6e3-3216bf4a7fdf",
   "metadata": {},
   "outputs": [],
   "source": [
    "\"\"\"\n",
    "Import de notre base de données des écoles \n",
    "\"\"\"\n",
    "df_schools = pd.read_csv(\"https://www.data.gouv.fr/fr/datasets/r/0c713161-26fb-415e-ac1d-8769125f338d\", sep = \";\")"
   ]
  },
  {
   "cell_type": "code",
   "execution_count": null,
   "id": "00d985de-bd37-4b75-aede-2424d41ea881",
   "metadata": {},
   "outputs": [],
   "source": [
    "df_schools = df_schools[df_schools[\"annee_universitaire\"] == \"2021-22\" ] #on ne prend que l'année 2021-22\n",
    "df_schools = df_schools[[\"etablissement_lib\", \"effectif_sans_cpge\", \"etablissement_code_commune\", \"etablissement_commune\"]]"
   ]
  },
  {
   "cell_type": "code",
   "execution_count": null,
   "id": "281e8cd2-0ad9-4289-a8a4-2c9fa8324323",
   "metadata": {},
   "outputs": [],
   "source": [
    "df_schools"
   ]
  },
  {
   "cell_type": "code",
   "execution_count": null,
   "id": "8a8ea9b4-75ec-4b71-b265-e0279a37fe6d",
   "metadata": {},
   "outputs": [],
   "source": [
    "df_schools.rename(columns = {'etablissement_code_commune':'codgeo'}, inplace = True) #On renomme la colonne pour la jointure\n"
   ]
  },
  {
   "cell_type": "code",
   "execution_count": null,
   "id": "69c4469f-950d-4297-a8d4-e9517ee22953",
   "metadata": {},
   "outputs": [],
   "source": [
    "index_with_nan = df_schools.index[df_schools.isnull().any(axis=1)]\n",
    "df_schools.drop(index_with_nan,0, inplace=True) #on enlève les valeurs manquantes"
   ]
  },
  {
   "cell_type": "code",
   "execution_count": null,
   "id": "c41993f5-bb89-48a1-a848-bd1da7e2f1e3",
   "metadata": {},
   "outputs": [],
   "source": [
    "df_schools.set_index('codgeo', inplace = True)\n",
    "df_schools"
   ]
  },
  {
   "cell_type": "code",
   "execution_count": null,
   "id": "042fa8fe-e826-4074-b995-d3b6125bf824",
   "metadata": {},
   "outputs": [],
   "source": [
    "df_schools = df_schools.join(gdf_communes_boundaries)\n",
    "df_schools"
   ]
  },
  {
   "cell_type": "code",
   "execution_count": null,
   "id": "771c8fcf-ef59-4ff2-b3e1-235d2088a42a",
   "metadata": {},
   "outputs": [],
   "source": [
    "df_schools = gpd.GeoDataFrame(df_schools)\n",
    "df_schools.crs = \"epsg:4326\""
   ]
  },
  {
   "cell_type": "code",
   "execution_count": null,
   "id": "a5b78cc4-9cf4-4d5f-94db-85d24f681c4b",
   "metadata": {},
   "outputs": [],
   "source": [
    "\"\"\"\n",
    "essai sur la résidence de Cergy \n",
    "\"\"\"\n",
    "a = df_schools.within(df1[\"geometry\"][1])\n",
    "i = 0 \n",
    "for element in a : \n",
    "    if element == True: \n",
    "        print(df_schools['etablissement_lib'][i])\n",
    "    i = i + 1"
   ]
  },
  {
   "cell_type": "code",
   "execution_count": null,
   "id": "ef646001-104a-4678-9e1b-20f7800ffce5",
   "metadata": {},
   "outputs": [],
   "source": [
    "Schools = [] #on crée une liste pour stocker la liste des écoles \n",
    "Nbstudents = [] #on crée une liste pour stocker la liste du nombre d'étudiants\n",
    "Nbstudents_total  = []\n",
    "for residence in df1[\"geometry\"]: #on prend pour chaque résidence le cercle de 5 km autour de cette résidence\n",
    "    S = [] #stocke les écoles pour la résidence\n",
    "    N = [] #idem pour le nb d'étudiants \n",
    "    i = 0 #index \n",
    "    a = df_schools.within(residence) #On utilise gpd.within qui regarde pour chaque élèment si sa coordonnée est dans le polygone résidence\n",
    "    for element in a : #on regarde pour chaque élèment de a si l'école est dans le cercle de 5km autour de la résidence\n",
    "        if element == True: \n",
    "            S.append(df_schools['etablissement_lib'][i]) #on ajoute l'école de l'index i \n",
    "            N.append(df_schools['effectif_sans_cpge'][i]) #idem pour le nombre d'étudiants\n",
    "        i = i + 1\n",
    "    Schools.append(S) \n",
    "    Nbstudents.append(N)\n",
    "    Nbstudents_total.append(sum(N))\n",
    "df['Schools'] = Schools\n",
    "df['Nbstudents'] = Nbstudents\n",
    "df['Nbstudents_total'] = Nbstudents_total\n",
    "df\n",
    "       "
   ]
  },
  {
   "cell_type": "markdown",
   "id": "fb7b19d6-4b80-47ab-908a-6ebaa9814d2b",
   "metadata": {},
   "source": [
    "# II. Visualisation "
   ]
  },
  {
   "cell_type": "markdown",
   "id": "c67c13e5-407e-4a62-a47c-ffde8a740b27",
   "metadata": {},
   "source": [
    "## 2.1 Portrait économique et statistique des résidences"
   ]
  },
  {
   "cell_type": "code",
   "execution_count": null,
   "id": "f7e2fa76-644d-4306-b028-0eafd3436395",
   "metadata": {},
   "outputs": [],
   "source": [
    "df['prix_par_m2_min'] = df['Min Loyer']/df['Min Surface'] # On crée une nouvelle variable prix_par_m2_min "
   ]
  },
  {
   "cell_type": "code",
   "execution_count": null,
   "id": "113ffcbe-5fa9-4e9c-9ab5-67c162a0883e",
   "metadata": {},
   "outputs": [],
   "source": [
    "df[\"upr.IPm2\"] = df[\"upr.IPm2\"].apply(lambda x : x.replace(',', '.')) #on remplace les , par des points pour ensuite transformet cette colonne en float\n"
   ]
  },
  {
   "cell_type": "code",
   "execution_count": null,
   "id": "8ec41670-cc92-4fc5-a72a-c30a68727d60",
   "metadata": {},
   "outputs": [],
   "source": [
    "df[\"upr.IPm2\"] = df[\"upr.IPm2\"].astype(float)"
   ]
  },
  {
   "cell_type": "code",
   "execution_count": null,
   "id": "82e53299-e6f7-472a-a837-12c292391ef0",
   "metadata": {},
   "outputs": [],
   "source": [
    "df.groupby(['departement']).mean().sort_values('prix_par_m2_min')"
   ]
  },
  {
   "cell_type": "markdown",
   "id": "ca9a4f96-4d0a-42a8-8ed3-fbbca000e9fa",
   "metadata": {},
   "source": [
    "## Ajout de la colonne 'prix_par_m2_max'(qui correspond le plus souvent à des logements en colocation (T2/T3/T4))"
   ]
  },
  {
   "cell_type": "code",
   "execution_count": null,
   "id": "ba409b3d-e959-405a-b21a-e056d94f3c83",
   "metadata": {},
   "outputs": [],
   "source": [
    "df['prix_par_m2_max'] = df['Max Loyer']/df['Max Surface'] # On crée une nouvelle variable prix_par_m2_min "
   ]
  },
  {
   "cell_type": "code",
   "execution_count": null,
   "id": "3a4b8fd9-d125-403d-97a8-469b0ae998f7",
   "metadata": {},
   "outputs": [],
   "source": [
    "df.groupby(['departement']).mean().sort_values('prix_par_m2_max')"
   ]
  },
  {
   "cell_type": "code",
   "execution_count": null,
   "id": "078ed486-ef47-483d-bb8f-986bf04b7a91",
   "metadata": {},
   "outputs": [],
   "source": [
    "df_max = df.groupby(['departement']).mean().sort_values('prix_par_m2_max')\n",
    "df_max = df_max.loc[(df_max['prix_par_m2_min']>1)] "
   ]
  },
  {
   "cell_type": "code",
   "execution_count": null,
   "id": "bcd8ffea-cba0-4a01-82b9-85cdfe340558",
   "metadata": {},
   "outputs": [],
   "source": [
    "df_max['departement'] = df_max.index #je crée une colonne qui correspond à l'index (la colonne regions)"
   ]
  },
  {
   "cell_type": "markdown",
   "id": "b72083ae-1acf-48bd-ab67-01152826e6dc",
   "metadata": {},
   "source": [
    "## Ajout de la colonne 'prix_par_m2_mean'(qui correspond à la moyenne des loyers des logements porposés) "
   ]
  },
  {
   "cell_type": "code",
   "execution_count": null,
   "id": "98b44235-56c5-4a27-8cad-f0631a17d0dd",
   "metadata": {},
   "outputs": [],
   "source": [
    "df['prix_par_m2_mean'] = df['Mean Loyer']/df['Mean Surface'] # On crée une nouvelle variable prix_par_m2_mean"
   ]
  },
  {
   "cell_type": "markdown",
   "id": "c6ebb800-6359-484a-a091-0594d711cdaa",
   "metadata": {},
   "source": [
    "# Modélisation "
   ]
  },
  {
   "cell_type": "markdown",
   "id": "c61e347a-e7b9-4e0d-b8a1-d31bb48dd1db",
   "metadata": {},
   "source": [
    "On commence par enlever les NaN du dataframe qui bloquent la regression linéaire"
   ]
  },
  {
   "cell_type": "code",
   "execution_count": null,
   "id": "78721de5-ed14-4d1b-93ac-35eb15c5d13c",
   "metadata": {},
   "outputs": [],
   "source": [
    "from sklearn.linear_model import LinearRegression\n",
    "import math\n",
    "from sklearn.model_selection import train_test_split"
   ]
  },
  {
   "cell_type": "code",
   "execution_count": null,
   "id": "10489cd5-7a05-4665-9635-9f2d953cdf09",
   "metadata": {},
   "outputs": [],
   "source": [
    "#on commence par retirer les NaN pour que les régressions fonctionnent\n",
    "df.isnull().sum()\n",
    "df2 = df\n",
    "index_with_nan = df2.index[df2.isnull().any(axis=1)]\n",
    "print(index_with_nan.shape)\n",
    "df2.drop(index_with_nan,0, inplace=True)\n",
    "print(df2[['Mean Loyer', 'Mean Surface']].isnull().sum())\n",
    "df2 = df2.reset_index()\n",
    "df2"
   ]
  },
  {
   "cell_type": "markdown",
   "id": "fcca2506-d619-4ab1-80f2-4f909dd78a5b",
   "metadata": {},
   "source": [
    "### Regressions linéaires OLS"
   ]
  },
  {
   "cell_type": "markdown",
   "id": "8bb441be-aae3-4a8e-a885-22e6e274518e",
   "metadata": {},
   "source": [
    "#### https://www.statology.org/simple-linear-regression-in-python/"
   ]
  },
  {
   "cell_type": "code",
   "execution_count": null,
   "id": "46e4155c-b23a-4487-845b-26818ab8d1f7",
   "metadata": {},
   "outputs": [],
   "source": [
    "print(df2['Mean Surface'].describe()) #on vérifie qu'il n'y a pas de valeurs incohérentes (min, max) qui viendraient fausser les résultats\n",
    "print(df2['Mean Loyer'].describe())"
   ]
  },
  {
   "cell_type": "code",
   "execution_count": null,
   "id": "5ab909e5-ceb0-43fb-80d4-dadb20836a60",
   "metadata": {},
   "outputs": [],
   "source": [
    "plt.scatter(df2['Mean Surface'], df2['Mean Loyer']) #on regarde la répartition des loyers en fonction de la surface.\n",
    "plt.title('Loyer en fonction de la surface en mètre carrés')\n",
    "plt.xlabel('Surface (en mètre carré)')\n",
    "plt.ylabel('Loyer (en euros)')\n",
    "plt.show()\n"
   ]
  },
  {
   "cell_type": "code",
   "execution_count": null,
   "id": "9c5fbc81-46fe-416a-bd52-2c7fc1afce7e",
   "metadata": {},
   "outputs": [],
   "source": [
    "#define response variable\n",
    "y = df2['Mean Loyer']\n",
    "\n",
    "#define explanatory variable\n",
    "x = df2['Mean Surface']\n",
    "\n",
    "#add constant to predictor variables\n",
    "x = sm.add_constant(x)\n",
    "\n",
    "#fit linear regression model\n",
    "model = sm.OLS(y, x).fit()\n",
    "\n",
    "#view model summary\n",
    "print(model.summary())"
   ]
  },
  {
   "cell_type": "code",
   "execution_count": null,
   "id": "0fd1c51e-ba55-4be3-8ca1-42b6d4019199",
   "metadata": {},
   "outputs": [],
   "source": [
    "#le R² est faible: la variable explicative (ici la surface moyenne) n'est pas très utile pour prédire le résultat. "
   ]
  },
  {
   "cell_type": "code",
   "execution_count": null,
   "id": "213435e8-c35e-4b7e-bdf5-27b3d91e96a4",
   "metadata": {},
   "outputs": [],
   "source": [
    "#define figure size\n",
    "fig = plt.figure(figsize=(12,8))\n",
    "\n",
    "#produce residual plots\n",
    "fig = sm.graphics.plot_regress_exog(model, 'Mean Surface', fig=fig)"
   ]
  },
  {
   "cell_type": "code",
   "execution_count": null,
   "id": "68c7610f-6131-488a-b6d5-ba626c90f545",
   "metadata": {},
   "outputs": [],
   "source": [
    "#define residuals\n",
    "res = model.resid\n",
    "\n",
    "#create Q-Q plot\n",
    "fig = sm.qqplot(res, fit=True, line=\"45\")\n",
    "plt.show() \n"
   ]
  },
  {
   "cell_type": "markdown",
   "id": "e3b6d6ba-64e9-42db-8a0d-31c207bf3b88",
   "metadata": {},
   "source": [
    "### Régression linéaire du prix par m² des résidences Crous ('Mean Loyer'/'Mean Surface') expliqué par le prix au m² des résidences privées"
   ]
  },
  {
   "cell_type": "code",
   "execution_count": null,
   "id": "e4b8f12d-3649-4d9d-ada8-a9bf94fd9084",
   "metadata": {},
   "outputs": [],
   "source": [
    "plt.scatter(df2['upr.IPm2'], df2['Mean Loyer']/df2['Mean Surface'])\n",
    "plt.title('prix par m² en résidence privée vs. prix par m² en résidence crous')\n",
    "plt.xlabel('résidences privées')\n",
    "plt.ylabel('résidences crous')\n",
    "plt.show()"
   ]
  },
  {
   "cell_type": "code",
   "execution_count": null,
   "id": "e51d08c1-1cf7-4ed4-accb-556e807e3970",
   "metadata": {},
   "outputs": [],
   "source": [
    "from functions_for_modelling import *\n",
    "get_OLS_reg(df2['upr.IPm2'],df2['Mean Loyer']/df2['Mean Surface'])"
   ]
  },
  {
   "cell_type": "code",
   "execution_count": null,
   "id": "8bf85160-e717-4809-ae46-21d7c50173b2",
   "metadata": {},
   "outputs": [],
   "source": [
    "Y = df2['Mean Loyer']/df2['Mean Surface'] #on définit la variable Y, le prix du m² moyen des résidences crous\n",
    "X = df2[['upr.IPm2']] #la variable explicative est le prix au m² des résidences privées\n",
    "\n",
    "X = sm.add_constant(X) #on ajoute une constante au vecteur des variables explicatives\n",
    "\n",
    "#fit linear regression model\n",
    "model = sm.OLS(Y, X).fit()\n",
    "\n",
    "#view model summary\n",
    "print(model.summary())"
   ]
  },
  {
   "cell_type": "code",
   "execution_count": null,
   "id": "f35c4add-783b-4fc1-8bb4-b2c78fbdb4f3",
   "metadata": {},
   "outputs": [],
   "source": [
    "#le R² est très proche de zéro: comme on pouvait s'y attendre, le prix par mètre carré des loyers privés ne permet pas d'expliquer le prix par mètre carré des loyers des résidences du crous"
   ]
  },
  {
   "cell_type": "code",
   "execution_count": null,
   "id": "bc44077b-3af0-4635-a0e0-0031c4d99b99",
   "metadata": {},
   "outputs": [],
   "source": [
    "#regardons si les résidus semblent homoscedastiques ou pas"
   ]
  },
  {
   "cell_type": "code",
   "execution_count": null,
   "id": "a6dddf33-c332-4f65-b996-7ff66a65d009",
   "metadata": {},
   "outputs": [],
   "source": [
    "#define figure size\n",
    "fig = plt.figure(figsize=(12,8))\n",
    "\n",
    "#produce residual plots\n",
    "fig = sm.graphics.plot_regress_exog(model, 'upr.IPm2', fig=fig)"
   ]
  },
  {
   "cell_type": "code",
   "execution_count": null,
   "id": "61814ea6-d2f9-4d09-a9ab-8a2dc8dcec8f",
   "metadata": {},
   "outputs": [],
   "source": [
    "#define residuals\n",
    "res = model.resid\n",
    "\n",
    "#create Q-Q plot\n",
    "fig = sm.qqplot(res, fit=True, line=\"45\")\n",
    "plt.show() "
   ]
  },
  {
   "cell_type": "markdown",
   "id": "1cd7cd55-0086-460a-a8c2-dfe95f20d4f1",
   "metadata": {},
   "source": [
    "### Régression linéaire du loyer en fonction du nombre d'étudiants total"
   ]
  },
  {
   "cell_type": "code",
   "execution_count": null,
   "id": "588869c3-83c1-44f8-89c9-8ab6d02a4c94",
   "metadata": {},
   "outputs": [],
   "source": [
    "#on crée un nouveau dataframe df_students où on ne garde que les résidences avec plus de 1000 étudiants\n",
    "i = df2[df2['Nbstudents_total']<=1000].index.values\n",
    "df_students = df2.drop(i,axis=0) "
   ]
  },
  {
   "cell_type": "code",
   "execution_count": null,
   "id": "e4006ec4-e676-4cfd-aa81-fcad122c494f",
   "metadata": {},
   "outputs": [],
   "source": [
    "plt.scatter(df_students['Nbstudents_total'], df_students['Mean Loyer']) #on regarde la répartition des loyers en fonction de la surface.\n",
    "plt.title(\"Loyer en fonction du nombre d'étudiants présents\")\n",
    "plt.xlabel(\"Nombre d'étudiants\")\n",
    "plt.ylabel('Loyer (en euros)')\n",
    "plt.show()"
   ]
  },
  {
   "cell_type": "code",
   "execution_count": null,
   "id": "d0177f39-e3d4-4e35-96ce-a9fed0edb01f",
   "metadata": {},
   "outputs": [],
   "source": [
    "get_OLS_reg(df_students['Nbstudents_total'],df_students['Mean Loyer'])"
   ]
  },
  {
   "cell_type": "markdown",
   "id": "c2cc909f-31c0-44c1-884b-b8559d745d1a",
   "metadata": {},
   "source": [
    "### Régression longue du prix par mètre carré des résidences Crous ('Mean Loyer'/'Mean Surface') expliqué par le nombre d'étudians total et le prix au mètre carré des résidences privées"
   ]
  },
  {
   "cell_type": "code",
   "execution_count": null,
   "id": "d15254c2-c48a-4cb6-ade9-7567f6d135e2",
   "metadata": {},
   "outputs": [],
   "source": [
    "get_OLS_reg(df_students[['Nbstudents_total','upr.IPm2']],df_students['Mean Loyer']/df_students['Mean Surface'])"
   ]
  },
  {
   "cell_type": "code",
   "execution_count": null,
   "id": "44ed86ee-024a-4942-af70-818c508efe69",
   "metadata": {},
   "outputs": [],
   "source": [
    "Y = df_students['Mean Loyer']/df_students['Mean Surface'] #on définit la variable Y, le prix du m² moyen des résidences crous\n",
    "X = df_students[['Nbstudents_total','upr.IPm2']] #la variable explicative est le prix au m² des résidences privées\n",
    "\n",
    "X = sm.add_constant(X) #on ajoute une constante au vecteur des variables explicatives\n",
    "\n",
    "#fit linear regression model\n",
    "model = sm.OLS(Y, X).fit()\n",
    "\n",
    "#view model summary\n",
    "print(model.summary())"
   ]
  },
  {
   "cell_type": "code",
   "execution_count": null,
   "id": "f7b0885f-e50e-4a64-807d-5f6bbc559315",
   "metadata": {},
   "outputs": [],
   "source": [
    "#define residuals\n",
    "res = model.resid\n",
    "\n",
    "#create Q-Q plot\n",
    "fig = sm.qqplot(res, fit=True, line=\"45\")\n",
    "plt.show() "
   ]
  },
  {
   "cell_type": "code",
   "execution_count": null,
   "id": "ca0536ef-d5a9-4674-9b5b-4ae23c542d29",
   "metadata": {},
   "outputs": [],
   "source": [
    "#on obtient presque le même graphique que pour la régression simple des prix au mètre carré des résidences crous sur les prix au mètre carré des résidences privées.\n",
    "#le coefficient associé au nombre d'étudiants total est extrêmement faible."
   ]
  },
  {
   "cell_type": "markdown",
   "id": "409ffbc4-6eb6-41b7-a3d9-a4fea08d5211",
   "metadata": {},
   "source": [
    "## Regressions linéaires avec le module LinearRegression de sklearn"
   ]
  },
  {
   "cell_type": "markdown",
   "id": "794f81de-477f-4f87-a502-63b7c628c7e8",
   "metadata": {},
   "source": [
    "### On reprend la première régression effectuée plus haut: le loyer moyen expliqué par la surface moyenne"
   ]
  },
  {
   "cell_type": "code",
   "execution_count": null,
   "id": "8284cca3-8168-408a-9a74-295b8c76f4dc",
   "metadata": {},
   "outputs": [],
   "source": [
    "get_sklearn_regression(df2['Mean Surface'],df2['Mean Loyer'],'Loyer_moyen','Surface_moyenne')"
   ]
  },
  {
   "cell_type": "code",
   "execution_count": null,
   "id": "41f74181-7301-4e61-947e-35c4cf6bd72a",
   "metadata": {},
   "outputs": [],
   "source": [
    "var_explicatives = df2['Mean Surface']\n",
    "YLoyer = df2['Mean Loyer']\n",
    "#on transforme Y et X en matrices colonnes\n",
    "YLoyer = np.array(YLoyer).reshape(-1,1)\n",
    "var_explicatives = (np.array(var_explicatives).reshape(-1,1))"
   ]
  },
  {
   "cell_type": "code",
   "execution_count": null,
   "id": "17ae64bd-1498-4fec-8a5a-629b551cec33",
   "metadata": {},
   "outputs": [],
   "source": [
    "X_train, X_test, Y_train, Y_test = train_test_split(var_explicatives,YLoyer,test_size=0.3,train_size=0.7)\n",
    "lin= LinearRegression()\n",
    "reg = lin.fit(X_train,Y_train)\n",
    "pred_train = lin.predict(X_train)\n",
    "pred_test = lin.predict(X_test)\n",
    "\n",
    "coefficients_sans_cst= reg.coef_\n",
    "r_2 = reg.score(X_train,Y_train)\n",
    "print(r_2)\n",
    "print(coefficients_sans_cst)"
   ]
  },
  {
   "cell_type": "code",
   "execution_count": null,
   "id": "af662984-10a2-4612-84c7-f76692af8c9e",
   "metadata": {},
   "outputs": [],
   "source": [
    "#On trouve un résultat légèrement différent de celui avec sm.OLS"
   ]
  },
  {
   "cell_type": "code",
   "execution_count": null,
   "id": "28761d4d-3ce1-4b3c-a9b7-97099ebb89b8",
   "metadata": {},
   "outputs": [],
   "source": [
    "\n",
    "plt.scatter(X_train, Y_train, color='red') # plotting the observation line\n",
    " \n",
    "plt.plot(X_train, lin.predict(X_train), color='blue') # plotting the regression line\n",
    " \n",
    "plt.title(\"Loyer moyen vs Surface moyenne (Training set)\") # stating the title of the graph\n",
    " \n",
    "plt.xlabel(\"Surface moyenne\") # adding the name of x-axis\n",
    "plt.ylabel(\"Loyer moyen\") # adding the name of y-axis\n",
    "plt.show() # specifies end of graph\n"
   ]
  },
  {
   "cell_type": "code",
   "execution_count": null,
   "id": "684dcf4c-a40a-4b3c-894c-6ff0e69b1074",
   "metadata": {},
   "outputs": [],
   "source": [
    "#Deuxième essai: regression linéaire du min Loyer sur min surface "
   ]
  },
  {
   "cell_type": "code",
   "execution_count": null,
   "id": "d847cc1a-537e-43ba-8786-434d4da87244",
   "metadata": {},
   "outputs": [],
   "source": [
    "df2[['Min Loyer', 'Min Surface']].isnull().sum()"
   ]
  },
  {
   "cell_type": "code",
   "execution_count": null,
   "id": "591734da-18dd-470b-82ac-46d3294760f0",
   "metadata": {},
   "outputs": [],
   "source": [
    "X_min_surface = df2['Min Surface'] #la variable explicative\n",
    "Y_min_Loyer = df2['Min Loyer']\n",
    "#on transforme Y et X en array que l'on reformate\n",
    "Y_min_Loyer = np.array(Y_min_Loyer).reshape(-1,1)\n",
    "X_min_surface = (np.array(X_min_surface).reshape(-1,1))"
   ]
  },
  {
   "cell_type": "code",
   "execution_count": null,
   "id": "862dfff6-250e-4196-bcae-c012314b9fd8",
   "metadata": {},
   "outputs": [],
   "source": [
    "X_train, X_test, Y_train, Y_test = train_test_split(X_min_surface,Y_min_Loyer,test_size=0.2,train_size=0.8)\n",
    "lin= LinearRegression()\n",
    "reg = lin.fit(X_train,Y_train)\n",
    "pred_train = lin.predict(X_train)\n",
    "pred_test = lin.predict(X_test)\n",
    "\n",
    "coefficients_sans_cst= reg.coef_\n",
    "r_2 = reg.score(X_train,Y_train)\n",
    "print(r_2)\n",
    "print(coefficients_sans_cst) "
   ]
  },
  {
   "cell_type": "code",
   "execution_count": null,
   "id": "90f00d93-c215-4c6b-ac62-7c6d4f8280d1",
   "metadata": {},
   "outputs": [],
   "source": [
    "#avec la régression du min Loyer sur min Surface, on a un R² peu significatif"
   ]
  },
  {
   "cell_type": "markdown",
   "id": "428255eb-aef5-4d88-878e-711f17db54c0",
   "metadata": {},
   "source": [
    "#### Regression linéaire du Loyer sur le nombre total d'étudiants"
   ]
  },
  {
   "cell_type": "code",
   "execution_count": null,
   "id": "a6ddd7a5-e0ca-40bd-a493-2a90ebbf9267",
   "metadata": {},
   "outputs": [],
   "source": [
    "X_Nbstudents = df_students['Nbstudents_total'] #la variable explicative\n",
    "YLoyer = df_students['Mean Loyer']\n",
    "#on transforme Y et X en array que l'on reformate\n",
    "YLoyer = np.array(YLoyer).reshape(-1,1)\n",
    "X_Nbstudents = (np.array(X_Nbstudents).reshape(-1,1))"
   ]
  },
  {
   "cell_type": "code",
   "execution_count": null,
   "id": "f59ffff8-f10e-4d26-8f18-6c9fde6fb960",
   "metadata": {},
   "outputs": [],
   "source": [
    "X_train, X_test, Y_train, Y_test = train_test_split(X_Nbstudents,YLoyer,test_size=0.2,train_size=0.8)\n",
    "lin= LinearRegression()\n",
    "reg = lin.fit(X_train,Y_train)\n",
    "pred_train = lin.predict(X_train)\n",
    "pred_test = lin.predict(X_test)\n",
    "\n",
    "coefficients_sans_cst= reg.coef_\n",
    "r_2 = reg.score(X_train,Y_train)\n",
    "print(r_2)\n",
    "print(coefficients_sans_cst) "
   ]
  },
  {
   "cell_type": "code",
   "execution_count": null,
   "id": "233e7bb4-abf6-4796-af41-9cfae424eacc",
   "metadata": {},
   "outputs": [],
   "source": [
    "plt.scatter(X_train, Y_train, color='red') # plotting the observation line\n",
    " \n",
    "plt.plot(X_train, lin.predict(X_train), color='blue') # plotting the regression line\n",
    " \n",
    "plt.title(\"Loyer moyen vs Nombre d'étudiants total (Training set)\") # stating the title of the graph\n",
    " \n",
    "plt.xlabel(\"Nb d'étudiants total\") # adding the name of x-axis\n",
    "plt.ylabel(\"Loyer moyen\") # adding the name of y-axis\n",
    "plt.show() # specifies end of graph"
   ]
  },
  {
   "cell_type": "code",
   "execution_count": null,
   "id": "3a6bf296-85c2-4e76-95d7-c67432884897",
   "metadata": {},
   "outputs": [],
   "source": [
    "#Regression linéaire du Loyer sur le LOG du nombre total d'étudiants"
   ]
  },
  {
   "cell_type": "code",
   "execution_count": null,
   "id": "7eae9e08-2535-472c-9c95-256ff4a5afce",
   "metadata": {},
   "outputs": [],
   "source": [
    "X_log_Nbstudents = np.log(df_students['Nbstudents_total']) #la variable explicative\n",
    "YLoyer = df_students['Mean Loyer']\n",
    "#on transforme Y et X en array que l'on reformate\n",
    "YLoyer = np.array(YLoyer).reshape(-1,1)\n",
    "X_log_Nbstudents = (np.array(X_log_Nbstudents).reshape(-1,1))"
   ]
  },
  {
   "cell_type": "code",
   "execution_count": null,
   "id": "031a440a-2dbd-4d0b-be97-4611914d4e78",
   "metadata": {},
   "outputs": [],
   "source": [
    "X_train, X_test, Y_train, Y_test = train_test_split(X_log_Nbstudents,YLoyer,test_size=0.2,train_size=0.8)\n",
    "lin= LinearRegression()\n",
    "reg = lin.fit(X_train,Y_train)\n",
    "pred_train = lin.predict(X_train)\n",
    "pred_test = lin.predict(X_test)\n",
    "\n",
    "coefficients_sans_cst= reg.coef_\n",
    "r_2 = reg.score(X_train,Y_train)\n",
    "print(r_2)\n",
    "print(coefficients_sans_cst) "
   ]
  },
  {
   "cell_type": "code",
   "execution_count": null,
   "id": "27fe3c31-16f4-4ec2-9f9c-fd9e1f2f2688",
   "metadata": {},
   "outputs": [],
   "source": [
    "plt.scatter(X_train, Y_train, color='red') # plotting the observation line\n",
    " \n",
    "plt.plot(X_train, lin.predict(X_train), color='blue') # plotting the regression line\n",
    " \n",
    "plt.title(\"Loyer moyen en fonction du logarithme du nombre d'étudiants total (Training set)\") # stating the title of the graph\n",
    " \n",
    "plt.xlabel(\"Logarithme du nombre d'étudiants total\") # adding the name of x-axis\n",
    "plt.ylabel(\"Loyer moyen\") # adding the name of y-axis\n",
    "plt.show() # specifies end of graph"
   ]
  },
  {
   "cell_type": "code",
   "execution_count": null,
   "id": "5e8b68cb-2a4e-4081-b056-010850db77ab",
   "metadata": {},
   "outputs": [],
   "source": [
    "#régression linéaire du "
   ]
  }
 ],
 "metadata": {
  "kernelspec": {
   "display_name": "Python 3 (ipykernel)",
   "language": "python",
   "name": "python3"
  },
  "language_info": {
   "codemirror_mode": {
    "name": "ipython",
    "version": 3
   },
   "file_extension": ".py",
   "mimetype": "text/x-python",
   "name": "python",
   "nbconvert_exporter": "python",
   "pygments_lexer": "ipython3",
   "version": "3.10.4"
  }
 },
 "nbformat": 4,
 "nbformat_minor": 5
}
