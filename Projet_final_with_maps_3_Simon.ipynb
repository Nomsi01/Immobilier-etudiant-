{
 "cells": [
  {
   "cell_type": "code",
   "execution_count": 1,
   "id": "38e7290f-df9b-45b4-acc1-cd83d93404ec",
   "metadata": {},
   "outputs": [
    {
     "name": "stdout",
     "output_type": "stream",
     "text": [
      "Requirement already satisfied: geoplot in /opt/mamba/lib/python3.10/site-packages (0.5.1)\n",
      "Requirement already satisfied: seaborn in /opt/mamba/lib/python3.10/site-packages (from geoplot) (0.12.1)\n",
      "Requirement already satisfied: matplotlib>=3.1.2 in /opt/mamba/lib/python3.10/site-packages (from geoplot) (3.6.2)\n",
      "Requirement already satisfied: cartopy in /opt/mamba/lib/python3.10/site-packages (from geoplot) (0.21.0)\n",
      "Requirement already satisfied: mapclassify>=2.1 in /opt/mamba/lib/python3.10/site-packages (from geoplot) (2.4.3)\n",
      "Requirement already satisfied: pandas in /opt/mamba/lib/python3.10/site-packages (from geoplot) (1.5.1)\n",
      "Requirement already satisfied: contextily>=1.0.0 in /opt/mamba/lib/python3.10/site-packages (from geoplot) (1.2.0)\n",
      "Requirement already satisfied: geopandas>=0.9.0 in /opt/mamba/lib/python3.10/site-packages (from geoplot) (0.12.1)\n",
      "Requirement already satisfied: geopy in /opt/mamba/lib/python3.10/site-packages (from contextily>=1.0.0->geoplot) (2.3.0)\n",
      "Requirement already satisfied: xyzservices in /opt/mamba/lib/python3.10/site-packages (from contextily>=1.0.0->geoplot) (2022.9.0)\n",
      "Requirement already satisfied: mercantile in /opt/mamba/lib/python3.10/site-packages (from contextily>=1.0.0->geoplot) (1.2.1)\n",
      "Requirement already satisfied: pillow in /opt/mamba/lib/python3.10/site-packages (from contextily>=1.0.0->geoplot) (9.2.0)\n",
      "Requirement already satisfied: rasterio in /opt/mamba/lib/python3.10/site-packages (from contextily>=1.0.0->geoplot) (1.3.4)\n",
      "Requirement already satisfied: joblib in /opt/mamba/lib/python3.10/site-packages (from contextily>=1.0.0->geoplot) (1.2.0)\n",
      "Requirement already satisfied: requests in /opt/mamba/lib/python3.10/site-packages (from contextily>=1.0.0->geoplot) (2.28.1)\n",
      "Requirement already satisfied: pyproj>=2.6.1.post1 in /opt/mamba/lib/python3.10/site-packages (from geopandas>=0.9.0->geoplot) (3.4.0)\n",
      "Requirement already satisfied: packaging in /opt/mamba/lib/python3.10/site-packages (from geopandas>=0.9.0->geoplot) (21.3)\n",
      "Requirement already satisfied: shapely>=1.7 in /opt/mamba/lib/python3.10/site-packages (from geopandas>=0.9.0->geoplot) (1.8.5.post1)\n",
      "Requirement already satisfied: fiona>=1.8 in /opt/mamba/lib/python3.10/site-packages (from geopandas>=0.9.0->geoplot) (1.8.22)\n",
      "Requirement already satisfied: scipy>=1.0 in /opt/mamba/lib/python3.10/site-packages (from mapclassify>=2.1->geoplot) (1.9.3)\n",
      "Requirement already satisfied: scikit-learn in /opt/mamba/lib/python3.10/site-packages (from mapclassify>=2.1->geoplot) (1.1.3)\n",
      "Requirement already satisfied: numpy>=1.3 in /opt/mamba/lib/python3.10/site-packages (from mapclassify>=2.1->geoplot) (1.23.5)\n",
      "Requirement already satisfied: networkx in /opt/mamba/lib/python3.10/site-packages (from mapclassify>=2.1->geoplot) (2.8.8)\n",
      "Requirement already satisfied: kiwisolver>=1.0.1 in /opt/mamba/lib/python3.10/site-packages (from matplotlib>=3.1.2->geoplot) (1.4.4)\n",
      "Requirement already satisfied: contourpy>=1.0.1 in /opt/mamba/lib/python3.10/site-packages (from matplotlib>=3.1.2->geoplot) (1.0.6)\n",
      "Requirement already satisfied: fonttools>=4.22.0 in /opt/mamba/lib/python3.10/site-packages (from matplotlib>=3.1.2->geoplot) (4.38.0)\n",
      "Requirement already satisfied: pyparsing>=2.2.1 in /opt/mamba/lib/python3.10/site-packages (from matplotlib>=3.1.2->geoplot) (3.0.9)\n",
      "Requirement already satisfied: cycler>=0.10 in /opt/mamba/lib/python3.10/site-packages (from matplotlib>=3.1.2->geoplot) (0.11.0)\n",
      "Requirement already satisfied: python-dateutil>=2.7 in /opt/mamba/lib/python3.10/site-packages (from matplotlib>=3.1.2->geoplot) (2.8.2)\n",
      "Requirement already satisfied: pytz>=2020.1 in /opt/mamba/lib/python3.10/site-packages (from pandas->geoplot) (2022.6)\n",
      "Requirement already satisfied: pyshp>=2.1 in /opt/mamba/lib/python3.10/site-packages (from cartopy->geoplot) (2.3.1)\n",
      "Requirement already satisfied: attrs>=17 in /opt/mamba/lib/python3.10/site-packages (from fiona>=1.8->geopandas>=0.9.0->geoplot) (22.1.0)\n",
      "Requirement already satisfied: certifi in /opt/mamba/lib/python3.10/site-packages (from fiona>=1.8->geopandas>=0.9.0->geoplot) (2022.9.24)\n",
      "Requirement already satisfied: setuptools in /opt/mamba/lib/python3.10/site-packages (from fiona>=1.8->geopandas>=0.9.0->geoplot) (65.5.1)\n",
      "Requirement already satisfied: cligj>=0.5 in /opt/mamba/lib/python3.10/site-packages (from fiona>=1.8->geopandas>=0.9.0->geoplot) (0.7.2)\n",
      "Requirement already satisfied: six>=1.7 in /opt/mamba/lib/python3.10/site-packages (from fiona>=1.8->geopandas>=0.9.0->geoplot) (1.16.0)\n",
      "Requirement already satisfied: munch in /opt/mamba/lib/python3.10/site-packages (from fiona>=1.8->geopandas>=0.9.0->geoplot) (2.5.0)\n",
      "Requirement already satisfied: click-plugins>=1.0 in /opt/mamba/lib/python3.10/site-packages (from fiona>=1.8->geopandas>=0.9.0->geoplot) (1.1.1)\n",
      "Requirement already satisfied: click>=4.0 in /opt/mamba/lib/python3.10/site-packages (from fiona>=1.8->geopandas>=0.9.0->geoplot) (8.1.3)\n",
      "Requirement already satisfied: geographiclib<3,>=1.52 in /opt/mamba/lib/python3.10/site-packages (from geopy->contextily>=1.0.0->geoplot) (2.0)\n",
      "Requirement already satisfied: snuggs>=1.4.1 in /opt/mamba/lib/python3.10/site-packages (from rasterio->contextily>=1.0.0->geoplot) (1.4.7)\n",
      "Requirement already satisfied: affine in /opt/mamba/lib/python3.10/site-packages (from rasterio->contextily>=1.0.0->geoplot) (2.3.1)\n",
      "Requirement already satisfied: charset-normalizer<3,>=2 in /opt/mamba/lib/python3.10/site-packages (from requests->contextily>=1.0.0->geoplot) (2.1.1)\n",
      "Requirement already satisfied: urllib3<1.27,>=1.21.1 in /opt/mamba/lib/python3.10/site-packages (from requests->contextily>=1.0.0->geoplot) (1.26.11)\n",
      "Requirement already satisfied: idna<4,>=2.5 in /opt/mamba/lib/python3.10/site-packages (from requests->contextily>=1.0.0->geoplot) (3.4)\n",
      "Requirement already satisfied: threadpoolctl>=2.0.0 in /opt/mamba/lib/python3.10/site-packages (from scikit-learn->mapclassify>=2.1->geoplot) (3.1.0)\n",
      "Requirement already satisfied: contextily in /opt/mamba/lib/python3.10/site-packages (1.2.0)\n",
      "Requirement already satisfied: mercantile in /opt/mamba/lib/python3.10/site-packages (from contextily) (1.2.1)\n",
      "Requirement already satisfied: xyzservices in /opt/mamba/lib/python3.10/site-packages (from contextily) (2022.9.0)\n",
      "Requirement already satisfied: rasterio in /opt/mamba/lib/python3.10/site-packages (from contextily) (1.3.4)\n",
      "Requirement already satisfied: pillow in /opt/mamba/lib/python3.10/site-packages (from contextily) (9.2.0)\n",
      "Requirement already satisfied: matplotlib in /opt/mamba/lib/python3.10/site-packages (from contextily) (3.6.2)\n",
      "Requirement already satisfied: joblib in /opt/mamba/lib/python3.10/site-packages (from contextily) (1.2.0)\n",
      "Requirement already satisfied: requests in /opt/mamba/lib/python3.10/site-packages (from contextily) (2.28.1)\n",
      "Requirement already satisfied: geopy in /opt/mamba/lib/python3.10/site-packages (from contextily) (2.3.0)\n",
      "Requirement already satisfied: geographiclib<3,>=1.52 in /opt/mamba/lib/python3.10/site-packages (from geopy->contextily) (2.0)\n",
      "Requirement already satisfied: kiwisolver>=1.0.1 in /opt/mamba/lib/python3.10/site-packages (from matplotlib->contextily) (1.4.4)\n",
      "Requirement already satisfied: fonttools>=4.22.0 in /opt/mamba/lib/python3.10/site-packages (from matplotlib->contextily) (4.38.0)\n",
      "Requirement already satisfied: numpy>=1.19 in /opt/mamba/lib/python3.10/site-packages (from matplotlib->contextily) (1.23.5)\n",
      "Requirement already satisfied: contourpy>=1.0.1 in /opt/mamba/lib/python3.10/site-packages (from matplotlib->contextily) (1.0.6)\n",
      "Requirement already satisfied: pyparsing>=2.2.1 in /opt/mamba/lib/python3.10/site-packages (from matplotlib->contextily) (3.0.9)\n",
      "Requirement already satisfied: cycler>=0.10 in /opt/mamba/lib/python3.10/site-packages (from matplotlib->contextily) (0.11.0)\n",
      "Requirement already satisfied: packaging>=20.0 in /opt/mamba/lib/python3.10/site-packages (from matplotlib->contextily) (21.3)\n",
      "Requirement already satisfied: python-dateutil>=2.7 in /opt/mamba/lib/python3.10/site-packages (from matplotlib->contextily) (2.8.2)\n",
      "Requirement already satisfied: click>=3.0 in /opt/mamba/lib/python3.10/site-packages (from mercantile->contextily) (8.1.3)\n",
      "Requirement already satisfied: affine in /opt/mamba/lib/python3.10/site-packages (from rasterio->contextily) (2.3.1)\n",
      "Requirement already satisfied: certifi in /opt/mamba/lib/python3.10/site-packages (from rasterio->contextily) (2022.9.24)\n",
      "Requirement already satisfied: attrs in /opt/mamba/lib/python3.10/site-packages (from rasterio->contextily) (22.1.0)\n",
      "Requirement already satisfied: setuptools in /opt/mamba/lib/python3.10/site-packages (from rasterio->contextily) (65.5.1)\n",
      "Requirement already satisfied: cligj>=0.5 in /opt/mamba/lib/python3.10/site-packages (from rasterio->contextily) (0.7.2)\n",
      "Requirement already satisfied: click-plugins in /opt/mamba/lib/python3.10/site-packages (from rasterio->contextily) (1.1.1)\n",
      "Requirement already satisfied: snuggs>=1.4.1 in /opt/mamba/lib/python3.10/site-packages (from rasterio->contextily) (1.4.7)\n",
      "Requirement already satisfied: charset-normalizer<3,>=2 in /opt/mamba/lib/python3.10/site-packages (from requests->contextily) (2.1.1)\n",
      "Requirement already satisfied: urllib3<1.27,>=1.21.1 in /opt/mamba/lib/python3.10/site-packages (from requests->contextily) (1.26.11)\n",
      "Requirement already satisfied: idna<4,>=2.5 in /opt/mamba/lib/python3.10/site-packages (from requests->contextily) (3.4)\n",
      "Requirement already satisfied: six>=1.5 in /opt/mamba/lib/python3.10/site-packages (from python-dateutil>=2.7->matplotlib->contextily) (1.16.0)\n",
      "Requirement already satisfied: altair in /opt/mamba/lib/python3.10/site-packages (4.2.0)\n",
      "Requirement already satisfied: jinja2 in /opt/mamba/lib/python3.10/site-packages (from altair) (3.1.2)\n",
      "Requirement already satisfied: toolz in /opt/mamba/lib/python3.10/site-packages (from altair) (0.12.0)\n",
      "Requirement already satisfied: pandas>=0.18 in /opt/mamba/lib/python3.10/site-packages (from altair) (1.5.1)\n",
      "Requirement already satisfied: entrypoints in /opt/mamba/lib/python3.10/site-packages (from altair) (0.4)\n",
      "Requirement already satisfied: numpy in /opt/mamba/lib/python3.10/site-packages (from altair) (1.23.5)\n",
      "Requirement already satisfied: jsonschema>=3.0 in /opt/mamba/lib/python3.10/site-packages (from altair) (4.17.0)\n",
      "Requirement already satisfied: pyrsistent!=0.17.0,!=0.17.1,!=0.17.2,>=0.14.0 in /opt/mamba/lib/python3.10/site-packages (from jsonschema>=3.0->altair) (0.19.2)\n",
      "Requirement already satisfied: attrs>=17.4.0 in /opt/mamba/lib/python3.10/site-packages (from jsonschema>=3.0->altair) (22.1.0)\n",
      "Requirement already satisfied: python-dateutil>=2.8.1 in /opt/mamba/lib/python3.10/site-packages (from pandas>=0.18->altair) (2.8.2)\n",
      "Requirement already satisfied: pytz>=2020.1 in /opt/mamba/lib/python3.10/site-packages (from pandas>=0.18->altair) (2022.6)\n",
      "Requirement already satisfied: MarkupSafe>=2.0 in /opt/mamba/lib/python3.10/site-packages (from jinja2->altair) (2.1.1)\n",
      "Requirement already satisfied: six>=1.5 in /opt/mamba/lib/python3.10/site-packages (from python-dateutil>=2.8.1->pandas>=0.18->altair) (1.16.0)\n"
     ]
    }
   ],
   "source": [
    "!pip install geoplot\n",
    "!pip install contextily\n",
    "!pip install altair"
   ]
  },
  {
   "cell_type": "code",
   "execution_count": 1,
   "id": "7474ad37-f0fa-45d4-ab0e-e8a6a1ac3b75",
   "metadata": {},
   "outputs": [
    {
     "name": "stderr",
     "output_type": "stream",
     "text": [
      "[nltk_data] Downloading package punkt to /home/onyxia/nltk_data...\n",
      "[nltk_data]   Package punkt is already up-to-date!\n",
      "ERROR 1: PROJ: proj_create_from_database: Open of /opt/mamba/share/proj failed\n"
     ]
    }
   ],
   "source": [
    "import pandas as pd \n",
    "import geopandas as gpd \n",
    "import nltk\n",
    "nltk.download('punkt')\n",
    "import contextily as ctx\n",
    "import geoplot as gplt\n",
    "import geoplot.crs as gcrs\n",
    "import matplotlib.pyplot as plt\n",
    "import folium\n",
    "import numpy as np\n",
    "import seaborn as sns\n",
    "import altair as alt "
   ]
  },
  {
   "cell_type": "markdown",
   "id": "953129fb-c4c6-400e-9927-628c53a8aff0",
   "metadata": {},
   "source": [
    "# Part I : Obtention du dataframe \n",
    "## 1.1.Récupération des loyers, des surfaces et de la localisation des résidences"
   ]
  },
  {
   "cell_type": "code",
   "execution_count": 2,
   "id": "2ab5e590-2677-4d1f-8234-bbc41ddf44fc",
   "metadata": {},
   "outputs": [],
   "source": [
    "df = pd.read_csv(\"fr_crous_logement_france_entiere.csv\", sep =';')\n"
   ]
  },
  {
   "cell_type": "code",
   "execution_count": 3,
   "id": "5ebddfa7-ef72-4de9-b50a-d2f5dc35eecd",
   "metadata": {},
   "outputs": [],
   "source": [
    "df = df[[\"title\", \"infos\", \"address\" ,\"geocalisation\", \"regions\"]]"
   ]
  },
  {
   "cell_type": "code",
   "execution_count": 4,
   "id": "d1511ff6-14bd-4971-8115-85f1b6a96bc8",
   "metadata": {},
   "outputs": [
    {
     "name": "stderr",
     "output_type": "stream",
     "text": [
      "[nltk_data] Downloading package punkt to /home/onyxia/nltk_data...\n",
      "[nltk_data]   Package punkt is already up-to-date!\n"
     ]
    },
    {
     "data": {
      "text/html": [
       "<div>\n",
       "<style scoped>\n",
       "    .dataframe tbody tr th:only-of-type {\n",
       "        vertical-align: middle;\n",
       "    }\n",
       "\n",
       "    .dataframe tbody tr th {\n",
       "        vertical-align: top;\n",
       "    }\n",
       "\n",
       "    .dataframe thead th {\n",
       "        text-align: right;\n",
       "    }\n",
       "</style>\n",
       "<table border=\"1\" class=\"dataframe\">\n",
       "  <thead>\n",
       "    <tr style=\"text-align: right;\">\n",
       "      <th></th>\n",
       "      <th>title</th>\n",
       "      <th>infos</th>\n",
       "      <th>address</th>\n",
       "      <th>geocalisation</th>\n",
       "      <th>regions</th>\n",
       "      <th>Longitude</th>\n",
       "      <th>Latitude</th>\n",
       "      <th>geometry</th>\n",
       "    </tr>\n",
       "  </thead>\n",
       "  <tbody>\n",
       "    <tr>\n",
       "      <th>0</th>\n",
       "      <td>Résidence Vauban</td>\n",
       "      <td>Description La résidence est située au cœur de...</td>\n",
       "      <td>1 boulevard d’Alembert 78280 Guyancourt</td>\n",
       "      <td>48.7796516418,2.0441513062</td>\n",
       "      <td>Île-de-France</td>\n",
       "      <td>2.044151</td>\n",
       "      <td>48.779652</td>\n",
       "      <td>POINT (2.04415 48.77965)</td>\n",
       "    </tr>\n",
       "    <tr>\n",
       "      <th>1</th>\n",
       "      <td>Résidence Le Square de l'Echiquier</td>\n",
       "      <td>DescriptionRésidence universitaire nouvellemen...</td>\n",
       "      <td>9 square de l'échiquier 95800 Cergy-Pontoise</td>\n",
       "      <td>49.0482978821,2.02688694</td>\n",
       "      <td>Île-de-France</td>\n",
       "      <td>2.026887</td>\n",
       "      <td>49.048298</td>\n",
       "      <td>POINT (2.02689 49.04830)</td>\n",
       "    </tr>\n",
       "    <tr>\n",
       "      <th>2</th>\n",
       "      <td>Résidence Les Bas Longchamps</td>\n",
       "      <td>Description Résidence universitaire située à p...</td>\n",
       "      <td>2 rue Abraham Lincoln 92220 Bagneux</td>\n",
       "      <td>48.7906913757,2.3169708252</td>\n",
       "      <td>Île-de-France</td>\n",
       "      <td>2.316971</td>\n",
       "      <td>48.790691</td>\n",
       "      <td>POINT (2.31697 48.79069)</td>\n",
       "    </tr>\n",
       "    <tr>\n",
       "      <th>3</th>\n",
       "      <td>Résidence de l’Ile</td>\n",
       "      <td>Description Résidence universitaire située à p...</td>\n",
       "      <td>14 rue du Docteur Collé - bâtiment 227 du camp...</td>\n",
       "      <td>48.698802948,2.1578958035</td>\n",
       "      <td>Île-de-France</td>\n",
       "      <td>2.157896</td>\n",
       "      <td>48.698803</td>\n",
       "      <td>POINT (2.15790 48.69880)</td>\n",
       "    </tr>\n",
       "    <tr>\n",
       "      <th>4</th>\n",
       "      <td>Résidence La Pacaterie</td>\n",
       "      <td>Description Résidence universitaire longée par...</td>\n",
       "      <td>Bâtiment 499 - rue de la Pacaterie 91400 Orsay</td>\n",
       "      <td>48.7015419006,2.1846776009</td>\n",
       "      <td>Île-de-France</td>\n",
       "      <td>2.184678</td>\n",
       "      <td>48.701542</td>\n",
       "      <td>POINT (2.18468 48.70154)</td>\n",
       "    </tr>\n",
       "    <tr>\n",
       "      <th>...</th>\n",
       "      <td>...</td>\n",
       "      <td>...</td>\n",
       "      <td>...</td>\n",
       "      <td>...</td>\n",
       "      <td>...</td>\n",
       "      <td>...</td>\n",
       "      <td>...</td>\n",
       "      <td>...</td>\n",
       "    </tr>\n",
       "    <tr>\n",
       "      <th>783</th>\n",
       "      <td>Cité Grémillon (secteur d'Hérouville-Saint-Clair)</td>\n",
       "      <td>BP 54 - Avenue de la Grande Cavée 14202 Hérouv...</td>\n",
       "      <td>BP 54 - Avenue de la Grande Cavée 14202 Hérouv...</td>\n",
       "      <td>49.2032051086,-0.3392136097</td>\n",
       "      <td>Normandie</td>\n",
       "      <td>-0.339214</td>\n",
       "      <td>49.203205</td>\n",
       "      <td>POINT (-0.33921 49.20321)</td>\n",
       "    </tr>\n",
       "    <tr>\n",
       "      <th>784</th>\n",
       "      <td>Résidence Antide Janvier</td>\n",
       "      <td>Localisation :\\r\\n Au centre ville, à proximit...</td>\n",
       "      <td>6 rue Antide Janvier 25000 Besançon</td>\n",
       "      <td>47.2365074158,6.0153431892</td>\n",
       "      <td>Bourgogne-Franche-Comté</td>\n",
       "      <td>6.015343</td>\n",
       "      <td>47.236507</td>\n",
       "      <td>POINT (6.01534 47.23651)</td>\n",
       "    </tr>\n",
       "    <tr>\n",
       "      <th>785</th>\n",
       "      <td>Résidence Jean Paul Sartre</td>\n",
       "      <td>Localisation :\\r\\n La résidence Sartre est sit...</td>\n",
       "      <td>Rue Gaston Deferre 90000 Belfort</td>\n",
       "      <td>47.6389884949,6.8537139893</td>\n",
       "      <td>Bourgogne-Franche-Comté</td>\n",
       "      <td>6.853714</td>\n",
       "      <td>47.638988</td>\n",
       "      <td>POINT (6.85371 47.63899)</td>\n",
       "    </tr>\n",
       "    <tr>\n",
       "      <th>786</th>\n",
       "      <td>Maret</td>\n",
       "      <td>NaN</td>\n",
       "      <td>3 rue du Docteur Maret  21000 Dijon</td>\n",
       "      <td>47.3224983215,5.0353322029</td>\n",
       "      <td>Bourgogne-Franche-Comté</td>\n",
       "      <td>5.035332</td>\n",
       "      <td>47.322498</td>\n",
       "      <td>POINT (5.03533 47.32250)</td>\n",
       "    </tr>\n",
       "    <tr>\n",
       "      <th>787</th>\n",
       "      <td>Antipodes</td>\n",
       "      <td>La résidence compte 350 logements (du T1 au T3...</td>\n",
       "      <td>24/32 rue Alain Savary  21000 Dijon</td>\n",
       "      <td>47.3101768494,5.0722389221</td>\n",
       "      <td>Bourgogne-Franche-Comté</td>\n",
       "      <td>5.072239</td>\n",
       "      <td>47.310177</td>\n",
       "      <td>POINT (5.07224 47.31018)</td>\n",
       "    </tr>\n",
       "  </tbody>\n",
       "</table>\n",
       "<p>788 rows × 8 columns</p>\n",
       "</div>"
      ],
      "text/plain": [
       "                                                 title  \\\n",
       "0                                     Résidence Vauban   \n",
       "1                   Résidence Le Square de l'Echiquier   \n",
       "2                         Résidence Les Bas Longchamps   \n",
       "3                                   Résidence de l’Ile   \n",
       "4                               Résidence La Pacaterie   \n",
       "..                                                 ...   \n",
       "783  Cité Grémillon (secteur d'Hérouville-Saint-Clair)   \n",
       "784                           Résidence Antide Janvier   \n",
       "785                         Résidence Jean Paul Sartre   \n",
       "786                                              Maret   \n",
       "787                                          Antipodes   \n",
       "\n",
       "                                                 infos  \\\n",
       "0    Description La résidence est située au cœur de...   \n",
       "1    DescriptionRésidence universitaire nouvellemen...   \n",
       "2    Description Résidence universitaire située à p...   \n",
       "3    Description Résidence universitaire située à p...   \n",
       "4    Description Résidence universitaire longée par...   \n",
       "..                                                 ...   \n",
       "783  BP 54 - Avenue de la Grande Cavée 14202 Hérouv...   \n",
       "784  Localisation :\\r\\n Au centre ville, à proximit...   \n",
       "785  Localisation :\\r\\n La résidence Sartre est sit...   \n",
       "786                                                NaN   \n",
       "787  La résidence compte 350 logements (du T1 au T3...   \n",
       "\n",
       "                                               address  \\\n",
       "0              1 boulevard d’Alembert 78280 Guyancourt   \n",
       "1         9 square de l'échiquier 95800 Cergy-Pontoise   \n",
       "2                  2 rue Abraham Lincoln 92220 Bagneux   \n",
       "3    14 rue du Docteur Collé - bâtiment 227 du camp...   \n",
       "4       Bâtiment 499 - rue de la Pacaterie 91400 Orsay   \n",
       "..                                                 ...   \n",
       "783  BP 54 - Avenue de la Grande Cavée 14202 Hérouv...   \n",
       "784                6 rue Antide Janvier 25000 Besançon   \n",
       "785                   Rue Gaston Deferre 90000 Belfort   \n",
       "786                3 rue du Docteur Maret  21000 Dijon   \n",
       "787                24/32 rue Alain Savary  21000 Dijon   \n",
       "\n",
       "                   geocalisation                  regions  Longitude  \\\n",
       "0     48.7796516418,2.0441513062            Île-de-France   2.044151   \n",
       "1       49.0482978821,2.02688694            Île-de-France   2.026887   \n",
       "2     48.7906913757,2.3169708252            Île-de-France   2.316971   \n",
       "3      48.698802948,2.1578958035            Île-de-France   2.157896   \n",
       "4     48.7015419006,2.1846776009            Île-de-France   2.184678   \n",
       "..                           ...                      ...        ...   \n",
       "783  49.2032051086,-0.3392136097                Normandie  -0.339214   \n",
       "784   47.2365074158,6.0153431892  Bourgogne-Franche-Comté   6.015343   \n",
       "785   47.6389884949,6.8537139893  Bourgogne-Franche-Comté   6.853714   \n",
       "786   47.3224983215,5.0353322029  Bourgogne-Franche-Comté   5.035332   \n",
       "787   47.3101768494,5.0722389221  Bourgogne-Franche-Comté   5.072239   \n",
       "\n",
       "      Latitude                   geometry  \n",
       "0    48.779652   POINT (2.04415 48.77965)  \n",
       "1    49.048298   POINT (2.02689 49.04830)  \n",
       "2    48.790691   POINT (2.31697 48.79069)  \n",
       "3    48.698803   POINT (2.15790 48.69880)  \n",
       "4    48.701542   POINT (2.18468 48.70154)  \n",
       "..         ...                        ...  \n",
       "783  49.203205  POINT (-0.33921 49.20321)  \n",
       "784  47.236507   POINT (6.01534 47.23651)  \n",
       "785  47.638988   POINT (6.85371 47.63899)  \n",
       "786  47.322498   POINT (5.03533 47.32250)  \n",
       "787  47.310177   POINT (5.07224 47.31018)  \n",
       "\n",
       "[788 rows x 8 columns]"
      ]
     },
     "execution_count": 4,
     "metadata": {},
     "output_type": "execute_result"
    }
   ],
   "source": [
    "from functions_for_data_cleaning import *\n",
    "\n",
    "df = get_localisation(df)\n",
    "df"
   ]
  },
  {
   "cell_type": "code",
   "execution_count": 5,
   "id": "6c9c485a-1da0-4ff8-84d2-adc3610a4bdd",
   "metadata": {},
   "outputs": [
    {
     "data": {
      "text/html": [
       "<div>\n",
       "<style scoped>\n",
       "    .dataframe tbody tr th:only-of-type {\n",
       "        vertical-align: middle;\n",
       "    }\n",
       "\n",
       "    .dataframe tbody tr th {\n",
       "        vertical-align: top;\n",
       "    }\n",
       "\n",
       "    .dataframe thead th {\n",
       "        text-align: right;\n",
       "    }\n",
       "</style>\n",
       "<table border=\"1\" class=\"dataframe\">\n",
       "  <thead>\n",
       "    <tr style=\"text-align: right;\">\n",
       "      <th></th>\n",
       "      <th>title</th>\n",
       "      <th>infos</th>\n",
       "      <th>address</th>\n",
       "      <th>geocalisation</th>\n",
       "      <th>regions</th>\n",
       "      <th>Longitude</th>\n",
       "      <th>Latitude</th>\n",
       "      <th>geometry</th>\n",
       "      <th>Loyer</th>\n",
       "      <th>Max Loyer</th>\n",
       "      <th>Min Loyer</th>\n",
       "      <th>Mean Loyer</th>\n",
       "      <th>Surface</th>\n",
       "      <th>Max Surface</th>\n",
       "      <th>Min Surface</th>\n",
       "      <th>Mean Surface</th>\n",
       "    </tr>\n",
       "  </thead>\n",
       "  <tbody>\n",
       "    <tr>\n",
       "      <th>0</th>\n",
       "      <td>Résidence Vauban</td>\n",
       "      <td>Description La résidence est située au cœur de...</td>\n",
       "      <td>1 boulevard d’Alembert 78280 Guyancourt</td>\n",
       "      <td>48.7796516418,2.0441513062</td>\n",
       "      <td>Île-de-France</td>\n",
       "      <td>2.044151</td>\n",
       "      <td>48.779652</td>\n",
       "      <td>POINT (2.04415 48.77965)</td>\n",
       "      <td>[333.0, 537.0]</td>\n",
       "      <td>537.00</td>\n",
       "      <td>333.00</td>\n",
       "      <td>435.000000</td>\n",
       "      <td>[]</td>\n",
       "      <td>NaN</td>\n",
       "      <td>NaN</td>\n",
       "      <td>NaN</td>\n",
       "    </tr>\n",
       "    <tr>\n",
       "      <th>1</th>\n",
       "      <td>Résidence Le Square de l'Echiquier</td>\n",
       "      <td>DescriptionRésidence universitaire nouvellemen...</td>\n",
       "      <td>9 square de l'échiquier 95800 Cergy-Pontoise</td>\n",
       "      <td>49.0482978821,2.02688694</td>\n",
       "      <td>Île-de-France</td>\n",
       "      <td>2.026887</td>\n",
       "      <td>49.048298</td>\n",
       "      <td>POINT (2.02689 49.04830)</td>\n",
       "      <td>[334.0]</td>\n",
       "      <td>334.00</td>\n",
       "      <td>334.00</td>\n",
       "      <td>334.000000</td>\n",
       "      <td>[]</td>\n",
       "      <td>NaN</td>\n",
       "      <td>NaN</td>\n",
       "      <td>NaN</td>\n",
       "    </tr>\n",
       "    <tr>\n",
       "      <th>2</th>\n",
       "      <td>Résidence Les Bas Longchamps</td>\n",
       "      <td>Description Résidence universitaire située à p...</td>\n",
       "      <td>2 rue Abraham Lincoln 92220 Bagneux</td>\n",
       "      <td>48.7906913757,2.3169708252</td>\n",
       "      <td>Île-de-France</td>\n",
       "      <td>2.316971</td>\n",
       "      <td>48.790691</td>\n",
       "      <td>POINT (2.31697 48.79069)</td>\n",
       "      <td>[332.0, 359.0]</td>\n",
       "      <td>359.00</td>\n",
       "      <td>332.00</td>\n",
       "      <td>345.500000</td>\n",
       "      <td>[17.0, 28.0]</td>\n",
       "      <td>28.0</td>\n",
       "      <td>17.0</td>\n",
       "      <td>22.500000</td>\n",
       "    </tr>\n",
       "    <tr>\n",
       "      <th>3</th>\n",
       "      <td>Résidence de l’Ile</td>\n",
       "      <td>Description Résidence universitaire située à p...</td>\n",
       "      <td>14 rue du Docteur Collé - bâtiment 227 du camp...</td>\n",
       "      <td>48.698802948,2.1578958035</td>\n",
       "      <td>Île-de-France</td>\n",
       "      <td>2.157896</td>\n",
       "      <td>48.698803</td>\n",
       "      <td>POINT (2.15790 48.69880)</td>\n",
       "      <td>[362.0]</td>\n",
       "      <td>362.00</td>\n",
       "      <td>362.00</td>\n",
       "      <td>362.000000</td>\n",
       "      <td>[18.0]</td>\n",
       "      <td>18.0</td>\n",
       "      <td>18.0</td>\n",
       "      <td>18.000000</td>\n",
       "    </tr>\n",
       "    <tr>\n",
       "      <th>4</th>\n",
       "      <td>Résidence La Pacaterie</td>\n",
       "      <td>Description Résidence universitaire longée par...</td>\n",
       "      <td>Bâtiment 499 - rue de la Pacaterie 91400 Orsay</td>\n",
       "      <td>48.7015419006,2.1846776009</td>\n",
       "      <td>Île-de-France</td>\n",
       "      <td>2.184678</td>\n",
       "      <td>48.701542</td>\n",
       "      <td>POINT (2.18468 48.70154)</td>\n",
       "      <td>[154.0]</td>\n",
       "      <td>154.00</td>\n",
       "      <td>154.00</td>\n",
       "      <td>154.000000</td>\n",
       "      <td>[]</td>\n",
       "      <td>NaN</td>\n",
       "      <td>NaN</td>\n",
       "      <td>NaN</td>\n",
       "    </tr>\n",
       "    <tr>\n",
       "      <th>...</th>\n",
       "      <td>...</td>\n",
       "      <td>...</td>\n",
       "      <td>...</td>\n",
       "      <td>...</td>\n",
       "      <td>...</td>\n",
       "      <td>...</td>\n",
       "      <td>...</td>\n",
       "      <td>...</td>\n",
       "      <td>...</td>\n",
       "      <td>...</td>\n",
       "      <td>...</td>\n",
       "      <td>...</td>\n",
       "      <td>...</td>\n",
       "      <td>...</td>\n",
       "      <td>...</td>\n",
       "      <td>...</td>\n",
       "    </tr>\n",
       "    <tr>\n",
       "      <th>783</th>\n",
       "      <td>Cité Grémillon (secteur d'Hérouville-Saint-Clair)</td>\n",
       "      <td>BP 54 - Avenue de la Grande Cavée 14202 Hérouv...</td>\n",
       "      <td>BP 54 - Avenue de la Grande Cavée 14202 Hérouv...</td>\n",
       "      <td>49.2032051086,-0.3392136097</td>\n",
       "      <td>Normandie</td>\n",
       "      <td>-0.339214</td>\n",
       "      <td>49.203205</td>\n",
       "      <td>POINT (-0.33921 49.20321)</td>\n",
       "      <td>[249.85, 312.9, 388.6, 467.4, 525.0, 556.14]</td>\n",
       "      <td>556.14</td>\n",
       "      <td>249.85</td>\n",
       "      <td>416.648333</td>\n",
       "      <td>[9.0, 18.0, 30.0, 49.0, 65.0, 69.0]</td>\n",
       "      <td>69.0</td>\n",
       "      <td>9.0</td>\n",
       "      <td>40.000000</td>\n",
       "    </tr>\n",
       "    <tr>\n",
       "      <th>784</th>\n",
       "      <td>Résidence Antide Janvier</td>\n",
       "      <td>Localisation :\\r\\n Au centre ville, à proximit...</td>\n",
       "      <td>6 rue Antide Janvier 25000 Besançon</td>\n",
       "      <td>47.2365074158,6.0153431892</td>\n",
       "      <td>Bourgogne-Franche-Comté</td>\n",
       "      <td>6.015343</td>\n",
       "      <td>47.236507</td>\n",
       "      <td>POINT (6.01534 47.23651)</td>\n",
       "      <td>[347.0, 502.0, 523.0]</td>\n",
       "      <td>523.00</td>\n",
       "      <td>347.00</td>\n",
       "      <td>457.333333</td>\n",
       "      <td>[19.0, 35.3]</td>\n",
       "      <td>35.3</td>\n",
       "      <td>19.0</td>\n",
       "      <td>27.150000</td>\n",
       "    </tr>\n",
       "    <tr>\n",
       "      <th>785</th>\n",
       "      <td>Résidence Jean Paul Sartre</td>\n",
       "      <td>Localisation :\\r\\n La résidence Sartre est sit...</td>\n",
       "      <td>Rue Gaston Deferre 90000 Belfort</td>\n",
       "      <td>47.6389884949,6.8537139893</td>\n",
       "      <td>Bourgogne-Franche-Comté</td>\n",
       "      <td>6.853714</td>\n",
       "      <td>47.638988</td>\n",
       "      <td>POINT (6.85371 47.63899)</td>\n",
       "      <td>[280.0, 311.0, 361.0, 405.0, 416.0, 466.0, 586.0]</td>\n",
       "      <td>586.00</td>\n",
       "      <td>280.00</td>\n",
       "      <td>403.571429</td>\n",
       "      <td>[18.0, 36.0, 51.5]</td>\n",
       "      <td>51.5</td>\n",
       "      <td>18.0</td>\n",
       "      <td>35.166667</td>\n",
       "    </tr>\n",
       "    <tr>\n",
       "      <th>786</th>\n",
       "      <td>Maret</td>\n",
       "      <td>NaN</td>\n",
       "      <td>3 rue du Docteur Maret  21000 Dijon</td>\n",
       "      <td>47.3224983215,5.0353322029</td>\n",
       "      <td>Bourgogne-Franche-Comté</td>\n",
       "      <td>5.035332</td>\n",
       "      <td>47.322498</td>\n",
       "      <td>POINT (5.03533 47.32250)</td>\n",
       "      <td>None</td>\n",
       "      <td>NaN</td>\n",
       "      <td>NaN</td>\n",
       "      <td>NaN</td>\n",
       "      <td>None</td>\n",
       "      <td>NaN</td>\n",
       "      <td>NaN</td>\n",
       "      <td>NaN</td>\n",
       "    </tr>\n",
       "    <tr>\n",
       "      <th>787</th>\n",
       "      <td>Antipodes</td>\n",
       "      <td>La résidence compte 350 logements (du T1 au T3...</td>\n",
       "      <td>24/32 rue Alain Savary  21000 Dijon</td>\n",
       "      <td>47.3101768494,5.0722389221</td>\n",
       "      <td>Bourgogne-Franche-Comté</td>\n",
       "      <td>5.072239</td>\n",
       "      <td>47.310177</td>\n",
       "      <td>POINT (5.07224 47.31018)</td>\n",
       "      <td>[]</td>\n",
       "      <td>NaN</td>\n",
       "      <td>NaN</td>\n",
       "      <td>NaN</td>\n",
       "      <td>[]</td>\n",
       "      <td>NaN</td>\n",
       "      <td>NaN</td>\n",
       "      <td>NaN</td>\n",
       "    </tr>\n",
       "  </tbody>\n",
       "</table>\n",
       "<p>788 rows × 16 columns</p>\n",
       "</div>"
      ],
      "text/plain": [
       "                                                 title  \\\n",
       "0                                     Résidence Vauban   \n",
       "1                   Résidence Le Square de l'Echiquier   \n",
       "2                         Résidence Les Bas Longchamps   \n",
       "3                                   Résidence de l’Ile   \n",
       "4                               Résidence La Pacaterie   \n",
       "..                                                 ...   \n",
       "783  Cité Grémillon (secteur d'Hérouville-Saint-Clair)   \n",
       "784                           Résidence Antide Janvier   \n",
       "785                         Résidence Jean Paul Sartre   \n",
       "786                                              Maret   \n",
       "787                                          Antipodes   \n",
       "\n",
       "                                                 infos  \\\n",
       "0    Description La résidence est située au cœur de...   \n",
       "1    DescriptionRésidence universitaire nouvellemen...   \n",
       "2    Description Résidence universitaire située à p...   \n",
       "3    Description Résidence universitaire située à p...   \n",
       "4    Description Résidence universitaire longée par...   \n",
       "..                                                 ...   \n",
       "783  BP 54 - Avenue de la Grande Cavée 14202 Hérouv...   \n",
       "784  Localisation :\\r\\n Au centre ville, à proximit...   \n",
       "785  Localisation :\\r\\n La résidence Sartre est sit...   \n",
       "786                                                NaN   \n",
       "787  La résidence compte 350 logements (du T1 au T3...   \n",
       "\n",
       "                                               address  \\\n",
       "0              1 boulevard d’Alembert 78280 Guyancourt   \n",
       "1         9 square de l'échiquier 95800 Cergy-Pontoise   \n",
       "2                  2 rue Abraham Lincoln 92220 Bagneux   \n",
       "3    14 rue du Docteur Collé - bâtiment 227 du camp...   \n",
       "4       Bâtiment 499 - rue de la Pacaterie 91400 Orsay   \n",
       "..                                                 ...   \n",
       "783  BP 54 - Avenue de la Grande Cavée 14202 Hérouv...   \n",
       "784                6 rue Antide Janvier 25000 Besançon   \n",
       "785                   Rue Gaston Deferre 90000 Belfort   \n",
       "786                3 rue du Docteur Maret  21000 Dijon   \n",
       "787                24/32 rue Alain Savary  21000 Dijon   \n",
       "\n",
       "                   geocalisation                  regions  Longitude  \\\n",
       "0     48.7796516418,2.0441513062            Île-de-France   2.044151   \n",
       "1       49.0482978821,2.02688694            Île-de-France   2.026887   \n",
       "2     48.7906913757,2.3169708252            Île-de-France   2.316971   \n",
       "3      48.698802948,2.1578958035            Île-de-France   2.157896   \n",
       "4     48.7015419006,2.1846776009            Île-de-France   2.184678   \n",
       "..                           ...                      ...        ...   \n",
       "783  49.2032051086,-0.3392136097                Normandie  -0.339214   \n",
       "784   47.2365074158,6.0153431892  Bourgogne-Franche-Comté   6.015343   \n",
       "785   47.6389884949,6.8537139893  Bourgogne-Franche-Comté   6.853714   \n",
       "786   47.3224983215,5.0353322029  Bourgogne-Franche-Comté   5.035332   \n",
       "787   47.3101768494,5.0722389221  Bourgogne-Franche-Comté   5.072239   \n",
       "\n",
       "      Latitude                   geometry  \\\n",
       "0    48.779652   POINT (2.04415 48.77965)   \n",
       "1    49.048298   POINT (2.02689 49.04830)   \n",
       "2    48.790691   POINT (2.31697 48.79069)   \n",
       "3    48.698803   POINT (2.15790 48.69880)   \n",
       "4    48.701542   POINT (2.18468 48.70154)   \n",
       "..         ...                        ...   \n",
       "783  49.203205  POINT (-0.33921 49.20321)   \n",
       "784  47.236507   POINT (6.01534 47.23651)   \n",
       "785  47.638988   POINT (6.85371 47.63899)   \n",
       "786  47.322498   POINT (5.03533 47.32250)   \n",
       "787  47.310177   POINT (5.07224 47.31018)   \n",
       "\n",
       "                                                 Loyer  Max Loyer  Min Loyer  \\\n",
       "0                                       [333.0, 537.0]     537.00     333.00   \n",
       "1                                              [334.0]     334.00     334.00   \n",
       "2                                       [332.0, 359.0]     359.00     332.00   \n",
       "3                                              [362.0]     362.00     362.00   \n",
       "4                                              [154.0]     154.00     154.00   \n",
       "..                                                 ...        ...        ...   \n",
       "783       [249.85, 312.9, 388.6, 467.4, 525.0, 556.14]     556.14     249.85   \n",
       "784                              [347.0, 502.0, 523.0]     523.00     347.00   \n",
       "785  [280.0, 311.0, 361.0, 405.0, 416.0, 466.0, 586.0]     586.00     280.00   \n",
       "786                                               None        NaN        NaN   \n",
       "787                                                 []        NaN        NaN   \n",
       "\n",
       "     Mean Loyer                              Surface  Max Surface  \\\n",
       "0    435.000000                                   []          NaN   \n",
       "1    334.000000                                   []          NaN   \n",
       "2    345.500000                         [17.0, 28.0]         28.0   \n",
       "3    362.000000                               [18.0]         18.0   \n",
       "4    154.000000                                   []          NaN   \n",
       "..          ...                                  ...          ...   \n",
       "783  416.648333  [9.0, 18.0, 30.0, 49.0, 65.0, 69.0]         69.0   \n",
       "784  457.333333                         [19.0, 35.3]         35.3   \n",
       "785  403.571429                   [18.0, 36.0, 51.5]         51.5   \n",
       "786         NaN                                 None          NaN   \n",
       "787         NaN                                   []          NaN   \n",
       "\n",
       "     Min Surface  Mean Surface  \n",
       "0            NaN           NaN  \n",
       "1            NaN           NaN  \n",
       "2           17.0     22.500000  \n",
       "3           18.0     18.000000  \n",
       "4            NaN           NaN  \n",
       "..           ...           ...  \n",
       "783          9.0     40.000000  \n",
       "784         19.0     27.150000  \n",
       "785         18.0     35.166667  \n",
       "786          NaN           NaN  \n",
       "787          NaN           NaN  \n",
       "\n",
       "[788 rows x 16 columns]"
      ]
     },
     "execution_count": 5,
     "metadata": {},
     "output_type": "execute_result"
    }
   ],
   "source": [
    "from functions_for_data_cleaning import *\n",
    "\n",
    "df = get_loyer(df)\n",
    "df = get_surface(df)\n",
    "df = get_localisation(df) \n",
    "df\n"
   ]
  },
  {
   "cell_type": "code",
   "execution_count": 6,
   "id": "fa824585-1363-4043-bbe1-baf0a4ff3da4",
   "metadata": {},
   "outputs": [
    {
     "ename": "KeyError",
     "evalue": "'departement'",
     "output_type": "error",
     "traceback": [
      "\u001b[0;31m---------------------------------------------------------------------------\u001b[0m",
      "\u001b[0;31mKeyError\u001b[0m                                  Traceback (most recent call last)",
      "File \u001b[0;32m/opt/mamba/lib/python3.10/site-packages/pandas/core/indexes/base.py:3803\u001b[0m, in \u001b[0;36mIndex.get_loc\u001b[0;34m(self, key, method, tolerance)\u001b[0m\n\u001b[1;32m   3802\u001b[0m \u001b[38;5;28;01mtry\u001b[39;00m:\n\u001b[0;32m-> 3803\u001b[0m     \u001b[38;5;28;01mreturn\u001b[39;00m \u001b[38;5;28;43mself\u001b[39;49m\u001b[38;5;241;43m.\u001b[39;49m\u001b[43m_engine\u001b[49m\u001b[38;5;241;43m.\u001b[39;49m\u001b[43mget_loc\u001b[49m\u001b[43m(\u001b[49m\u001b[43mcasted_key\u001b[49m\u001b[43m)\u001b[49m\n\u001b[1;32m   3804\u001b[0m \u001b[38;5;28;01mexcept\u001b[39;00m \u001b[38;5;167;01mKeyError\u001b[39;00m \u001b[38;5;28;01mas\u001b[39;00m err:\n",
      "File \u001b[0;32m/opt/mamba/lib/python3.10/site-packages/pandas/_libs/index.pyx:138\u001b[0m, in \u001b[0;36mpandas._libs.index.IndexEngine.get_loc\u001b[0;34m()\u001b[0m\n",
      "File \u001b[0;32m/opt/mamba/lib/python3.10/site-packages/pandas/_libs/index.pyx:165\u001b[0m, in \u001b[0;36mpandas._libs.index.IndexEngine.get_loc\u001b[0;34m()\u001b[0m\n",
      "File \u001b[0;32mpandas/_libs/hashtable_class_helper.pxi:5745\u001b[0m, in \u001b[0;36mpandas._libs.hashtable.PyObjectHashTable.get_item\u001b[0;34m()\u001b[0m\n",
      "File \u001b[0;32mpandas/_libs/hashtable_class_helper.pxi:5753\u001b[0m, in \u001b[0;36mpandas._libs.hashtable.PyObjectHashTable.get_item\u001b[0;34m()\u001b[0m\n",
      "\u001b[0;31mKeyError\u001b[0m: 'departement'",
      "\nThe above exception was the direct cause of the following exception:\n",
      "\u001b[0;31mKeyError\u001b[0m                                  Traceback (most recent call last)",
      "Cell \u001b[0;32mIn [6], line 1\u001b[0m\n\u001b[0;32m----> 1\u001b[0m df[\u001b[43mdf\u001b[49m\u001b[43m[\u001b[49m\u001b[38;5;124;43m\"\u001b[39;49m\u001b[38;5;124;43mdepartement\u001b[39;49m\u001b[38;5;124;43m\"\u001b[39;49m\u001b[43m]\u001b[49m \u001b[38;5;241m==\u001b[39m \u001b[38;5;124m\"\u001b[39m\u001b[38;5;124mVaucluse\u001b[39m\u001b[38;5;124m\"\u001b[39m]\n",
      "File \u001b[0;32m/opt/mamba/lib/python3.10/site-packages/geopandas/geodataframe.py:1415\u001b[0m, in \u001b[0;36mGeoDataFrame.__getitem__\u001b[0;34m(self, key)\u001b[0m\n\u001b[1;32m   1409\u001b[0m \u001b[38;5;28;01mdef\u001b[39;00m \u001b[38;5;21m__getitem__\u001b[39m(\u001b[38;5;28mself\u001b[39m, key):\n\u001b[1;32m   1410\u001b[0m     \u001b[38;5;124;03m\"\"\"\u001b[39;00m\n\u001b[1;32m   1411\u001b[0m \u001b[38;5;124;03m    If the result is a column containing only 'geometry', return a\u001b[39;00m\n\u001b[1;32m   1412\u001b[0m \u001b[38;5;124;03m    GeoSeries. If it's a DataFrame with any columns of GeometryDtype,\u001b[39;00m\n\u001b[1;32m   1413\u001b[0m \u001b[38;5;124;03m    return a GeoDataFrame.\u001b[39;00m\n\u001b[1;32m   1414\u001b[0m \u001b[38;5;124;03m    \"\"\"\u001b[39;00m\n\u001b[0;32m-> 1415\u001b[0m     result \u001b[38;5;241m=\u001b[39m \u001b[38;5;28;43msuper\u001b[39;49m\u001b[43m(\u001b[49m\u001b[43m)\u001b[49m\u001b[38;5;241;43m.\u001b[39;49m\u001b[38;5;21;43m__getitem__\u001b[39;49m\u001b[43m(\u001b[49m\u001b[43mkey\u001b[49m\u001b[43m)\u001b[49m\n\u001b[1;32m   1416\u001b[0m     geo_col \u001b[38;5;241m=\u001b[39m \u001b[38;5;28mself\u001b[39m\u001b[38;5;241m.\u001b[39m_geometry_column_name\n\u001b[1;32m   1417\u001b[0m     \u001b[38;5;28;01mif\u001b[39;00m \u001b[38;5;28misinstance\u001b[39m(result, Series) \u001b[38;5;129;01mand\u001b[39;00m \u001b[38;5;28misinstance\u001b[39m(result\u001b[38;5;241m.\u001b[39mdtype, GeometryDtype):\n",
      "File \u001b[0;32m/opt/mamba/lib/python3.10/site-packages/pandas/core/frame.py:3804\u001b[0m, in \u001b[0;36mDataFrame.__getitem__\u001b[0;34m(self, key)\u001b[0m\n\u001b[1;32m   3802\u001b[0m \u001b[38;5;28;01mif\u001b[39;00m \u001b[38;5;28mself\u001b[39m\u001b[38;5;241m.\u001b[39mcolumns\u001b[38;5;241m.\u001b[39mnlevels \u001b[38;5;241m>\u001b[39m \u001b[38;5;241m1\u001b[39m:\n\u001b[1;32m   3803\u001b[0m     \u001b[38;5;28;01mreturn\u001b[39;00m \u001b[38;5;28mself\u001b[39m\u001b[38;5;241m.\u001b[39m_getitem_multilevel(key)\n\u001b[0;32m-> 3804\u001b[0m indexer \u001b[38;5;241m=\u001b[39m \u001b[38;5;28;43mself\u001b[39;49m\u001b[38;5;241;43m.\u001b[39;49m\u001b[43mcolumns\u001b[49m\u001b[38;5;241;43m.\u001b[39;49m\u001b[43mget_loc\u001b[49m\u001b[43m(\u001b[49m\u001b[43mkey\u001b[49m\u001b[43m)\u001b[49m\n\u001b[1;32m   3805\u001b[0m \u001b[38;5;28;01mif\u001b[39;00m is_integer(indexer):\n\u001b[1;32m   3806\u001b[0m     indexer \u001b[38;5;241m=\u001b[39m [indexer]\n",
      "File \u001b[0;32m/opt/mamba/lib/python3.10/site-packages/pandas/core/indexes/base.py:3805\u001b[0m, in \u001b[0;36mIndex.get_loc\u001b[0;34m(self, key, method, tolerance)\u001b[0m\n\u001b[1;32m   3803\u001b[0m     \u001b[38;5;28;01mreturn\u001b[39;00m \u001b[38;5;28mself\u001b[39m\u001b[38;5;241m.\u001b[39m_engine\u001b[38;5;241m.\u001b[39mget_loc(casted_key)\n\u001b[1;32m   3804\u001b[0m \u001b[38;5;28;01mexcept\u001b[39;00m \u001b[38;5;167;01mKeyError\u001b[39;00m \u001b[38;5;28;01mas\u001b[39;00m err:\n\u001b[0;32m-> 3805\u001b[0m     \u001b[38;5;28;01mraise\u001b[39;00m \u001b[38;5;167;01mKeyError\u001b[39;00m(key) \u001b[38;5;28;01mfrom\u001b[39;00m \u001b[38;5;21;01merr\u001b[39;00m\n\u001b[1;32m   3806\u001b[0m \u001b[38;5;28;01mexcept\u001b[39;00m \u001b[38;5;167;01mTypeError\u001b[39;00m:\n\u001b[1;32m   3807\u001b[0m     \u001b[38;5;66;03m# If we have a listlike key, _check_indexing_error will raise\u001b[39;00m\n\u001b[1;32m   3808\u001b[0m     \u001b[38;5;66;03m#  InvalidIndexError. Otherwise we fall through and re-raise\u001b[39;00m\n\u001b[1;32m   3809\u001b[0m     \u001b[38;5;66;03m#  the TypeError.\u001b[39;00m\n\u001b[1;32m   3810\u001b[0m     \u001b[38;5;28mself\u001b[39m\u001b[38;5;241m.\u001b[39m_check_indexing_error(key)\n",
      "\u001b[0;31mKeyError\u001b[0m: 'departement'"
     ]
    }
   ],
   "source": [
    "df[df[\"departement\"] == \"Vaucluse\"]"
   ]
  },
  {
   "cell_type": "code",
   "execution_count": 8,
   "id": "b2ead2c7-554b-4030-806c-30b8c8ff51fe",
   "metadata": {},
   "outputs": [
    {
     "data": {
      "text/html": [
       "<div>\n",
       "<style scoped>\n",
       "    .dataframe tbody tr th:only-of-type {\n",
       "        vertical-align: middle;\n",
       "    }\n",
       "\n",
       "    .dataframe tbody tr th {\n",
       "        vertical-align: top;\n",
       "    }\n",
       "\n",
       "    .dataframe thead th {\n",
       "        text-align: right;\n",
       "    }\n",
       "</style>\n",
       "<table border=\"1\" class=\"dataframe\">\n",
       "  <thead>\n",
       "    <tr style=\"text-align: right;\">\n",
       "      <th></th>\n",
       "      <th>title</th>\n",
       "      <th>infos</th>\n",
       "      <th>address</th>\n",
       "      <th>geocalisation</th>\n",
       "      <th>regions</th>\n",
       "      <th>Longitude</th>\n",
       "      <th>Latitude</th>\n",
       "      <th>geometry</th>\n",
       "      <th>Loyer</th>\n",
       "      <th>Max Loyer</th>\n",
       "      <th>Min Loyer</th>\n",
       "      <th>Mean Loyer</th>\n",
       "      <th>Surface</th>\n",
       "      <th>Max Surface</th>\n",
       "      <th>Min Surface</th>\n",
       "      <th>Mean Surface</th>\n",
       "    </tr>\n",
       "  </thead>\n",
       "  <tbody>\n",
       "    <tr>\n",
       "      <th>31</th>\n",
       "      <td>Résidence Laugier</td>\n",
       "      <td>75 T1 individuels de 19 à 23 m² à 323,60 € - D...</td>\n",
       "      <td>100 rue Carreterie – 84000 Avignon</td>\n",
       "      <td>43.9510726929,4.8152480125</td>\n",
       "      <td>Provence-Alpes-Côte d'Azur</td>\n",
       "      <td>4.815248</td>\n",
       "      <td>43.951073</td>\n",
       "      <td>POINT (4.81525 43.95107)</td>\n",
       "      <td>[323.6, 390.1]</td>\n",
       "      <td>390.1</td>\n",
       "      <td>323.6</td>\n",
       "      <td>356.85</td>\n",
       "      <td>[19.0, 24.0, 30.0]</td>\n",
       "      <td>30.0</td>\n",
       "      <td>19.0</td>\n",
       "      <td>24.333333</td>\n",
       "    </tr>\n",
       "  </tbody>\n",
       "</table>\n",
       "</div>"
      ],
      "text/plain": [
       "                title                                              infos  \\\n",
       "31  Résidence Laugier  75 T1 individuels de 19 à 23 m² à 323,60 € - D...   \n",
       "\n",
       "                               address               geocalisation  \\\n",
       "31  100 rue Carreterie – 84000 Avignon  43.9510726929,4.8152480125   \n",
       "\n",
       "                       regions  Longitude   Latitude  \\\n",
       "31  Provence-Alpes-Côte d'Azur   4.815248  43.951073   \n",
       "\n",
       "                    geometry           Loyer  Max Loyer  Min Loyer  \\\n",
       "31  POINT (4.81525 43.95107)  [323.6, 390.1]      390.1      323.6   \n",
       "\n",
       "    Mean Loyer             Surface  Max Surface  Min Surface  Mean Surface  \n",
       "31      356.85  [19.0, 24.0, 30.0]         30.0         19.0     24.333333  "
      ]
     },
     "execution_count": 8,
     "metadata": {},
     "output_type": "execute_result"
    }
   ],
   "source": [
    "df[df[\"title\"] == \"Résidence Laugier\"]"
   ]
  },
  {
   "cell_type": "markdown",
   "id": "6b0538f8-0806-4c31-8e09-3dd9498ff994",
   "metadata": {},
   "source": [
    "## 1.2.Récupération des loyers privés des communes (avec la géolocalisation des communes)"
   ]
  },
  {
   "cell_type": "code",
   "execution_count": null,
   "id": "d94c39f6-c289-46d4-b7e9-fa0d164dde10",
   "metadata": {},
   "outputs": [],
   "source": [
    "df_private = pd.read_csv(\"https://www.data.gouv.fr/fr/datasets/r/8fac6fb7-cd07-4747-8e0b-b101c476f0da\", encoding= 'unicode_escape', sep = \";\")\n"
   ]
  },
  {
   "cell_type": "markdown",
   "id": "8d09c0be-c1a5-4db3-b851-5e613a0ca5d8",
   "metadata": {},
   "source": [
    "On ne garde que le code INSEE, le nom de la ville et le loyer supérieur par m^2\n"
   ]
  },
  {
   "cell_type": "code",
   "execution_count": null,
   "id": "51cb5c91-c92e-4133-9ce2-6c0f2665ab64",
   "metadata": {},
   "outputs": [],
   "source": [
    "df_private = df_private[[\"INSEE\", \"LIBGEO\",\"upr.IPm2\"]]"
   ]
  },
  {
   "cell_type": "markdown",
   "id": "e728c188-5991-44c2-9566-c7cb90c3a1fc",
   "metadata": {},
   "source": [
    "On renomme la colonne INSEE en codgeo pour pouvoir la merger avec la carte des contours des villes."
   ]
  },
  {
   "cell_type": "code",
   "execution_count": null,
   "id": "c7bf2d90-62a9-474c-ab90-f77efc6bf158",
   "metadata": {},
   "outputs": [],
   "source": [
    "df_private.rename(columns = {'INSEE':'codgeo',\"upr.IPm2\" : \"Loyer_prive_m2\" }, inplace = True)"
   ]
  },
  {
   "cell_type": "code",
   "execution_count": null,
   "id": "0685bd07-09ce-47ee-8702-0a58b0922cc1",
   "metadata": {},
   "outputs": [],
   "source": [
    "\"\"\"\n",
    "On rajoute un 0 devant le code INSEE quand il ne fait que quatre chiffres (pour uniformiser avec l'autre base).\n",
    "\"\"\"\n",
    "df_private[\"codgeo\"] = df_private[\"codgeo\"].apply(lambda x : \"0\" + x if len(x) == 4 else x)\n"
   ]
  },
  {
   "cell_type": "code",
   "execution_count": null,
   "id": "20ce7545-85cd-4e22-98e6-db4d6c2d2923",
   "metadata": {},
   "outputs": [],
   "source": [
    "df_private = df_private.set_index('codgeo') #on réindex le dataframe avec le code INSEE pour merger après. "
   ]
  },
  {
   "cell_type": "markdown",
   "id": "525d5f3b-d3c2-4de5-b05e-8190adb58dda",
   "metadata": {},
   "source": [
    "On récuppère les contours géographique des communes.(prends du temps)"
   ]
  },
  {
   "cell_type": "code",
   "execution_count": null,
   "id": "9b90d1fc-2110-4d3c-a488-013aea0bf752",
   "metadata": {},
   "outputs": [],
   "source": [
    "gdf_communes_boundaries = gpd.read_file(\"https://www.data.gouv.fr/fr/datasets/r/e9391593-fa95-4153-aabe-87ca84d197e9\")"
   ]
  },
  {
   "cell_type": "markdown",
   "id": "ab77190e-13eb-4e35-acac-67468c7eff89",
   "metadata": {},
   "source": [
    "On ne garde que le code INSEE et les données polygoniales. "
   ]
  },
  {
   "cell_type": "code",
   "execution_count": null,
   "id": "f5f4a295-b1f4-42b5-9bbb-13608e477348",
   "metadata": {},
   "outputs": [],
   "source": [
    "gdf_communes_boundaries.rename(columns = {'INSEE_COM':'codgeo'}, inplace = True)\n",
    "gdf_communes_boundaries = gdf_communes_boundaries[[\"codgeo\", \"geometry\"]]\n",
    "gdf_communes_boundaries = gdf_communes_boundaries.set_index('codgeo')\n"
   ]
  },
  {
   "cell_type": "markdown",
   "id": "dd57dd54-e63e-4235-a0a6-8fae425120e3",
   "metadata": {},
   "source": [
    "On concatène les deux datafarmes"
   ]
  },
  {
   "cell_type": "code",
   "execution_count": null,
   "id": "a11dc288-49b8-475b-a900-54e01fd3741d",
   "metadata": {},
   "outputs": [],
   "source": [
    "gdf_private = pd.concat([df_private,gdf_communes_boundaries], axis = 1, join = \"inner\")"
   ]
  },
  {
   "cell_type": "markdown",
   "id": "0dc65fbe-bb25-4b68-a2c0-29a616c68f6b",
   "metadata": {},
   "source": [
    "## 1.3. Jointures spatiales"
   ]
  },
  {
   "cell_type": "code",
   "execution_count": null,
   "id": "22ecc069-82cd-4aa2-aa36-4d2eec09154b",
   "metadata": {},
   "outputs": [],
   "source": [
    "\n",
    "#gdf_private['geometry'] = gdf_private['geometry'].apply(wkt.loads) #on transforme en format wkt (sinon ça ne marche pas)\n",
    "gdf_private = gpd.GeoDataFrame(gdf_private)  #on transforme en geodataframe \n",
    "df = gpd.sjoin(df, gdf_private, how='left', op='within') #on réalise la jointure à gauche avec within \n",
    "#i.e si le point est dans le polynôme. "
   ]
  },
  {
   "cell_type": "code",
   "execution_count": null,
   "id": "74ce5391-2321-4cde-bfcd-64ebc689a91e",
   "metadata": {},
   "outputs": [],
   "source": [
    "del df['index_right'] #on supprime l'index right pour la prochaine jointure\n"
   ]
  },
  {
   "cell_type": "markdown",
   "id": "bce9cb34-c700-445f-8a1f-448d93db8e4a",
   "metadata": {},
   "source": [
    "## 1.4 Ajout des départements "
   ]
  },
  {
   "cell_type": "code",
   "execution_count": null,
   "id": "0fd3a918-6dcd-4230-932d-1d9c691093b6",
   "metadata": {},
   "outputs": [],
   "source": [
    "gdf_dep = gpd.read_file(\"https://www.data.gouv.fr/fr/datasets/r/eb36371a-761d-44a8-93ec-3d728bec17ce\")\n",
    "gdf_dep.rename(columns = {'nom':'departement'}, inplace = True)\n",
    "gdf_dep = gdf_dep[[\"departement\", \"geometry\"]]\n",
    "gdf_dep"
   ]
  },
  {
   "cell_type": "code",
   "execution_count": null,
   "id": "75f05f9a-e0f6-4db4-8c83-ecba4316f352",
   "metadata": {},
   "outputs": [],
   "source": [
    "df = gpd.sjoin(df, gdf_dep, how='left', op='within')\n"
   ]
  },
  {
   "cell_type": "code",
   "execution_count": null,
   "id": "61c6c21f-3e91-418b-a068-655de8fa3789",
   "metadata": {},
   "outputs": [],
   "source": [
    "del df['index_right'] #on supprime l'index right pour la prochaine jointure"
   ]
  },
  {
   "cell_type": "markdown",
   "id": "9b0b1f51-617b-4193-952c-9eb2bb22282b",
   "metadata": {},
   "source": [
    "## 1.5. Association de résidences à une école "
   ]
  },
  {
   "cell_type": "code",
   "execution_count": null,
   "id": "da36b406-66e8-42fc-96c5-c8f3481c0a97",
   "metadata": {},
   "outputs": [],
   "source": [
    "df.crs = \"epsg:4326\" #on définit la projection de notre dataframe"
   ]
  },
  {
   "cell_type": "code",
   "execution_count": null,
   "id": "712af093-5a58-4345-a6e3-3216bf4a7fdf",
   "metadata": {},
   "outputs": [],
   "source": [
    "\"\"\"\n",
    "Import de notre base de données des écoles \n",
    "\"\"\"\n",
    "df_schools = pd.read_csv(\"https://www.data.gouv.fr/fr/datasets/r/0c713161-26fb-415e-ac1d-8769125f338d\", sep = \";\")"
   ]
  },
  {
   "cell_type": "code",
   "execution_count": null,
   "id": "00d985de-bd37-4b75-aede-2424d41ea881",
   "metadata": {},
   "outputs": [],
   "source": [
    "df_schools = df_schools[df_schools[\"annee_universitaire\"] == \"2021-22\" ] #on ne prend que l'année 2021-22\n",
    "df_schools = df_schools[[\"etablissement_lib\", \"effectif_sans_cpge\", \"etablissement_code_commune\", \"etablissement_commune\"]]"
   ]
  },
  {
   "cell_type": "code",
   "execution_count": null,
   "id": "8a8ea9b4-75ec-4b71-b265-e0279a37fe6d",
   "metadata": {},
   "outputs": [],
   "source": [
    "df_schools.rename(columns = {'etablissement_code_commune':'codgeo'}, inplace = True) #On renomme la colonne pour la jointure\n"
   ]
  },
  {
   "cell_type": "code",
   "execution_count": null,
   "id": "69c4469f-950d-4297-a8d4-e9517ee22953",
   "metadata": {},
   "outputs": [],
   "source": [
    "index_with_nan = df_schools.index[df_schools.isnull().any(axis=1)]\n",
    "df_schools.drop(index_with_nan,0, inplace=True) \n",
    "#on enlève les valeurs manquantes (il manque des coordonnées pour certains établissments)\n",
    "df_schools.set_index('codgeo', inplace = True)"
   ]
  },
  {
   "cell_type": "code",
   "execution_count": null,
   "id": "042fa8fe-e826-4074-b995-d3b6125bf824",
   "metadata": {},
   "outputs": [],
   "source": [
    "df_schools = df_schools.join(gdf_communes_boundaries)\n",
    "df_schools = gpd.GeoDataFrame(df_schools)\n",
    "df_schools.crs = \"epsg:4326\""
   ]
  },
  {
   "cell_type": "code",
   "execution_count": null,
   "id": "b029a437-f5e5-4d97-85b1-dc2aef7978a0",
   "metadata": {},
   "outputs": [],
   "source": [
    "df = get_nb_student(df, df_schools, 20)"
   ]
  },
  {
   "cell_type": "markdown",
   "id": "5df02235-6dec-4281-8246-46d038c9d23f",
   "metadata": {},
   "source": [
    "## 1.6 Dataframe finale "
   ]
  },
  {
   "cell_type": "code",
   "execution_count": null,
   "id": "e9d6c360-8da5-4764-b1fb-f8d391ba9ef3",
   "metadata": {},
   "outputs": [],
   "source": [
    "df"
   ]
  },
  {
   "cell_type": "markdown",
   "id": "fb7b19d6-4b80-47ab-908a-6ebaa9814d2b",
   "metadata": {},
   "source": [
    "# II. Visualisation "
   ]
  },
  {
   "cell_type": "markdown",
   "id": "c67c13e5-407e-4a62-a47c-ffde8a740b27",
   "metadata": {},
   "source": [
    "## 2.1 Portrait économique et statistique des résidences"
   ]
  },
  {
   "cell_type": "code",
   "execution_count": null,
   "id": "f7e2fa76-644d-4306-b028-0eafd3436395",
   "metadata": {},
   "outputs": [],
   "source": [
    "df['prix_par_m2_min'] = df['Min Loyer']/df['Min Surface'] # On crée une nouvelle variable prix_par_m2_min "
   ]
  },
  {
   "cell_type": "code",
   "execution_count": null,
   "id": "113ffcbe-5fa9-4e9c-9ab5-67c162a0883e",
   "metadata": {},
   "outputs": [],
   "source": [
    "df[\"Loyer_prive_m2\"] = df[\"Loyer_prive_m2\"].apply(lambda x : x.replace(',', '.')) #on remplace les , par des points pour ensuite transformet cette colonne en float\n"
   ]
  },
  {
   "cell_type": "code",
   "execution_count": null,
   "id": "8ec41670-cc92-4fc5-a72a-c30a68727d60",
   "metadata": {},
   "outputs": [],
   "source": [
    "df[\"Loyer_prive_m2\"] = df[\"Loyer_prive_m2\"].astype(float)"
   ]
  },
  {
   "cell_type": "code",
   "execution_count": null,
   "id": "82e53299-e6f7-472a-a837-12c292391ef0",
   "metadata": {},
   "outputs": [],
   "source": [
    "df3 = df.groupby(['departement']).mean().sort_values('prix_par_m2_min')"
   ]
  },
  {
   "cell_type": "markdown",
   "id": "49ab8716-2ed9-4aef-bb03-f0e7216ecbc0",
   "metadata": {},
   "source": [
    "## Construction des graphiques "
   ]
  },
  {
   "cell_type": "code",
   "execution_count": null,
   "id": "8d5e2933-6cb7-41ca-b061-a5e279250b6d",
   "metadata": {},
   "outputs": [],
   "source": [
    "df2 = df.groupby(['departement']).mean().sort_values('prix_par_m2_min')\n",
    "df2 = df2.loc[(df2['prix_par_m2_min']>1)] "
   ]
  },
  {
   "cell_type": "code",
   "execution_count": null,
   "id": "f990675d-52d4-49eb-ac97-5e9d6b93dd77",
   "metadata": {},
   "outputs": [],
   "source": [
    "df3['departement'] = df3.index #je crée une colonne qui correspond à l'index (la colonne regions)"
   ]
  },
  {
   "cell_type": "code",
   "execution_count": null,
   "id": "3b219e9e-e6e7-4247-8818-fd710f43ebf7",
   "metadata": {},
   "outputs": [],
   "source": [
    "df3 = df.groupby(['departement']).mean().sort_values('prix_par_m2_min')\n",
    "df3 = df3.loc[(df3['prix_par_m2_min']>1)] \n",
    "df3['departement'] = df3.index\n",
    "df3"
   ]
  },
  {
   "cell_type": "code",
   "execution_count": null,
   "id": "2c5af592-765a-47b2-96da-9715b81ddb2e",
   "metadata": {},
   "outputs": [],
   "source": [
    "departments = df3['departement']\n",
    "prix_m2 = df3['prix_par_m2_min']\n",
    "plt.bar(departments,prix_m2)\n",
    "plt.xticks(departments, rotation = 'vertical', size =8)\n",
    "plt.xlabel('Départment')\n",
    "plt.ylabel('Prix au m2 studio Crous par département')\n",
    "plt.show()"
   ]
  },
  {
   "cell_type": "markdown",
   "id": "ca9a4f96-4d0a-42a8-8ed3-fbbca000e9fa",
   "metadata": {},
   "source": [
    "## Ajout de la colonne 'prix_par_m2_max'(qui correspond le plus souvent à des logements en colocation (T2/T3/T4))"
   ]
  },
  {
   "cell_type": "code",
   "execution_count": null,
   "id": "ba409b3d-e959-405a-b21a-e056d94f3c83",
   "metadata": {},
   "outputs": [],
   "source": [
    "df['prix_par_m2_max'] = df['Max Loyer']/df['Max Surface'] # On crée une nouvelle variable prix_par_m2_min "
   ]
  },
  {
   "cell_type": "code",
   "execution_count": null,
   "id": "3a4b8fd9-d125-403d-97a8-469b0ae998f7",
   "metadata": {},
   "outputs": [],
   "source": [
    "df.groupby(['departement']).mean().sort_values('prix_par_m2_max')"
   ]
  },
  {
   "cell_type": "code",
   "execution_count": null,
   "id": "078ed486-ef47-483d-bb8f-986bf04b7a91",
   "metadata": {},
   "outputs": [],
   "source": [
    "df_max = df.groupby(['departement']).mean().sort_values('prix_par_m2_max')\n",
    "df_max = df_max.loc[(df_max['prix_par_m2_max']>1)] "
   ]
  },
  {
   "cell_type": "code",
   "execution_count": null,
   "id": "bcd8ffea-cba0-4a01-82b9-85cdfe340558",
   "metadata": {},
   "outputs": [],
   "source": [
    "df_max['departement'] = df_max.index #je crée une colonne qui correspond à l'index (la colonne regions)\n",
    "df_max"
   ]
  },
  {
   "cell_type": "code",
   "execution_count": null,
   "id": "c2c49566-e98e-4c00-bcb5-de791ba1a9a3",
   "metadata": {},
   "outputs": [],
   "source": [
    "departments = df_max['departement']\n",
    "prix_m2_max = df_max['prix_par_m2_max']\n",
    "plt.bar(departments,prix_m2_max)\n",
    "plt.xticks(departments, rotation = 'vertical', size =8)\n",
    "plt.xlabel('Départment')\n",
    "plt.ylabel('Prix au m2 colocation Crous par département')\n",
    "plt.show()"
   ]
  },
  {
   "cell_type": "markdown",
   "id": "b72083ae-1acf-48bd-ab67-01152826e6dc",
   "metadata": {},
   "source": [
    "## Ajout de la colonne 'prix_par_m2_mean'(qui correspond à la moyenne des loyers des logements porposés) "
   ]
  },
  {
   "cell_type": "code",
   "execution_count": null,
   "id": "98b44235-56c5-4a27-8cad-f0631a17d0dd",
   "metadata": {},
   "outputs": [],
   "source": [
    "df['prix_par_m2_mean'] = df['Mean Loyer']/df['Mean Surface'] # On crée une nouvelle variable prix_par_m2_mean\n",
    "df\n",
    "\n",
    "df_mean = df.groupby(['departement']).mean().sort_values('prix_par_m2_mean')\n",
    "df_mean = df_mean.loc[(df_mean['prix_par_m2_mean']>1)] \n",
    "df_mean['departement'] = df_mean.index\n"
   ]
  },
  {
   "cell_type": "code",
   "execution_count": null,
   "id": "62438716-ec18-4073-bbbf-cf62a224091c",
   "metadata": {},
   "outputs": [],
   "source": [
    "departments = df_mean['departement']\n",
    "prix_m2_mean = df_mean['prix_par_m2_mean']\n",
    "plt.bar(departments,prix_m2_mean)\n",
    "plt.xticks(departments, rotation = 'vertical', size =8)\n",
    "plt.xlabel('Départment')\n",
    "plt.ylabel('Prix au m2 moyen Crous par département')\n",
    "plt.show()"
   ]
  },
  {
   "cell_type": "markdown",
   "id": "aa887eb4-2714-409e-adf6-d4d69293a269",
   "metadata": {},
   "source": [
    "## Construction de graphes pour surfaces min et max "
   ]
  },
  {
   "cell_type": "code",
   "execution_count": null,
   "id": "402fa7dc-072e-4688-b64d-c360e765fab2",
   "metadata": {},
   "outputs": [],
   "source": [
    "df_surface_min = df.groupby(['departement']).mean().sort_values('Min Surface')\n",
    "df_surface_min"
   ]
  },
  {
   "cell_type": "code",
   "execution_count": null,
   "id": "8fbd2bb8-8395-4ea4-b9be-967742f25fd5",
   "metadata": {},
   "outputs": [],
   "source": [
    "df_surface_min = df_surface_min.groupby(['departement']).mean().sort_values('Min Surface')\n",
    "df_surface_min \n",
    "df_surface_min = df_surface_min.loc[(df_surface_min['Min Surface']>1)] \n",
    "df_surface_min['departement'] = df_surface_min.index\n"
   ]
  },
  {
   "cell_type": "code",
   "execution_count": null,
   "id": "f6f4d73a-f13a-4662-bf19-b0fc780cbf0c",
   "metadata": {},
   "outputs": [],
   "source": [
    "departments = df_surface_min['departement']\n",
    "Min_Surface = df_surface_min['Min Surface']\n",
    "plt.bar(departments,Min_Surface)\n",
    "plt.xticks(departments, rotation = 'vertical', size =7)\n",
    "plt.xlabel('Départment')\n",
    "plt.ylabel('Surface minimale studio Crous par département')\n",
    "plt.show()"
   ]
  },
  {
   "cell_type": "code",
   "execution_count": null,
   "id": "bd829cb2-cd80-4298-be0c-3770525f7725",
   "metadata": {},
   "outputs": [],
   "source": [
    "df_surface_max = df.groupby(['departement']).mean().sort_values('Max Surface')\n",
    "df_surface_max \n",
    "df_surface_max = df_surface_max.loc[(df_surface_max['Max Surface']>1)] \n",
    "df_surface_max['departement'] = df_surface_max.index\n"
   ]
  },
  {
   "cell_type": "code",
   "execution_count": null,
   "id": "ccf55299-55cd-4ba3-a217-02d0a4ea26da",
   "metadata": {},
   "outputs": [],
   "source": [
    "df_surface_max = df.groupby(['departement']).mean().sort_values('Max Surface')\n",
    "df_surface_max"
   ]
  },
  {
   "cell_type": "code",
   "execution_count": null,
   "id": "2c941841-408f-4219-8dd1-c7d2230b96f4",
   "metadata": {},
   "outputs": [],
   "source": [
    "departments = df_surface_max['departement']\n",
    "Max_Surface = df_surface_max['Max Surface']\n",
    "plt.bar(departments,Max_Surface)\n",
    "plt.xticks(departments, rotation = 'vertical', size =7)\n",
    "plt.xlabel('Départment')\n",
    "plt.ylabel('Surface maximale colocation Crous par département')\n",
    "plt.show()"
   ]
  },
  {
   "cell_type": "markdown",
   "id": "083bc382-9681-4957-ae0f-8a089a216dd5",
   "metadata": {},
   "source": [
    "## Compter le nombre de residence Crous par région "
   ]
  },
  {
   "cell_type": "code",
   "execution_count": null,
   "id": "cf8eb9ce-bab8-455e-8746-44c34f248e35",
   "metadata": {},
   "outputs": [],
   "source": [
    "df['comptage_résidence']= 1\n",
    "df.head(5)\n",
    "df_nb_res = df.groupby(['departement']).sum().sort_values('comptage_résidence', ascending = False)\n",
    "\n",
    "df_nb_res['departement'] = df_nb_res.index #je crée une colonne qui correspond à l'index (la colonne regions)\n",
    "\n",
    "df_nb_res\n",
    "\n",
    "df_nb_res_moins = df_nb_res.loc[(df_nb_res['comptage_résidence']<5)] \n",
    "#sns.barplot(y='departement', x='comptage_résidence', data= df_nb_res, width= 0.2, orient=\"h\").set_title('Nombre de résidence par départements')#OK "
   ]
  },
  {
   "cell_type": "code",
   "execution_count": null,
   "id": "a4c2e3ba-46c1-4fa7-b25c-419bf8061b85",
   "metadata": {},
   "outputs": [],
   "source": [
    "departments = df_nb_res_moins['departement']\n",
    "Nb_résidence = df_nb_res_moins['comptage_résidence']\n",
    "plt.bar(departments,Nb_résidence )\n",
    "plt.xticks(departments, rotation = 'vertical', size =7)\n",
    "plt.xlabel('Départments')\n",
    "plt.ylabel('Départements avec moins de 5 résidences Crous')\n",
    "plt.show()"
   ]
  },
  {
   "cell_type": "code",
   "execution_count": null,
   "id": "91cc29d3-813a-4cd4-8edf-7df6935c8745",
   "metadata": {},
   "outputs": [],
   "source": [
    "df_nb_res_plus = df_nb_res.loc[(df_nb_res['comptage_résidence']>20)] \n",
    "departments = df_nb_res_plus['departement']\n",
    "Nb_résidence = df_nb_res_plus['comptage_résidence']\n",
    "plt.bar(departments,Nb_résidence )\n",
    "plt.xticks(departments, rotation = 'vertical', size =7)\n",
    "plt.xlabel('Départments')\n",
    "plt.ylabel('Départements avec le plus de résidences résidences Crous (>20)')\n",
    "plt.show()"
   ]
  },
  {
   "cell_type": "markdown",
   "id": "6ecd9fda-9e5c-4f81-858e-d734216b422e",
   "metadata": {},
   "source": [
    "## 2.2 La France des Crous\n",
    "\n",
    "On retire les territoires et régions d'Outre-Mer pour réaliser des carte"
   ]
  },
  {
   "cell_type": "code",
   "execution_count": null,
   "id": "50181c88-c58b-4640-910e-c2d36ea0ab71",
   "metadata": {},
   "outputs": [],
   "source": [
    "df_metro = df[ (df[\"regions\"] != \"La Réunion\") &\n",
    "\n",
    "                    (df[\"regions\"] != \"Guadeloupe\") &\n",
    "\n",
    "                    (df[\"regions\"] != \"Martinique\") &\n",
    "\n",
    "                    (df[\"regions\"] != \"Guyane\")]\n",
    "\n",
    "df_metro.reset_index(inplace = True)\n"
   ]
  },
  {
   "cell_type": "markdown",
   "id": "e641ba2b-10c1-4781-b49f-4d89b15a6e52",
   "metadata": {},
   "source": [
    "### 2.2.1 Classical maps"
   ]
  },
  {
   "cell_type": "code",
   "execution_count": null,
   "id": "84200df0-1164-4b64-864f-eff4a30cb7fc",
   "metadata": {},
   "outputs": [],
   "source": [
    "\n",
    "\"\"\"\n",
    "On récupère un fond de carte de la France.\n",
    "\"\"\"\n",
    "\n",
    "France = gpd.read_file(\"https://raw.githubusercontent.com/holtzy/The-Python-Graph-Gallery/master/static/data/france.geojson\")\n"
   ]
  },
  {
   "cell_type": "code",
   "execution_count": null,
   "id": "e5e4400b-0075-4690-8b2d-8215699d2023",
   "metadata": {},
   "outputs": [],
   "source": [
    "fig, ax = plt.subplots(figsize=(24, 18))\n",
    "France.plot(ax =ax, edgecolor='darkgrey', facecolor='lightgrey')\n",
    "\n",
    "df_metro.plot(ax = ax, color='red') \n"
   ]
  },
  {
   "cell_type": "markdown",
   "id": "08f88256-e905-4379-96db-bfc69d2456ff",
   "metadata": {},
   "source": [
    "### 2.2.2. Interactive maps"
   ]
  },
  {
   "cell_type": "code",
   "execution_count": null,
   "id": "57050bfb-eb7c-4dc5-a573-e4dfa10404a1",
   "metadata": {},
   "outputs": [],
   "source": [
    "map = folium.Map(location=[48.7144587, 2.2453842], tiles=\"OpenStreetMap\", zoom_start=11)\n",
    "\n",
    "# Create a geometry list from the GeoDataFrame\n",
    "\n",
    "geo_df_list = [[point.xy[1][0], point.xy[0][0]] for point in df_metro.geometry] \n",
    "\n",
    "\n",
    "# Iterate through list and add a marker for each residence, color-coded by its type.\n",
    "\n",
    "i = 0\n",
    "\n",
    "for coordinates in geo_df_list:\n",
    "\n",
    "    # Place the markers with the popup labels and data\n",
    "\n",
    "    map.add_child(\n",
    "\n",
    "        folium.Marker(\n",
    "\n",
    "            location=coordinates,\n",
    "\n",
    "            popup=\n",
    "\n",
    "                 \"Name: \" + str(df_metro.title[i]) + \"<br>\"\n",
    "\n",
    "                + \"Moyenne Loyer: \" + str(df_metro[\"Mean Loyer\"][i]) + \"<br>\"\n",
    "\n",
    "                + \"Moyenne surface: \" + str(df_metro[\"Mean Surface\"][i]) + \"<br>\"\n",
    "\n",
    "                + \"Address: \" + str(df_metro.address[i]) + \"<br>\"\n",
    "\n",
    "                + \"Coordinates: \" + str(geo_df_list[i])\n",
    "\n",
    "            ,\n",
    "\n",
    "        \n",
    "\n",
    "            icon=folium.Icon(color=\"blue\"),\n",
    "\n",
    "        )\n",
    "\n",
    "    )\n",
    "\n",
    "    i = i + 1\n",
    "\n",
    "map"
   ]
  },
  {
   "cell_type": "markdown",
   "id": "acece86e-0055-4bad-9e39-33b1b66aa6e3",
   "metadata": {},
   "source": [
    "### 2.2.3 cartes statistiques "
   ]
  },
  {
   "cell_type": "code",
   "execution_count": null,
   "id": "e7efe168-e65d-4218-bc45-e5a0e3f16aa4",
   "metadata": {},
   "outputs": [],
   "source": [
    "gdf_mean = df_metro.groupby(['departement']).mean().sort_values('prix_par_m2_mean')\n",
    "gdf_mean['departement'] = gdf_mean.index"
   ]
  },
  {
   "cell_type": "code",
   "execution_count": null,
   "id": "53f5ae39-e817-49de-a6d3-e0a712e51c3e",
   "metadata": {},
   "outputs": [],
   "source": [
    "gpd_mean = gpd.GeoDataFrame(gdf_mean.set_index('departement').join(gdf_dep.set_index('departement')))"
   ]
  },
  {
   "cell_type": "code",
   "execution_count": null,
   "id": "cc5f9671-e94f-4c04-a94f-3d878cd9bb2c",
   "metadata": {},
   "outputs": [],
   "source": [
    "gpd_mean_wout_nan = gpd_mean[gpd_mean['prix_par_m2_mean'] > 1]"
   ]
  },
  {
   "cell_type": "code",
   "execution_count": null,
   "id": "93541421-9a65-4027-87f4-a60791d1184e",
   "metadata": {},
   "outputs": [],
   "source": [
    "fig, ax = plt.subplots(figsize=(24, 18))\n",
    "France.plot(ax =ax, edgecolor='darkgrey', facecolor='lightgrey')\n",
    "\n",
    "# Set up the color sheme:\n",
    "import mapclassify as mc\n",
    "scheme = mc.Quantiles(gpd_mean_wout_nan['prix_par_m2_mean'], k=10)\n",
    "\n",
    "# Map\n",
    "gplt.choropleth(gpd_mean_wout_nan, \n",
    "    hue=\"prix_par_m2_mean\", \n",
    "    linewidth=.1,\n",
    "    scheme=scheme, cmap='inferno_r',\n",
    "    legend=True,\n",
    "    edgecolor='black',\n",
    "    ax=ax\n",
    "                \n",
    ");\n",
    "\n",
    "ax.set_title('Mean crous rent in french departements', fontsize=13);\n",
    "\n"
   ]
  },
  {
   "cell_type": "code",
   "execution_count": null,
   "id": "1df45668-5d0b-4805-86f8-e1d2aa4c32bd",
   "metadata": {},
   "outputs": [],
   "source": [
    "fig, ax = plt.subplots(figsize=(24, 18))\n",
    "France.plot(ax =ax, edgecolor='darkgrey', facecolor='lightgrey')\n",
    "\n",
    "# Set up the color sheme:\n",
    "import mapclassify as mc\n",
    "scheme = mc.Quantiles(gpd_mean_wout_nan['prix_par_m2_mean'], k=10)\n",
    "\n",
    "# Map\n",
    "gplt.choropleth(gpd_mean_wout_nan, \n",
    "    hue=\"prix_par_m2_mean\", \n",
    "    linewidth=.1,\n",
    "    scheme=scheme, cmap='inferno_r',\n",
    "    legend=True,\n",
    "    edgecolor='black',\n",
    "    ax=ax\n",
    ");\n",
    "ax.set_title('Mean crous rent in french \"departements\" with residences', fontsize=13)\n",
    "\n",
    "df_metro.plot(ax = ax, color='green');"
   ]
  },
  {
   "cell_type": "markdown",
   "id": "c6ebb800-6359-484a-a091-0594d711cdaa",
   "metadata": {},
   "source": [
    "# Modélisation "
   ]
  },
  {
   "cell_type": "markdown",
   "id": "c61e347a-e7b9-4e0d-b8a1-d31bb48dd1db",
   "metadata": {},
   "source": [
    "On commence par enlever les NaN du dataframe qui bloquent la regression linéaire"
   ]
  },
  {
   "cell_type": "code",
   "execution_count": null,
   "id": "78721de5-ed14-4d1b-93ac-35eb15c5d13c",
   "metadata": {},
   "outputs": [],
   "source": [
    "from sklearn.linear_model import LinearRegression\n",
    "import math\n",
    "from sklearn.model_selection import train_test_split"
   ]
  },
  {
   "cell_type": "code",
   "execution_count": null,
   "id": "10489cd5-7a05-4665-9635-9f2d953cdf09",
   "metadata": {},
   "outputs": [],
   "source": [
    "df.isnull().sum()\n",
    "df2 = df\n",
    "index_with_nan = df2.index[df2.isnull().any(axis=1)]\n",
    "print(index_with_nan.shape)\n",
    "df2.drop(index_with_nan,0, inplace=True)\n",
    "df2[['Mean Loyer', 'Mean Surface']].isnull().sum()"
   ]
  },
  {
   "cell_type": "code",
   "execution_count": null,
   "id": "51beabc4-efa1-48d2-86fb-13f6dd03d890",
   "metadata": {},
   "outputs": [],
   "source": [
    "df2 = df2.reset_index()\n",
    "df2"
   ]
  },
  {
   "cell_type": "markdown",
   "id": "8b22d08c-9e67-49f1-98b5-df1b3873cd04",
   "metadata": {},
   "source": [
    "Régression linéaire de la moyenne des loyers sur la moyenne des surfaces"
   ]
  },
  {
   "cell_type": "code",
   "execution_count": null,
   "id": "46e4155c-b23a-4487-845b-26818ab8d1f7",
   "metadata": {},
   "outputs": [],
   "source": [
    "df2['Mean Surface'].describe()"
   ]
  },
  {
   "cell_type": "code",
   "execution_count": null,
   "id": "41f74181-7301-4e61-947e-35c4cf6bd72a",
   "metadata": {},
   "outputs": [],
   "source": [
    "var_explicatives = df2['Mean Surface']\n",
    "YLoyer = df2['Mean Loyer']\n",
    "#on transforme Y et X en array que l'on reformate\n",
    "YLoyer = np.array(YLoyer).reshape(-1,1)\n",
    "var_explicatives = (np.array(var_explicatives).reshape(-1,1))"
   ]
  },
  {
   "cell_type": "code",
   "execution_count": null,
   "id": "17ae64bd-1498-4fec-8a5a-629b551cec33",
   "metadata": {},
   "outputs": [],
   "source": [
    "X_train, X_test, Y_train, Y_test = train_test_split(var_explicatives,YLoyer,test_size=0.3,train_size=0.7)\n",
    "lin= LinearRegression()\n",
    "reg = lin.fit(X_train,Y_train)\n",
    "pred_train = lin.predict(X_train)\n",
    "pred_test = lin.predict(X_test)\n",
    "\n",
    "coefficients_sans_cst= reg.coef_\n",
    "r_2 = reg.score(X_train,Y_train)\n",
    "print(r_2)\n",
    "print(coefficients_sans_cst)"
   ]
  },
  {
   "cell_type": "code",
   "execution_count": null,
   "id": "28761d4d-3ce1-4b3c-a9b7-97099ebb89b8",
   "metadata": {},
   "outputs": [],
   "source": [
    "\n",
    "plt.scatter(X_train, Y_train, color='red') # plotting the observation line\n",
    " \n",
    "plt.plot(X_train, lin.predict(X_train), color='blue') # plotting the regression line\n",
    " \n",
    "plt.title(\"Loyer moyen vs Surface moyenne (Training set)\") # stating the title of the graph\n",
    " \n",
    "plt.xlabel(\"Surface moyenne\") # adding the name of x-axis\n",
    "plt.ylabel(\"Loyer moyen\") # adding the name of y-axis\n",
    "plt.show() # specifies end of graph\n"
   ]
  },
  {
   "cell_type": "code",
   "execution_count": null,
   "id": "684dcf4c-a40a-4b3c-894c-6ff0e69b1074",
   "metadata": {},
   "outputs": [],
   "source": [
    "#Deuxième essai: regression linéaire du min Loyer sur min surface "
   ]
  },
  {
   "cell_type": "code",
   "execution_count": null,
   "id": "d847cc1a-537e-43ba-8786-434d4da87244",
   "metadata": {},
   "outputs": [],
   "source": [
    "df2[['Min Loyer', 'Min Surface']].isnull().sum()"
   ]
  },
  {
   "cell_type": "code",
   "execution_count": null,
   "id": "591734da-18dd-470b-82ac-46d3294760f0",
   "metadata": {},
   "outputs": [],
   "source": [
    "X_min_surface = df2['Min Surface'] #la variable explicative\n",
    "Y_min_Loyer = df2['Min Loyer']\n",
    "#on transforme Y et X en array que l'on reformate\n",
    "Y_min_Loyer = np.array(Y_min_Loyer).reshape(-1,1)\n",
    "X_min_surface = (np.array(X_min_surface).reshape(-1,1))"
   ]
  },
  {
   "cell_type": "code",
   "execution_count": null,
   "id": "862dfff6-250e-4196-bcae-c012314b9fd8",
   "metadata": {},
   "outputs": [],
   "source": [
    "X_train, X_test, Y_train, Y_test = train_test_split(X_min_surface,Y_min_Loyer,test_size=0.2,train_size=0.8)\n",
    "lin= LinearRegression()\n",
    "reg = lin.fit(X_train,Y_train)\n",
    "pred_train = lin.predict(X_train)\n",
    "pred_test = lin.predict(X_test)\n",
    "\n",
    "coefficients_sans_cst= reg.coef_\n",
    "r_2 = reg.score(X_train,Y_train)\n",
    "print(r_2)\n",
    "print(coefficients_sans_cst) "
   ]
  },
  {
   "cell_type": "code",
   "execution_count": null,
   "id": "90f00d93-c215-4c6b-ac62-7c6d4f8280d1",
   "metadata": {},
   "outputs": [],
   "source": [
    "#avec la régression du min Loyer sur min Surface, on a un R² peu significatif"
   ]
  },
  {
   "cell_type": "code",
   "execution_count": null,
   "id": "66e5a38d-0645-4245-b0bc-f1c5dbd3e1d2",
   "metadata": {},
   "outputs": [],
   "source": [
    "#Regression linéaire du Loyer sur le nombre total d'étudiants"
   ]
  },
  {
   "cell_type": "code",
   "execution_count": null,
   "id": "a22e4b54-2bcf-4110-9a71-e1c905fafcb3",
   "metadata": {},
   "outputs": [],
   "source": [
    "df2['Nbstudents_total'].describe()"
   ]
  },
  {
   "cell_type": "code",
   "execution_count": null,
   "id": "a6ddd7a5-e0ca-40bd-a493-2a90ebbf9267",
   "metadata": {},
   "outputs": [],
   "source": [
    "X_Nbstudents = df2['Nbstudents_total'] #la variable explicative\n",
    "YLoyer = df2['Mean Loyer']\n",
    "#on transforme Y et X en array que l'on reformate\n",
    "YLoyer = np.array(YLoyer).reshape(-1,1)\n",
    "X_Nbstudents = (np.array(X_Nbstudents).reshape(-1,1))"
   ]
  },
  {
   "cell_type": "code",
   "execution_count": null,
   "id": "f59ffff8-f10e-4d26-8f18-6c9fde6fb960",
   "metadata": {},
   "outputs": [],
   "source": [
    "X_train, X_test, Y_train, Y_test = train_test_split(X_Nbstudents,YLoyer,test_size=0.2,train_size=0.8)\n",
    "lin= LinearRegression()\n",
    "reg = lin.fit(X_train,Y_train)\n",
    "pred_train = lin.predict(X_train)\n",
    "pred_test = lin.predict(X_test)\n",
    "\n",
    "coefficients_sans_cst= reg.coef_\n",
    "r_2 = reg.score(X_train,Y_train)\n",
    "print(r_2)\n",
    "print(coefficients_sans_cst) "
   ]
  },
  {
   "cell_type": "code",
   "execution_count": null,
   "id": "233e7bb4-abf6-4796-af41-9cfae424eacc",
   "metadata": {},
   "outputs": [],
   "source": [
    "plt.scatter(X_train, Y_train, color='red') # plotting the observation line\n",
    " \n",
    "plt.plot(X_train, lin.predict(X_train), color='blue') # plotting the regression line\n",
    " \n",
    "plt.title(\"Loyer moyen vs Surface moyenne (Training set)\") # stating the title of the graph\n",
    " \n",
    "plt.xlabel(\"Surface moyenne\") # adding the name of x-axis\n",
    "plt.ylabel(\"Loyer moyen\") # adding the name of y-axis\n",
    "plt.show() # specifies end of graph"
   ]
  },
  {
   "cell_type": "code",
   "execution_count": null,
   "id": "3a6bf296-85c2-4e76-95d7-c67432884897",
   "metadata": {},
   "outputs": [],
   "source": [
    "#Regression linéaire du Loyer sur le LOG du nombre total d'étudiants"
   ]
  },
  {
   "cell_type": "code",
   "execution_count": null,
   "id": "588869c3-83c1-44f8-89c9-8ab6d02a4c94",
   "metadata": {},
   "outputs": [],
   "source": [
    "for i in range (0, (np.shape(df2['Nbstudents_total']))[0]): \n",
    "    if  df2['Nbstudents_total'][i]==0: \n",
    "        df2['Nbstudents_total'][i]=1 #cela permet de ne pas avoir de valeur 0 quand on applique le log\n",
    "df2['Nbstudents_total'].describe()\n",
    "\n",
    "len(df2[df2['Nbstudents_total']==0])"
   ]
  },
  {
   "cell_type": "code",
   "execution_count": null,
   "id": "7eae9e08-2535-472c-9c95-256ff4a5afce",
   "metadata": {},
   "outputs": [],
   "source": [
    "X_log_Nbstudents = np.log(df2['Nbstudents_total']) #la variable explicative\n",
    "YLoyer = df2['Mean Loyer']\n",
    "#on transforme Y et X en array que l'on reformate\n",
    "YLoyer = np.array(YLoyer).reshape(-1,1)\n",
    "X_log_Nbstudents = (np.array(X_log_Nbstudents).reshape(-1,1))"
   ]
  },
  {
   "cell_type": "code",
   "execution_count": null,
   "id": "031a440a-2dbd-4d0b-be97-4611914d4e78",
   "metadata": {},
   "outputs": [],
   "source": [
    "X_train, X_test, Y_train, Y_test = train_test_split(X_log_Nbstudents,YLoyer,test_size=0.2,train_size=0.8)\n",
    "lin= LinearRegression()\n",
    "reg = lin.fit(X_train,Y_train)\n",
    "pred_train = lin.predict(X_train)\n",
    "pred_test = lin.predict(X_test)\n",
    "\n",
    "coefficients_sans_cst= reg.coef_\n",
    "r_2 = reg.score(X_train,Y_train)\n",
    "print(r_2)\n",
    "print(coefficients_sans_cst) "
   ]
  },
  {
   "cell_type": "code",
   "execution_count": null,
   "id": "994b69c1-7492-48ca-aedd-b647fb7552d1",
   "metadata": {},
   "outputs": [],
   "source": [
    "df2.columns"
   ]
  },
  {
   "cell_type": "code",
   "execution_count": null,
   "id": "5e8b68cb-2a4e-4081-b056-010850db77ab",
   "metadata": {},
   "outputs": [],
   "source": [
    "#régression linéaire du "
   ]
  }
 ],
 "metadata": {
  "kernelspec": {
   "display_name": "Python 3 (ipykernel)",
   "language": "python",
   "name": "python3"
  },
  "language_info": {
   "codemirror_mode": {
    "name": "ipython",
    "version": 3
   },
   "file_extension": ".py",
   "mimetype": "text/x-python",
   "name": "python",
   "nbconvert_exporter": "python",
   "pygments_lexer": "ipython3",
   "version": "3.10.4"
  }
 },
 "nbformat": 4,
 "nbformat_minor": 5
}
