{
 "cells": [
  {
   "cell_type": "markdown",
   "id": "58424bf1-1d28-4ad5-8895-a4fa34e3bde7",
   "metadata": {
    "jp-MarkdownHeadingCollapsed": true,
    "tags": []
   },
   "source": [
    "---\n",
    "# **LA LOI DU CROUS :**\n",
    "## *Étude des déterminations du prix des résidences universitaires Crous et de leurs répartitions dans les départements*\n",
    "---"
   ]
  },
  {
   "cell_type": "markdown",
   "id": "fd2bda15-8b9a-4c75-bbf6-b41026fc4194",
   "metadata": {
    "tags": []
   },
   "source": [
    "# Introduction:"
   ]
  },
  {
   "cell_type": "markdown",
   "id": "eaa2a6c4-f53a-40a7-91f0-934e59954e3e",
   "metadata": {
    "jp-MarkdownHeadingCollapsed": true,
    "tags": []
   },
   "source": [
    "350 000 étudiants habitent dans une résidence des centres régionaux des œuvres universitaires et scolaires (Crous), soit seulement 10% des 2 millions d'étudiants vivant hors de leurs domiciles, selon un  rapport sur le logement et la précarité des étudiants, des apprentis et des jeunes actifs de l'Assemblée nationale datant de janvier 2022 [1]. Selon ce même rapport, le logement est le premier poste de dépense des étudiants soit 60% de leurs revenus. Il est donc primordiale de donner accès à un logement abordable aux étudiants qui sont de plus en plus précaires de manière équitable selon les départements où ils se trouvent. \n",
    "\n",
    "Partant de ces constats, nous nous sommes posés plusieurs questions : le loyer est-il le même pour un logement situé dans un marché immobilier en tension comme Paris que dans un marché qu'il l'est moins comme Dijon ? Ou au contraire, est-ce que les prix sont globalement uniformes ? De même, est-ce que la concentration importante d'étudiants scolarisés à proximité de la résidence influe le prix vers la hausse? \n",
    "\n",
    "De ce fait, nous chercherons donc à répondre à la problématique suivante : \n",
    "\n",
    "***Les loyers des résidences des Crous suivent-ils la loi de l'offre et de la demande ?***\n",
    "\n",
    "**Modèle :**\n",
    "\n",
    "Ainsi, nous proposons d'étudier dans ce rapport, d'une part la répartition des 795 résidences des Crous sur le territoire; et d'autre part, les déterminants du prix du loyer de celles-ci pour pouvoir montrer d'éventuelles variations entre les départements. Pour expliquer le loyer nous utiliserons un modèle d'offre et de demande économique élémentaire. Dans celui-ci, la résidence offre des biens de surfaces variables q à un prix p en mètre carré, et fait face à une concurrence représenté par le montant des loyers dans le parc privé. La demande sera représentée par l'effectif des étudiants scolarisés dans une école se situant dans un rayon de 20km de la résidence. Nous faisons l'hypothèse que les résidences proposent à peu près les mêmes caractéristiques entre elles et que les étudiants sont des price-takers. \n",
    "\n",
    "Nous réaliserons ainsi des régressions linéaires classiques : \n",
    "\n",
    "\\begin{equation}\n",
    "\\hat{Y}_i = \\hat{\\beta}_0 + \\hat{\\beta}_1 X_i + \\hat{\\epsilon}_i\n",
    "\\end{equation}\n",
    "\n",
    "**PLAN:**\n",
    "\n",
    "1. Dans une première partie, nous réccupérons une base de données avec les loyers (maximum, minimum et moyen), les surfaces (idem), les coordonnées géographiques, les loyers privés dans la ville de la résidence et l'effectif des étudiants dans un périmètre de 20 kilomètres. \n",
    "\n",
    "2. Dans une deuxième partie, nous analyserons d'une part la répartition des résidences en France et, d'autre part, nous réaliserons des statistiques descriptives sur les différentes variables de notre base de données. \n",
    "\n",
    "3. Dernièrement, nous utiliserons des modèles de régressions linéaires pour répondre à notre problématique. \n"
   ]
  },
  {
   "cell_type": "markdown",
   "id": "f6c94f07-eaa8-4378-9d48-117d0a7748d5",
   "metadata": {
    "tags": []
   },
   "source": [
    "## Les données utilisées "
   ]
  },
  {
   "cell_type": "markdown",
   "id": "52fb1d90-a0ab-4215-ba04-e02dd6a5a759",
   "metadata": {},
   "source": [
    "Nous nous servirons de plusieurs bases de données : \n",
    "\n",
    "1. **Ensemble des logements proposés aux étudiants par le réseau des CROUS :** \n",
    "\n",
    "Données mises à disposition par le Centre National des Œuvres Universitaires et Scolaires (CROUS). Elles ont été publiées en 2017 et sont mises à jour assez régulièrement. Le problème principal de cette base de données est la récupération des loyers et des surfaces qui sont stockés dans une colonne nommée \"infos\" (s'il y en a). De plus, chaque colonne a été remplie par les résidences. La qualité et la structure des informations sont donc très variables. Nous avons donc mis en place des techniques de traitements textuels ou de natural language processing (NPL).\n",
    "\n",
    "https://www.data.gouv.fr/fr/datasets/ensemble-des-logements-proposes-aux-etudiants-par-le-reseau-des-crous/\n",
    "\n",
    "2. **\"Carte des loyers\" - Indicateurs de loyers d'annonce par commune en 2018**\n",
    "\n",
    "Données obtenues par une collaboration entre la Direction Générale de l’Aménagement, du Logement et de la Nature (DGALN), une équipe de recherche en économie d’Agrosup Dijon, de l’Institut national de la recherche en agronomique (INRAE), de SeLoger, de leboncoin et de PAP. Ces équipes ont créé différents indicateurs par communes à partir de 9 millions d'annonces. Les données datent de 2018 et nous nous servirons uniquement de données pour les appartements.\n",
    "\n",
    "https://www.data.gouv.fr/fr/datasets/carte-des-loyers-indicateurs-de-loyers-dannonce-par-commune-en-2018/\n",
    "\n",
    "\n",
    "3. **Statistiques sur les effectifs d'étudiants inscrits par établissement public sous tutelle du ministère en charge de l'Enseignement supérieur (avec doubles inscriptions CPGE)**\n",
    "\n",
    "\"Ce jeu de données propose un ensemble de statistiques sur les effectifs d'étudiants inscrits de 2006-07 à 2021-22 par établissement public sous tutelle du ministère en charge de l'Enseignement supérieur français : universités, universités de technologie, grands établissements, COMUE, écoles normales supérieures, écoles centrales, INSA, autres écoles d'ingénieurs...\"\n",
    "\n",
    "https://www.data.gouv.fr/fr/datasets/statistiques-sur-les-effectifs-detudiants-inscrits-par-etablissement-public-sous-tutelle-du-ministere-en-charge-de-lenseignement-superieur-avec-doubles-inscriptions-cpge/\n",
    "\n",
    "4. **Contours Communes France Administrative \"Format Admin-Express\" avec arrondissements**\n",
    "\n",
    "Jeu de données de l'IGN regroupant les contours communales avec arrondissements.\n",
    "\n",
    "https://www.data.gouv.fr/fr/datasets/contours-communes-france-administrative-format-admin-express-avec-arrondissements/\n",
    "\n",
    "5. **Contours des départements français issus d'OpenStreetMap**\n",
    "\n",
    "Jeu de données d'OpenStreetMap regroupant les contours géographiques des départements. \n",
    "\n",
    "https://www.data.gouv.fr/fr/datasets/contours-des-departements-francais-issus-d-openstreetmap/\n",
    "\n",
    "\n",
    "\n"
   ]
  },
  {
   "cell_type": "markdown",
   "id": "f5053f55-8bb4-48e8-b174-3dcd653d8d09",
   "metadata": {
    "tags": []
   },
   "source": [
    "# Librairies nécessaires"
   ]
  },
  {
   "cell_type": "code",
   "execution_count": 1,
   "id": "e5ed2ed3-407f-497a-a534-ec8d9ca113fa",
   "metadata": {},
   "outputs": [],
   "source": [
    "%%capture \n",
    "#hide output \n",
    "!pip install geoplot\n",
    "!pip install contextily\n",
    "!pip install altair"
   ]
  },
  {
   "cell_type": "code",
   "execution_count": 2,
   "id": "7474ad37-f0fa-45d4-ab0e-e8a6a1ac3b75",
   "metadata": {},
   "outputs": [
    {
     "name": "stderr",
     "output_type": "stream",
     "text": [
      "[nltk_data] Downloading package punkt to /home/onyxia/nltk_data...\n",
      "[nltk_data]   Package punkt is already up-to-date!\n",
      "ERROR 1: PROJ: proj_create_from_database: Open of /opt/mamba/share/proj failed\n"
     ]
    }
   ],
   "source": [
    "import pandas as pd \n",
    "import geopandas as gpd \n",
    "import nltk\n",
    "nltk.download('punkt')\n",
    "import contextily as ctx\n",
    "import geoplot as gplt\n",
    "import geoplot.crs as gcrs\n",
    "import matplotlib.pyplot as plt\n",
    "import folium\n",
    "import numpy as np\n",
    "import seaborn as sns\n",
    "import altair as alt \n",
    "import statsmodels.stats.api as sms\n",
    "from statsmodels.stats.diagnostic import het_breuschpagan"
   ]
  },
  {
   "cell_type": "markdown",
   "id": "953129fb-c4c6-400e-9927-628c53a8aff0",
   "metadata": {
    "tags": []
   },
   "source": [
    "# Partie I : Obtention du dataframe "
   ]
  },
  {
   "cell_type": "markdown",
   "id": "38f6c637-3015-4f33-8154-1f2641aff6cd",
   "metadata": {},
   "source": [
    "L'objectif de cette partie est de créer une base de données contenant pour chaque résidence : \n",
    "- Le prix du loyer (maximum, minimum et moyen);\n",
    "- La surface (idem);\n",
    "- Les coordonnées géographiques compatibles avec Géopanda (nécessaires pour réccupèrer le nombre d'étudiants et les cartes);\n",
    "- L'indicateur du loyer privé maximum d'un appartement dans la ville de la résidence;\n",
    "- Le nombre d'étudiants scolarisés dans un rayon de 20 km autour de la résidence hors CPGE\n",
    "\n",
    "Le principal problème de cette base de données est le fait que d'une part, il n'existe pas de colonne contenant exlicitement le loyer et les surfaces, et d'autre part, chaque résidence a rempli à sa manière les informations sur les loyers et les surfaces (s'ils ont rempli). Nous avons donc mis en place des fonctions de Natural Language Processing (NLP) pour pouvoir les réccupèrer (pour plus d'informations voire le document : functions_for_data_cleaning.py) "
   ]
  },
  {
   "cell_type": "markdown",
   "id": "6f68a75e-6506-431d-8aa4-5a0ba3153b2a",
   "metadata": {
    "tags": []
   },
   "source": [
    "## I.1. Récupération des loyers, des surfaces et de la localisation des résidences"
   ]
  },
  {
   "cell_type": "code",
   "execution_count": 3,
   "id": "2ab5e590-2677-4d1f-8234-bbc41ddf44fc",
   "metadata": {},
   "outputs": [],
   "source": [
    "\"\"\"\n",
    "Importation des données.\n",
    "\"\"\"\n",
    "df = pd.read_csv(\"https://data.enseignementsup-recherche.gouv.fr//explore/dataset/fr_crous_logement_france_entiere/download?format=csv&timezone=Europe/Berlin&use_labels_for_header=false\", \n",
    "                 sep =';')"
   ]
  },
  {
   "cell_type": "code",
   "execution_count": 4,
   "id": "5ebddfa7-ef72-4de9-b50a-d2f5dc35eecd",
   "metadata": {},
   "outputs": [],
   "source": [
    "\"\"\"\n",
    "Réduction de notre base de données aux 5 colonnes qui nous intéressent (nom de la résidence ou \"title\";\n",
    "la colonne comportant toutes les infos sur les surfaces et les loyers ; l'adresse; les coordonnées géographiques; \n",
    "et les noms des régions.\n",
    "\"\"\"\n",
    "df = df[[\"title\", \"infos\", \"address\" ,\"geocalisation\", \"regions\"]]"
   ]
  },
  {
   "cell_type": "code",
   "execution_count": 5,
   "id": "6c9c485a-1da0-4ff8-84d2-adc3610a4bdd",
   "metadata": {},
   "outputs": [
    {
     "name": "stderr",
     "output_type": "stream",
     "text": [
      "[nltk_data] Downloading package punkt to /home/onyxia/nltk_data...\n",
      "[nltk_data]   Package punkt is already up-to-date!\n"
     ]
    }
   ],
   "source": [
    "from functions_for_data_cleaning import * #document .py comportant nos fonctions nécessaires au nettoyage\n",
    "\n",
    "df = get_loyer(df) #récuppération des loyers à partir de la colonne \"infos\"\n",
    "df = get_surface(df) #récuppération des surfaces à partir de la colonne \"infos\"\n",
    "df = get_localisation(df) #récuppération des coordonnées géographiques à partir de la colonne \"geocalisation\""
   ]
  },
  {
   "cell_type": "markdown",
   "id": "6b0538f8-0806-4c31-8e09-3dd9498ff994",
   "metadata": {},
   "source": [
    "## I.2. Récupération des loyers privés des communes (avec la géolocalisation des communes)"
   ]
  },
  {
   "cell_type": "markdown",
   "id": "5d1921bc-b434-449d-8e14-131b4c215453",
   "metadata": {},
   "source": [
    "Le but de cette partie est de joindre la base précédemment obtenue avec la base des indicateurs des loyers privés maximum pour un appartement et par commune (var : upr.lPm2)"
   ]
  },
  {
   "cell_type": "code",
   "execution_count": 6,
   "id": "d94c39f6-c289-46d4-b7e9-fa0d164dde10",
   "metadata": {},
   "outputs": [],
   "source": [
    "df_private = pd.read_csv(\"https://www.data.gouv.fr/fr/datasets/r/8fac6fb7-cd07-4747-8e0b-b101c476f0da\", encoding= 'unicode_escape', sep = \";\")"
   ]
  },
  {
   "cell_type": "markdown",
   "id": "8d09c0be-c1a5-4db3-b851-5e613a0ca5d8",
   "metadata": {},
   "source": [
    "On ne garde que le code INSEE, le nom de la ville et le loyer supérieur par m^2\n"
   ]
  },
  {
   "cell_type": "code",
   "execution_count": 7,
   "id": "51cb5c91-c92e-4133-9ce2-6c0f2665ab64",
   "metadata": {},
   "outputs": [],
   "source": [
    "df_private = df_private[[\"INSEE\", \"LIBGEO\",\"upr.IPm2\"]]"
   ]
  },
  {
   "cell_type": "markdown",
   "id": "e728c188-5991-44c2-9566-c7cb90c3a1fc",
   "metadata": {},
   "source": [
    "On renomme la colonne INSEE en codgeo pour pouvoir la merger avec la carte des contours des villes."
   ]
  },
  {
   "cell_type": "code",
   "execution_count": 8,
   "id": "c7bf2d90-62a9-474c-ab90-f77efc6bf158",
   "metadata": {},
   "outputs": [],
   "source": [
    "df_private.rename(columns = {'INSEE':'codgeo',\"upr.IPm2\" : \"Loyer_prive_m2\" }, inplace = True)"
   ]
  },
  {
   "cell_type": "code",
   "execution_count": 9,
   "id": "c441ffe8-bc1f-4589-b3c4-947f07db55c2",
   "metadata": {},
   "outputs": [],
   "source": [
    "\"\"\"\n",
    "On rajoute un 0 devant le code INSEE quand il ne fait que quatre chiffres (pour uniformiser avec l'autre base).\n",
    "\"\"\"\n",
    "df_private[\"codgeo\"] = df_private[\"codgeo\"].apply(lambda x : \"0\" + x if len(x) == 4 else x)\n",
    "\n",
    "\"\"\"\n",
    "On transforme en float le loyer privé \n",
    "\"\"\"\n",
    "df_private[\"Loyer_prive_m2\"] = df_private[\"Loyer_prive_m2\"].apply(lambda x : x.replace(',','.')) \n",
    "df_private[\"Loyer_prive_m2\"] = df_private[\"Loyer_prive_m2\"].astype(float)"
   ]
  },
  {
   "cell_type": "code",
   "execution_count": 10,
   "id": "20ce7545-85cd-4e22-98e6-db4d6c2d2923",
   "metadata": {},
   "outputs": [],
   "source": [
    "df_private = df_private.set_index('codgeo') #on réindex le dataframe avec le code INSEE pour merger après. "
   ]
  },
  {
   "cell_type": "markdown",
   "id": "525d5f3b-d3c2-4de5-b05e-8190adb58dda",
   "metadata": {},
   "source": [
    "On récupére les contours géographique des communes pour pouvoir faire la jointure avec notre base.(prends du temps)"
   ]
  },
  {
   "cell_type": "code",
   "execution_count": 11,
   "id": "9b90d1fc-2110-4d3c-a488-013aea0bf752",
   "metadata": {},
   "outputs": [],
   "source": [
    "gdf_communes_boundaries = gpd.read_file(\"https://www.data.gouv.fr/fr/datasets/r/e9391593-fa95-4153-aabe-87ca84d197e9\")"
   ]
  },
  {
   "cell_type": "markdown",
   "id": "ab77190e-13eb-4e35-acac-67468c7eff89",
   "metadata": {},
   "source": [
    "On ne garde que le code INSEE et les données polygoniales. "
   ]
  },
  {
   "cell_type": "code",
   "execution_count": 12,
   "id": "f5f4a295-b1f4-42b5-9bbb-13608e477348",
   "metadata": {},
   "outputs": [],
   "source": [
    "gdf_communes_boundaries.rename(columns = {'INSEE_COM':'codgeo'}, inplace = True)\n",
    "gdf_communes_boundaries = gdf_communes_boundaries[[\"codgeo\", \"geometry\"]]\n",
    "gdf_communes_boundaries = gdf_communes_boundaries.set_index('codgeo')\n"
   ]
  },
  {
   "cell_type": "markdown",
   "id": "dd57dd54-e63e-4235-a0a6-8fae425120e3",
   "metadata": {},
   "source": [
    "On concatène les deux dataframes"
   ]
  },
  {
   "cell_type": "code",
   "execution_count": 13,
   "id": "a11dc288-49b8-475b-a900-54e01fd3741d",
   "metadata": {},
   "outputs": [],
   "source": [
    "gdf_private = pd.concat([df_private,gdf_communes_boundaries], axis = 1, join = \"inner\")"
   ]
  },
  {
   "cell_type": "markdown",
   "id": "0dc65fbe-bb25-4b68-a2c0-29a616c68f6b",
   "metadata": {},
   "source": [
    "## I.3. Jointures spatiales"
   ]
  },
  {
   "cell_type": "markdown",
   "id": "e271c539-798f-479a-affb-6fbd29751771",
   "metadata": {},
   "source": [
    "Maintenant que nous avons une base des loyers privés avec les coordonnées des communes nous allons pouvoir réaliser une jointure spatiale avec la base des résidences."
   ]
  },
  {
   "cell_type": "code",
   "execution_count": null,
   "id": "22ecc069-82cd-4aa2-aa36-4d2eec09154b",
   "metadata": {},
   "outputs": [
    {
     "name": "stderr",
     "output_type": "stream",
     "text": [
      "/opt/mamba/lib/python3.10/site-packages/IPython/core/interactiveshell.py:3373: FutureWarning: The `op` parameter is deprecated and will be removed in a future release. Please use the `predicate` parameter instead.\n",
      "  if await self.run_code(code, result, async_=asy):\n",
      "/tmp/ipykernel_727/2580680376.py:3: UserWarning: CRS mismatch between the CRS of left geometries and the CRS of right geometries.\n",
      "Use `to_crs()` to reproject one of the input geometries to match the CRS of the other.\n",
      "\n",
      "Left CRS: None\n",
      "Right CRS: EPSG:4326\n",
      "\n",
      "  df = gpd.sjoin(df, gdf_private, how='left', op='within') #on réalise la jointure à gauche avec within\n"
     ]
    }
   ],
   "source": [
    "\n",
    "#gdf_private['geometry'] = gdf_private['geometry'].apply(wkt.loads) #on transforme en format wkt (sinon ça ne marche pas)\n",
    "gdf_private = gpd.GeoDataFrame(gdf_private)  #on transforme en geodataframe \n",
    "df = gpd.sjoin(df, gdf_private, how='left', op='within') #on réalise la jointure à gauche avec within \n",
    "#i.e si le point est dans le polynôme. "
   ]
  },
  {
   "cell_type": "code",
   "execution_count": null,
   "id": "74ce5391-2321-4cde-bfcd-64ebc689a91e",
   "metadata": {},
   "outputs": [],
   "source": [
    "del df['index_right'] #on supprime l'index right pour la prochaine jointure"
   ]
  },
  {
   "cell_type": "markdown",
   "id": "bce9cb34-c700-445f-8a1f-448d93db8e4a",
   "metadata": {
    "tags": []
   },
   "source": [
    "## I.4 Ajout des départements "
   ]
  },
  {
   "cell_type": "markdown",
   "id": "464e3f55-f82e-492b-bd0b-7e9db0d48296",
   "metadata": {},
   "source": [
    "Pour pouvoir avoir des comparaisons par départements nous allons récupérer les départements et les joindre avec nos bases grâce à une jointure spatiale. "
   ]
  },
  {
   "cell_type": "code",
   "execution_count": null,
   "id": "0fd3a918-6dcd-4230-932d-1d9c691093b6",
   "metadata": {},
   "outputs": [],
   "source": [
    "gdf_dep = gpd.read_file(\"https://www.data.gouv.fr/fr/datasets/r/eb36371a-761d-44a8-93ec-3d728bec17ce\")\n",
    "gdf_dep.rename(columns = {'nom':'departement'}, inplace = True)\n",
    "gdf_dep = gdf_dep[[\"departement\", \"geometry\", \"code_insee\"]]"
   ]
  },
  {
   "cell_type": "code",
   "execution_count": null,
   "id": "75f05f9a-e0f6-4db4-8c83-ecba4316f352",
   "metadata": {},
   "outputs": [],
   "source": [
    "df = gpd.sjoin(df, gdf_dep, how='left', op='within')\n",
    "del df['index_right'] #on supprime l'index right pour la prochaine jointure"
   ]
  },
  {
   "cell_type": "code",
   "execution_count": null,
   "id": "3b556d62-ae4a-48cc-a403-98fb1dda0b07",
   "metadata": {},
   "outputs": [],
   "source": [
    "gdf_dep"
   ]
  },
  {
   "cell_type": "markdown",
   "id": "9b0b1f51-617b-4193-952c-9eb2bb22282b",
   "metadata": {},
   "source": [
    "## I.5. Association de résidences à une école "
   ]
  },
  {
   "cell_type": "markdown",
   "id": "ccf4b2b8-db70-4847-a2ce-e2dfee7e9334",
   "metadata": {},
   "source": [
    "Import de notre base de données des écoles pour pouvoir récupérer le nombre d'étudiants scolarisés dans un rayon de 20km."
   ]
  },
  {
   "cell_type": "code",
   "execution_count": null,
   "id": "712af093-5a58-4345-a6e3-3216bf4a7fdf",
   "metadata": {},
   "outputs": [],
   "source": [
    "df_schools = pd.read_csv(\"https://www.data.gouv.fr/fr/datasets/r/0c713161-26fb-415e-ac1d-8769125f338d\", sep = \";\")"
   ]
  },
  {
   "cell_type": "code",
   "execution_count": null,
   "id": "26204dc4-c195-44ad-aeb5-5e3ca270d155",
   "metadata": {
    "tags": []
   },
   "outputs": [],
   "source": [
    "df_schools"
   ]
  },
  {
   "cell_type": "code",
   "execution_count": null,
   "id": "00d985de-bd37-4b75-aede-2424d41ea881",
   "metadata": {},
   "outputs": [],
   "source": [
    "df_schools = df_schools[df_schools[\"annee_universitaire\"] == \"2021-22\" ] #on ne prend que l'année 2021-22\n",
    "df_schools = df_schools[[\"etablissement_lib\", \"effectif_sans_cpge\", \"etablissement_code_commune\", \"etablissement_commune\",  \"etablissement_departement\"]]\n",
    "df_schools.rename(columns = {'etablissement_code_commune':'codgeo'}, inplace = True) #On renomme la colonne pour la jointure"
   ]
  },
  {
   "cell_type": "markdown",
   "id": "bf461619-a38b-4fd6-8576-03aecd6bdc51",
   "metadata": {},
   "source": [
    "On enlève les valeurs manquantes (il manque des coordonnées pour certains établissments)."
   ]
  },
  {
   "cell_type": "code",
   "execution_count": null,
   "id": "69c4469f-950d-4297-a8d4-e9517ee22953",
   "metadata": {},
   "outputs": [],
   "source": [
    "index_with_nan = df_schools.index[df_schools.isnull().any(axis=1)]\n",
    "df_schools.drop(index_with_nan,0, inplace=True) \n",
    "df_schools.set_index('codgeo', inplace = True) #on recommence l'index"
   ]
  },
  {
   "cell_type": "markdown",
   "id": "e96b2a14-6c64-4ca6-9b9b-7668f75d683e",
   "metadata": {},
   "source": [
    "Jointure avec les coordonnées géographiques des communes pour pouvoir trouver dans un rayon de 20km les écoles autour des résidences."
   ]
  },
  {
   "cell_type": "code",
   "execution_count": null,
   "id": "042fa8fe-e826-4074-b995-d3b6125bf824",
   "metadata": {},
   "outputs": [],
   "source": [
    "df_schools = df_schools.join(gdf_communes_boundaries)\n",
    "df_schools = gpd.GeoDataFrame(df_schools)\n",
    "df_schools.crs = \"epsg:4326\""
   ]
  },
  {
   "cell_type": "markdown",
   "id": "d9a0f320-669e-4af7-8d89-c27a5eac5705",
   "metadata": {},
   "source": [
    "On applique la fonction get_nb_student disponible dans le fichier function_for_data_cleaning.py qui permet d'obtenir le nombre d'étudiants dans un rayon de 20km autour de nos résidences."
   ]
  },
  {
   "cell_type": "code",
   "execution_count": null,
   "id": "91c6d505-e344-4317-a8a7-e55563c9beef",
   "metadata": {},
   "outputs": [],
   "source": [
    "df.crs = \"epsg:4326\" #on définit la projection de notre dataframe\n",
    "df = get_nb_student(df, df_schools, 20)"
   ]
  },
  {
   "cell_type": "markdown",
   "id": "10697228-145c-4920-b000-532f339d1fd9",
   "metadata": {
    "tags": []
   },
   "source": [
    "## I.6. Obtention de la base de données finale"
   ]
  },
  {
   "cell_type": "code",
   "execution_count": null,
   "id": "460578af-40d8-4648-b01a-3581d6d037c9",
   "metadata": {
    "tags": []
   },
   "outputs": [],
   "source": [
    "df "
   ]
  },
  {
   "cell_type": "markdown",
   "id": "67df20b2-2913-4137-bc8c-cbf6f91cf189",
   "metadata": {},
   "source": [
    "# Part II : Visualisation "
   ]
  },
  {
   "cell_type": "markdown",
   "id": "323d1df4-180a-4bbc-a2ae-03fe779f7065",
   "metadata": {},
   "source": [
    "## II.0 Construction d'indicateurs "
   ]
  },
  {
   "cell_type": "markdown",
   "id": "37341259-7aa4-4ecb-a3dd-2c859bec3ba5",
   "metadata": {},
   "source": [
    "Construction d'indicateurs du prix des loyers par m2 ('Loyer_crous_prix_par_m2_surf_min' en référence aux studios et 'Loyer_crous_prix_par_m2_surf_max' en référence aux (grands) studios/colocation)"
   ]
  },
  {
   "cell_type": "code",
   "execution_count": null,
   "id": "2076a7ef-1347-42aa-990c-0138191715f4",
   "metadata": {},
   "outputs": [],
   "source": [
    "df['Loyer_crous_prix_par_m2_surf_min'] = df['Min Loyer']/df['Min Surface'] \n",
    "df['Loyer_crous_prix_par_m2_surf_max'] = df['Max Loyer']/df['Max Surface'] "
   ]
  },
  {
   "cell_type": "markdown",
   "id": "e86cf7c7-4c76-4521-ab50-acbe53c988f2",
   "metadata": {},
   "source": [
    "Construction d'un indicateur du nombre de Crous par nombre d'étudiants par département qui sera ensuite affiché sur une carte. Cela va créer un ratio en pourcentage.  "
   ]
  },
  {
   "cell_type": "code",
   "execution_count": null,
   "id": "9ea7c8d0-018b-4cd4-9060-b19f6565eef2",
   "metadata": {
    "jupyter": {
     "source_hidden": true
    },
    "tags": []
   },
   "outputs": [],
   "source": [
    "Nb_residence_par_dep = df.reset_index().groupby('departement')['index'].nunique() #on reindex le dataframe\n",
    "#de 0 à n-1 puis on compte le nombre d'index unique par département pour avoir le nombre de résidences par départements\n",
    "Nb_residence_par_dep = pd.DataFrame(Nb_residence_par_dep) #on transforme en dataframe \n",
    "nb_eleve_dep = df_schools.groupby('etablissement_departement').sum()['effectif_sans_cpge'] #on somme par département le nb\n",
    "#le nombre d'étudiants\n",
    "nb_eleve_dep = pd.DataFrame(nb_eleve_dep) #on transforme en dataframe pour la jointure\n",
    "nb_residence_par_eleves = Nb_residence_par_dep.join(nb_eleve_dep, how = 'inner') #on joint nos deux dataframe\n",
    "nb_residence_par_eleves = nb_residence_par_eleves.assign(Nb_by_students=lambda x: (x[\"index\"]/x[\"effectif_sans_cpge\"])*100)\n",
    "#On crée notre ratio du nb de résidences/élèves/dép \n",
    "nb_residence_par_eleves = nb_residence_par_eleves.join(gdf_dep.set_index(\"departement\"))\n",
    "#on rajoute les coordonnées géographiques des départements (pour les cartes) \n",
    "nb_residence_par_eleves.reset_index(inplace = True)\n",
    "#on reset index \n",
    "del nb_residence_par_eleves[\"geometry\"]\n",
    "#on supprime la colonne geometry par simplicité par la suite \n",
    "nb_residence_par_eleves"
   ]
  },
  {
   "cell_type": "markdown",
   "id": "6ff3eed9-187f-4838-8312-b63e5d3f35d1",
   "metadata": {},
   "source": [
    "Dataframe avec les départements avec le plus d'étudiants dans l'ordre décroissant "
   ]
  },
  {
   "cell_type": "code",
   "execution_count": null,
   "id": "d68c18ac-9c62-4c80-8ef4-b59c9cff3bb6",
   "metadata": {
    "tags": []
   },
   "outputs": [],
   "source": [
    "nb_eleve_dep_top_10 = nb_eleve_dep.sort_values(by='effectif_sans_cpge', ascending=False) \n",
    "nb_eleve_dep_top_10"
   ]
  },
  {
   "cell_type": "markdown",
   "id": "c31e9f80-3f94-406c-912c-5339009a61f1",
   "metadata": {},
   "source": [
    "Dataframe avec les départements avec le plus de résidences Crous dans l'ordre décroissant "
   ]
  },
  {
   "cell_type": "code",
   "execution_count": null,
   "id": "d15e50dc-68bd-46e1-92d2-88f515d386cd",
   "metadata": {
    "tags": []
   },
   "outputs": [],
   "source": [
    "nb_res_dep_top_10 = Nb_residence_par_dep.sort_values(by='index', ascending=False) \n",
    "nb_res_dep_top_10"
   ]
  },
  {
   "cell_type": "markdown",
   "id": "7e7441cb-2c3f-491a-89a2-e550dbf1d93f",
   "metadata": {},
   "source": [
    "Construction d'un ratio pour enlever les départements avec un nombre de valeurs importantes (surfaces ou loyers) trop important "
   ]
  },
  {
   "cell_type": "code",
   "execution_count": null,
   "id": "ec319b01-159a-40af-8e2e-bc618a57c129",
   "metadata": {
    "tags": []
   },
   "outputs": [],
   "source": [
    "df_ratio_min = df\n",
    "df_ratio_min['prix_par_m2_surf_min_null'] = df.Loyer_crous_prix_par_m2_surf_min.isnull() # On compte le nombre de valeurs manquantes par ligne\n",
    "df_ratio_min['prix_par_m2_surf_min_null'] = df_ratio_min['prix_par_m2_surf_min_null'].astype(int) # on transforme le booléen en valeur 0 ou 1 (1 voulant dire que la valeur est manquante)\n",
    "df_ratio_min = df_ratio_min.groupby(['departement'], as_index=False)['prix_par_m2_surf_min_null'].sum() # On additionne par département le nombre de résidences avec des valeurs manquantes\n",
    "df_ratio_min = pd.merge(df_ratio_min, Nb_residence_par_dep, how=\"inner\", on=[Nb_residence_par_dep.index, \"departement\"])\n",
    "df_ratio_min = df_ratio_min.rename(columns={'index': 'Nb_res_dep'})\n",
    "df_ratio_min['ratio'] = df_ratio_min['prix_par_m2_surf_min_null']/df_ratio_min['Nb_res_dep']\n",
    "df_ratio_min = df_ratio_min[df_ratio_min['ratio']<0.5]    # On enlève les départements dont plus de 50 % des résidences présentent des valeurs manquantes \n",
    "\n",
    "\n",
    "df_dep_ratio = pd.merge(df_ratio_min, df , how=\"left\", on=[\"departement\", \"departement\"])\n"
   ]
  },
  {
   "cell_type": "markdown",
   "id": "f9736713-6224-4165-b655-a04060a4a907",
   "metadata": {},
   "source": [
    "## II.1. Où se situent les Crous ? "
   ]
  },
  {
   "cell_type": "markdown",
   "id": "623c453e-8ced-47bd-9e23-43a495916fb8",
   "metadata": {},
   "source": [
    "### II.1.A. Carte interactive des informations pratiques sur les Crous"
   ]
  },
  {
   "cell_type": "markdown",
   "id": "c5d143c1-e88c-4801-9dcd-4a430f54f3ae",
   "metadata": {},
   "source": [
    "Nous avons construit une carte interactive représentant l'ensemble des résidences Crous présentes en France métroplitaine et dans les départements et régions d'outre-mer. \n",
    "Cette première vue d'ensemble montre une concentration des résidences Crous dans les grandes métropoles françaises comme Paris, Lille, Lyon ou encore Bordeaux et dans les régions avec une forte population étudiante. \n",
    "\n",
    "La carte est interactive et permet de voir en un clic les principales informations de chaque résidence Crous (le nom de la résidence, son adresse, la surface moyenne des logements proposés et le loyer moyen."
   ]
  },
  {
   "cell_type": "code",
   "execution_count": null,
   "id": "03e64c88-7c97-42e0-bd63-744f5466c36e",
   "metadata": {
    "tags": []
   },
   "outputs": [],
   "source": [
    "map = folium.Map(location=[48.7144587, 2.2453842], tiles=\"OpenStreetMap\", zoom_start=11)\n",
    "\n",
    "# Create a geometry list from the GeoDataFrame\n",
    "\n",
    "geo_df_list = [[point.xy[1][0], point.xy[0][0]] for point in df.geometry] \n",
    "\n",
    "\n",
    "# Iterate through list and add a marker for each residence, color-coded by its type.\n",
    "\n",
    "i = 0\n",
    "\n",
    "for coordinates in geo_df_list:\n",
    "\n",
    "    # Place the markers with the popup labels and data\n",
    "\n",
    "    map.add_child(\n",
    "\n",
    "        folium.Marker(\n",
    "\n",
    "            location=coordinates,\n",
    "\n",
    "            popup=\n",
    "\n",
    "                 \"Nom: \" + str(df.title[i]) + \"<br>\"\n",
    "\n",
    "                + \"Moyenne Loyer: \" + str(df[\"Mean Loyer\"][i]) + \"<br>\"\n",
    "\n",
    "                + \"Moyenne surface: \" + str(df[\"Mean Surface\"][i]) + \"<br>\"\n",
    "\n",
    "                + \"Adresse: \" + str(df.address[i]) + \"<br>\"\n",
    "\n",
    "                + \"Coordonnées: \" + str(geo_df_list[i])\n",
    "\n",
    "            ,\n",
    "\n",
    "        \n",
    "\n",
    "            icon=folium.Icon(color=\"blue\"),\n",
    "\n",
    "        )\n",
    "\n",
    "    )\n",
    "\n",
    "    i = i + 1\n",
    "\n",
    "map"
   ]
  },
  {
   "cell_type": "markdown",
   "id": "dfb30b92-f9d2-4d83-8cd5-04ab31d2d09e",
   "metadata": {},
   "source": [
    "## II.2 Existent-ils des disparités entre les résidences Crous par département ? "
   ]
  },
  {
   "cell_type": "markdown",
   "id": "66d91c5f-417c-465d-97bd-8084c10be690",
   "metadata": {},
   "source": [
    "### II.2.A. Statistiques générales des résidences Crous"
   ]
  },
  {
   "cell_type": "code",
   "execution_count": null,
   "id": "c00c6663-7762-4a89-a3e8-0b499b5361c4",
   "metadata": {
    "tags": []
   },
   "outputs": [],
   "source": [
    "df_stats = df[['Min Loyer', 'Max Loyer', 'Min Surface', 'Max Surface', 'Loyer_crous_prix_par_m2_surf_min', 'Loyer_crous_prix_par_m2_surf_max', 'Loyer_prive_m2']]\n",
    "df_stats.describe()"
   ]
  },
  {
   "cell_type": "markdown",
   "id": "8ef53a8c-6ad7-4bba-8f78-ce70f05d5867",
   "metadata": {},
   "source": [
    "Des statistiques descriptives ci-dessus, nous constatons que : \n",
    "+  La surface moyenne d'un studio en résidence Crous est de 17,5 m2 pour un loyer mensuel moyen de 316 euros.  \n",
    "+  Pour une colocation ou un T1/grand studio, la surface moyenne est de 28 m2 pour un loyer mensuel moyen de 416 euros. \n",
    "+  L'écart-type des loyers entre les différentes résidences Crous est assez élevé ce qui implique des disparités significatives entre départements : pour un studio par exemple, l'écart-type du prix du loyer au m2 est proche de 6 euros pour une moyenne de 20 euros/m2. "
   ]
  },
  {
   "cell_type": "markdown",
   "id": "67e13a10-6d7f-4ddf-9ca1-f7a010b2bf7a",
   "metadata": {},
   "source": [
    "### II.2.B. Disparités en termes de surface entre les résidences Crous entre département "
   ]
  },
  {
   "cell_type": "markdown",
   "id": "0bdc107f-b855-4472-b916-52fb0c694346",
   "metadata": {},
   "source": [
    "Le loyer d'un logement dépend notamment de la surface de celui-ci, c'est pourquoi nous avons voulu comparer les éventuelles disparités entre département des résidences Crous sur la question de la superficie des logements proposés."
   ]
  },
  {
   "cell_type": "code",
   "execution_count": null,
   "id": "191fac5f-5d69-44ff-a20e-09e631408328",
   "metadata": {
    "tags": []
   },
   "outputs": [],
   "source": [
    "import seaborn as sns\n",
    "import matplotlib.pyplot as plt\n",
    "sns.set_theme(style=\"whitegrid\") \n",
    "\n",
    "# Initialize the matplotlib figure\n",
    "f, ax = plt.subplots(figsize=(25, 25))\n",
    "\n",
    "# Load the example car crash dataset\n",
    "surfaces = df.dropna()\n",
    "\n",
    "# Plot the total crashes\n",
    "sns.set_color_codes(\"pastel\")\n",
    "sns.barplot(y=\"departement\", x=\"Max Surface\", data=surfaces,\n",
    "            label=\"Surface grand studio/colocation\", color=\"b\")\n",
    "\n",
    "# Plot the crashes where alcohol was involved\n",
    "sns.set_color_codes(\"muted\")\n",
    "sns.barplot(y=\"departement\", x=\"Min Surface\", data=surfaces,\n",
    "            label=\"Surface studio\", color=\"b\")\n",
    "\n",
    "# Add a legend and informative axis label\n",
    "ax.legend(ncol=2, loc=\"lower right\", frameon=True, fontsize = 15)\n",
    "ax.set(xlim=(0, 100), ylabel=\" départements \",\n",
    "       xlabel=\"Surfaces des logements Crous par département\")\n",
    "plt.title(\"Répartition des surfaces des logements dans les résidences Crous par département\", size = 25) \n"
   ]
  },
  {
   "cell_type": "markdown",
   "id": "df742ef1-3d02-41d6-8a2d-3d17168a3bde",
   "metadata": {},
   "source": [
    "### II.2.C Disparité du prix du loyer au m2 entre les résidences Crous par département et comparaison avec le privé"
   ]
  },
  {
   "cell_type": "markdown",
   "id": "e56e0201-1fa0-4082-a95b-b1a67be318a6",
   "metadata": {},
   "source": [
    "Nous effectuons une comparaison du prix des loyers au m2 des résidences Crous par département. Nous utilisons un indicateur de prix au m2 pour prendre en considération les différences en termes de surface des logements proposés par les résidences Crous entre département et nous le comparons en même temps avec le prix du loyer par m2 proposé dans le parc privé. "
   ]
  },
  {
   "cell_type": "code",
   "execution_count": null,
   "id": "9f68d7cf-7b34-4b0c-85d2-29035f7a0896",
   "metadata": {
    "tags": []
   },
   "outputs": [],
   "source": [
    "fig, ax = plt.subplots(figsize=(20, 10))\n",
    "# Reorder it following the values of the first value:\n",
    "\n",
    "ordered_df = df.dropna().groupby(\"departement\").mean().sort_values(by='Loyer_crous_prix_par_m2_surf_max')\n",
    "my_range=ordered_df.index\n",
    " \n",
    "# The horizontal plot is made using the hline function\n",
    "plt.hlines(y= my_range, xmin=ordered_df['Loyer_crous_prix_par_m2_surf_max'], xmax=ordered_df['Loyer_prive_m2'], color='black', alpha=0.4)\n",
    "plt.scatter(ordered_df['Loyer_crous_prix_par_m2_surf_max'], my_range, color='darkcyan', alpha=1, marker = 'o', label='Loyer_crous_prix_par_m2_surf_max')\n",
    "plt.scatter(ordered_df['Loyer_crous_prix_par_m2_surf_min'], my_range, color='firebrick', alpha=1,  marker = 's', label='Loyer_crous_prix_par_m2_surf_min')\n",
    "plt.scatter(ordered_df['Loyer_prive_m2'], my_range, color='darkgreen', alpha=1 ,marker = '^', label='Loyer_prive_m2')\n",
    "plt.legend()\n",
    "\n",
    "    \n",
    "# Add title and axis names\n",
    "plt.yticks(my_range, ordered_df.index, fontsize= 10)\n",
    "plt.title(\"Comparaison du loyer min/max en résidence Crous et avec le parc privé\", loc='left')\n",
    "plt.xlabel('Loyer', color = 'b')\n",
    "plt.ylabel('Départements', color = 'b')\n",
    "ax.legend(loc = 4, bbox_to_anchor = (1,0))\n",
    "plt.style.use(\"ggplot\")\n",
    "\n",
    "\n",
    "# Show the graph\n",
    "plt.show()"
   ]
  },
  {
   "cell_type": "markdown",
   "id": "c448fd86-d21b-45be-a671-498aaf823e66",
   "metadata": {},
   "source": [
    "Même graphique en enlevant les départements avec un nombre trop important de valeurs manquantes "
   ]
  },
  {
   "cell_type": "markdown",
   "id": "b0c2d044-923e-4d44-b053-f9aa91354ba0",
   "metadata": {},
   "source": [
    "Du graphique ci-dessous nous pouvons dire que : \n",
    "+ Le prix au m2 des loyers pour un studio en résidence Crous est quasiment toujours plus élevé que pour un logement de taille supérieur (généralement en colocation). Ce qui est assez cohérent, plus un logement est grand et loué en colocation moins il revient cher individuellement.\n",
    "+ Les variations du prix du loyer au m2 dans les logements Crous est plus faible que dans le parc privé. \n",
    "+ Dans les grandes métropoles étudiantes, le prix au m2 du loyer en Crous est nettement inférieur à celui proposé dans le parc privé : à Paris par exemple, l'écart est d'environ 15 euros par m2. Les loyers du Crous n'augmentent donc pas même si les prix proposé dans le privé est sensiblement plus important. \n",
    "+ Dans les zones où la tension étudiante est plus faible, le prix du loyer au m2 dans le privé est souvent plus faible que celui proposé par les résidences Crous : cela s'explique principalement par le fait que dans ces départements, les logements proposés à la location sont souvent de plus grandes superficie (principalement T3), de ce fait ils ne sont pas très représentatifs des logements que rechercheraient un étudiant qui ne souhaite pas forcément être en colocation."
   ]
  },
  {
   "cell_type": "code",
   "execution_count": null,
   "id": "d22f604f-c863-4296-b8f0-88ca0023b894",
   "metadata": {},
   "outputs": [],
   "source": [
    "fig, ax = plt.subplots(figsize=(20, 10))\n",
    "# Reorder it following the values of the first value:\n",
    "\n",
    "ordered_df = df_dep_ratio .dropna().groupby(\"departement\").mean().sort_values(by='Loyer_crous_prix_par_m2_surf_max')\n",
    "my_range=ordered_df.index\n",
    " \n",
    "# The horizontal plot is made using the hline function\n",
    "plt.hlines(y= my_range, xmin=ordered_df['Loyer_crous_prix_par_m2_surf_max'], xmax=ordered_df['Loyer_prive_m2'], color='black', alpha=0.4)\n",
    "plt.scatter(ordered_df['Loyer_crous_prix_par_m2_surf_max'], my_range, color='darkcyan', alpha=1, marker = 'o', label='Loyer_crous_prix_par_m2_surf_max')\n",
    "plt.scatter(ordered_df['Loyer_crous_prix_par_m2_surf_min'], my_range, color='firebrick', alpha=1,  marker = 's', label='Loyer_crous_prix_par_m2_surf_min')\n",
    "plt.scatter(ordered_df['Loyer_prive_m2'], my_range, color='darkgreen', alpha=1 ,marker = '^', label='Loyer_prive_m2')\n",
    "plt.legend()\n",
    "\n",
    "    \n",
    "# Add title and axis names\n",
    "plt.yticks(my_range, ordered_df.index, fontsize= 10)\n",
    "plt.title(\"Comparaison du loyer min/max en résidence Crous et avec le parc privé\", loc='left')\n",
    "plt.xlabel('Rent prices', color = 'b')\n",
    "plt.ylabel('Départements', color = 'b')\n",
    "ax.legend(loc = 4, bbox_to_anchor = (1,0))\n",
    "plt.style.use(\"ggplot\")\n",
    "\n",
    "\n",
    "# Show the graph\n",
    "plt.show()"
   ]
  },
  {
   "cell_type": "markdown",
   "id": "3edc0c7a-fbab-4311-9ca4-1fa82f2ba2e4",
   "metadata": {},
   "source": [
    "## II.3 Répartition des étudiants et des résidences Crous "
   ]
  },
  {
   "cell_type": "markdown",
   "id": "af49465e-24be-4fec-afff-92e4bdfc955f",
   "metadata": {},
   "source": [
    "Pour savoir dans quelle mesure les résidences Crous s'adaptent au nombre d'étudiant présent dans chaque département, nous avons comparé les dix départements avec le plus d'étudiants présents avec les dix départements avec le plus de résidences Crous. "
   ]
  },
  {
   "cell_type": "code",
   "execution_count": null,
   "id": "7f7dde03-1ff2-4592-ab42-5619395ad456",
   "metadata": {},
   "outputs": [],
   "source": [
    "nb_eleve_dep_top_10 = nb_eleve_dep_top_10.loc[(nb_eleve_dep_top_10['effectif_sans_cpge']>56740)] \n",
    "departments = nb_eleve_dep_top_10.index\n",
    "Nb_élèves = nb_eleve_dep_top_10['effectif_sans_cpge']\n",
    "\n",
    "fig, ax = plt.subplots(figsize=(20, 10)) #taille adéquate \n",
    "\n",
    "plt.bar(departments, Nb_élèves, color ='coral' )\n",
    "plt.xticks(departments, rotation = 'vertical', size =10)\n",
    "plt.title(\"Dix départements avec le plus d'étudiants\", loc='left', size=20)\n",
    "plt.xlabel('Départments', color = 'b') \n",
    "plt.ylabel(\"Départements avec le plus d'élèves\", color = 'b')\n",
    "plt.style.use(\"ggplot\") #à utiliser pour améliorer le style \n",
    "plt.show()"
   ]
  },
  {
   "cell_type": "markdown",
   "id": "cf2ed63f-7dff-42c7-8c93-5929ef3ee19a",
   "metadata": {},
   "source": [
    "Parmi les dix dépatements avec le plus de d'étudiants on retrouve 7 départements avec le plus de résidences Crous : il y a bien un effet d'accompagnement de la demande (étudiante) par les résidences Crous. "
   ]
  },
  {
   "cell_type": "code",
   "execution_count": null,
   "id": "f442245a-571b-4ffc-93d6-4577df1fd552",
   "metadata": {},
   "outputs": [],
   "source": [
    "\n",
    "\n",
    "nb_res_dep_top_10 = nb_res_dep_top_10.loc[(nb_res_dep_top_10['index']>=23)] \n",
    "departments = nb_res_dep_top_10.index\n",
    "Nb_res = nb_res_dep_top_10['index']\n",
    "\n",
    "fig, ax = plt.subplots(figsize=(20, 10)) #taille adéquate \n",
    "\n",
    "plt.bar(departments, Nb_res, color ='plum')\n",
    "plt.xticks(departments, rotation = 'vertical', size =10)\n",
    "plt.title(\"Dix départements avec le plus de résidences Crous\", loc='left', size=20)\n",
    "plt.xlabel('Départments', color ='b') \n",
    "plt.ylabel(\"Départements avec le plus de résidences Crous\", color ='b')\n",
    "plt.style.use(\"ggplot\")\n",
    "plt.show()"
   ]
  },
  {
   "cell_type": "markdown",
   "id": "810ff9d3-921c-49e8-b65d-9c1b87bcd64a",
   "metadata": {},
   "source": [
    "### II.3.A. Répartition des résidences Crous en fonction du nombre d'étudiants par département"
   ]
  },
  {
   "cell_type": "markdown",
   "id": "f7951cb4-c652-4ab6-a331-75421d25ce76",
   "metadata": {},
   "source": [
    "Enfin, nous avons voulu savoir si l'offre et la demande de logements en résidence Crous était homogène sur le plan national. Pour cela, nous avons réalisé une carte chloroplèthe qui permet d'illustrer les différences de pression de la demande étudiante de logements Crous entre les départements de France métroplitaine.  \n",
    "+ **Lecture** : un département jaune signifie qu'il y a ratio assez faible entre le nombre de résidences et le nombre d'étudiants dans le département (entre 0 et 0.02%). \n",
    "+ **Interprétation** : La pression de demande de logements Crous est très marquée en Ile de France, en Bretagne et dans le Bas-Rhin où le pourcentage de résidence par étudiant est inférieur à 0,03 % quand ce ratio passe de 10 à 23 % dans plusieurs départements du sud de la France. "
   ]
  },
  {
   "cell_type": "code",
   "execution_count": null,
   "id": "17ca4d42-36fa-4844-96d1-428fb5856c03",
   "metadata": {},
   "outputs": [],
   "source": [
    "# Load the json file with departement coordinates\n",
    "geoData = gpd.read_file(\"https://raw.githubusercontent.com/holtzy/The-Python-Graph-Gallery/master/static/data/france.geojson\")\n",
    "geoData.index = geoData.index.astype(str).astype(int)\n",
    "fullData = geoData.merge(nb_residence_par_eleves,left_on=['code'], right_on=['code_insee'])\n",
    "#Obtain dataframe with data + coordonate (more easy to manipulate) "
   ]
  },
  {
   "cell_type": "code",
   "execution_count": null,
   "id": "7148c81e-ad7c-4ec0-9bfc-a597d1f9b974",
   "metadata": {},
   "outputs": [],
   "source": [
    "\"\"\"\n",
    "On récupère un fond de carte de la France.\n",
    "\"\"\"\n",
    "\n",
    "France = gpd.read_file(\"https://raw.githubusercontent.com/holtzy/The-Python-Graph-Gallery/master/static/data/france.geojson\")"
   ]
  },
  {
   "cell_type": "code",
   "execution_count": null,
   "id": "ce1e19d5-5f44-4df0-a1b1-a09b80f472be",
   "metadata": {},
   "outputs": [],
   "source": [
    "\n",
    "fig, ax = plt.subplots(figsize=(20, 18))\n",
    "France.plot(ax =ax, edgecolor='darkgrey', facecolor='lightgrey') #on affiche toute la France ainsi on n'a pas uniquement les départements ayant des Crous\n",
    "\n",
    "# Set up the color sheme:\n",
    "import mapclassify as mc\n",
    "scheme = mc.Quantiles(nb_residence_par_eleves['Nb_by_students'], k=10) #on calcule 7 quantiles du nombre d'étudiants par résidences\n",
    "\n",
    "# Map\n",
    "maps = gplt.choropleth(fullData[(fullData[\"level_0\"] != \"Guyane\") & (fullData[\"level_0\"] != \"La Réunion\") &\n",
    "                                        (fullData[\"level_0\"] !=\"Martinique\") & (fullData[\"level_0\"] !=\"Guadeloupe\")], \n",
    "    hue= \"Nb_by_students\" , \n",
    "    linewidth=.1,\n",
    "    scheme=scheme, cmap='inferno_r',\n",
    "    legend=True,\n",
    "    edgecolor='black',\n",
    "    ax=ax\n",
    "                \n",
    ");\n",
    "\n",
    "ax.set_title('Nombre de résidences Crous par étudiants par département', fontsize=30)"
   ]
  },
  {
   "cell_type": "markdown",
   "id": "91c922e7-d9d1-43a5-a854-8080c4b1a3da",
   "metadata": {},
   "source": [
    "**Conclusion** : \n",
    "+ Les résidences Crous tentent d'accompagner la demande étudiante en s'implantant au maximum dans les grandes aires étudiantes. \n",
    "+ Pour autant, la pression de la demande de logements sociaux dans les grandes métropoles françaises demeure toujours très importante. \n",
    "+ Néanmoins, et ce qui est plutôt rassurant c'est que le prix du loyer en résidence Crous est assez insensible au prix des loyers proposé dans le privé ainsi qu'à la tension de la demande étudiante : les logements Crous n'ont pas de visée lucrative et cherchent toujours à favoriser l'insertion dans la vie étudiante. "
   ]
  },
  {
   "cell_type": "markdown",
   "id": "ae52b5e0-72c3-4515-837d-f3aa0053e8e5",
   "metadata": {},
   "source": [
    "# Partie III : Modélisation \n",
    "Dans un premier temps nous effectuons des régressions pour essayer de modéliser la variable Loyer. \n",
    "\n",
    "Ensuite, nous nous intéressons au prix par mètre carré des résidences Crous et essaierons de déterminer si ce-dernier est très sensible aux variations du prix par mètre carré des logements privés loués et de la demande des étudiants. En d'autres termes, nous essaierons de déterminer si le prix au mètre carré à la location des résidences crous suit la loi de marché."
   ]
  },
  {
   "cell_type": "markdown",
   "id": "9ca475f8-fbec-46b1-b548-760baf88901f",
   "metadata": {},
   "source": [
    "## III.0 Préparation du dataframe\n",
    "On créé un nouveau dataframe df2 qui correspond à df, duquel on retire les valeurs manquantes pour que les régressions fonctionnent."
   ]
  },
  {
   "cell_type": "code",
   "execution_count": null,
   "id": "cf25d5a6-2e1e-41b4-a5b7-3d7c54421055",
   "metadata": {},
   "outputs": [],
   "source": [
    "df2 = df\n",
    "index_with_nan = df2.index[df2.isnull().any(axis=1)] #on regarde l'index des NaN sur toutes les colonnes du dataframe\n",
    "\n",
    "df2.drop(index_with_nan,0, inplace=True) #on retire les lignes avec des valeurs manquantes sur le dataframe df2\n",
    "df2 = df2.reset_index() #On réindexe df2 pour ne pas avoir des 'sauts' dans les indexes.\n",
    "\n",
    "\n",
    "print(df.shape)\n",
    "print(df2.shape)"
   ]
  },
  {
   "cell_type": "markdown",
   "id": "d4876c13-3923-40f2-88c9-401623ecaf40",
   "metadata": {},
   "source": [
    "## III.1 Premières régressions linéaires simples pour expliquer la variable Loyer"
   ]
  },
  {
   "cell_type": "markdown",
   "id": "91f2089f-f012-4146-b9e0-345dad029d03",
   "metadata": {},
   "source": [
    "L'objectif de cette partie est de s'assurer de la cohérence de nos données. Nous effectuons pour cela, la régression du loyer maximal sur la surface maximale.\n",
    "\n",
    "Dans la partie II.2.A. de statistiques descriptives de df, nous avons vu que les variables Max Loyer et Max Surface prenaient des valeurs respectivement entre 146 et 823 euros et entre 9 et 99 m². Il n'y a donc pas de valeurs incohérentes qui viendraient fausser les résultats.\n",
    "\n",
    "On trace le nuage de points des loyers en fonction de la surface."
   ]
  },
  {
   "cell_type": "code",
   "execution_count": null,
   "id": "3694491d-e679-47bf-968f-b6478f5a185c",
   "metadata": {},
   "outputs": [],
   "source": [
    "plt.scatter(df2['Max Surface'], df2['Max Loyer'])\n",
    "plt.title('Loyer en fonction de la surface en mètre carrés')\n",
    "plt.xlabel('Surface (en mètre carré)')\n",
    "plt.ylabel('Loyer (en euros)')\n",
    "plt.show()"
   ]
  },
  {
   "cell_type": "code",
   "execution_count": null,
   "id": "1d7b66f0-d42e-4d03-9cc5-23249b7f9fd1",
   "metadata": {},
   "outputs": [],
   "source": [
    "from functions_for_modelling import * \n",
    "get_OLS_reg(df2['Max Surface'], df2['Max Loyer'])"
   ]
  },
  {
   "cell_type": "markdown",
   "id": "895f7411-5b84-4871-9be4-db6431d14ad4",
   "metadata": {},
   "source": [
    "*Analyse*:\n",
    "- Le R² de 0.18 est plutôt faible, la variable explicative (ici la surface moyenne) n'est pas très utile pour prédire le résultat. \n",
    "- La p-value indique que l'on rejette H0 à 1%, le coefficient associé à la variable Max Surface est donc significatif.\n",
    "- Le nombre d'observations est égal à 320, ce qui est assez faible. \n",
    "- La constante est assez élevée, égale à 320, ce qui peut s'expliquer par la nature de la variable expliquée, le loyer, qui prend des valeurs entre 146 et 818 euros.\n",
    "\n",
    "- En admettant que la régression identifie un effet causal de la surface maximale, une hausse de 1m² de la surface entraînerait une hausse de 3 euros du loyer. Ce qui semble acceptable, partant d'un loyer de 320 euros. \n",
    "\n",
    "On trace ensuite la droite de régression linéaire:"
   ]
  },
  {
   "cell_type": "code",
   "execution_count": null,
   "id": "36caf352-4d92-4946-8ad1-e499f4ab753f",
   "metadata": {},
   "outputs": [],
   "source": [
    "sns.regplot(x='Max Surface', y='Max Loyer', data=df2) "
   ]
  },
  {
   "cell_type": "code",
   "execution_count": null,
   "id": "275e04db-e316-4d95-9ed3-7765081e5c4f",
   "metadata": {},
   "outputs": [],
   "source": [
    "#tracer résidus en fonction de y^  model.predict()"
   ]
  },
  {
   "cell_type": "markdown",
   "id": "954a6597-3dd3-459e-9b03-83d2521b099d",
   "metadata": {},
   "source": [
    "On s'intéresse désormais à la possible hétéroscedasticité des résidus. \n",
    "On effectue le test de Breusch-Pagan afin d'avoir une indication plus précise sur l'homoscédasticité ou non des résidus."
   ]
  },
  {
   "cell_type": "code",
   "execution_count": null,
   "id": "c0dd05dc-b15a-42b9-9be2-0f10893b8def",
   "metadata": {},
   "outputs": [],
   "source": [
    "get_bp_test_OLS(df2['Max Surface'],df2['Max Loyer'])"
   ]
  },
  {
   "cell_type": "markdown",
   "id": "5e7df1cd-13b1-490b-b743-4ae1cf312671",
   "metadata": {},
   "source": [
    "_Analyse_:\n",
    "\n",
    "- La p-value du test est inférieure à 0.05 donc le modèle semble hétéroscedastique.\n",
    "\n",
    "- Le seul inconvénient du test de Breusch-Pagan est qu'il peut donner une faible p-value même quand le modèle n'est pas hétéroscedastique. En effet, si le modèle est imparfait, généralement en raison d'un biais de variable omise, le test peut alors indiquer une p-value faible."
   ]
  },
  {
   "cell_type": "markdown",
   "id": "b603fdc1-3e41-48e5-a04f-5d70f3290ef4",
   "metadata": {},
   "source": [
    "On effectue une régression prenant en compte une possible hétéroscedasticité des résidus avec le module RLM (Robust Linear Method) de statsmodel. "
   ]
  },
  {
   "cell_type": "code",
   "execution_count": null,
   "id": "cdbc7a1d-3cb9-45b0-b0a3-a8459bc0350b",
   "metadata": {},
   "outputs": [],
   "source": [
    "get_RLM(df2['Max Surface'],df2['Max Loyer'])"
   ]
  },
  {
   "cell_type": "markdown",
   "id": "2eae953e-b1d6-4781-908e-db458b010ae1",
   "metadata": {},
   "source": [
    "_Analyse_:\n",
    "- On remarque que l'écart type (std err) du coefficient associé à Max Surface a diminué. Il reste significatif puisqu'on rejette H0 à 1% (pvalue < 0.01).\n",
    "- On remarque également que l'intervalle de confiance est plus restreint.\n",
    "\n",
    "La régression est donc plus précise avec le module RLM. On privilegiera désormais le module RLM pour effectuer des régressions, puisque celui-ci prend en compte une possible hétéroscedasticité des résidus."
   ]
  },
  {
   "cell_type": "markdown",
   "id": "dc0e9913-6964-4a5f-a9bf-7a23fde1c4c5",
   "metadata": {},
   "source": [
    "## III.2 Modélisation du prix du mètre carré des résidences Crous"
   ]
  },
  {
   "cell_type": "markdown",
   "id": "805ee97f-c008-4963-81c0-97a7667c61ed",
   "metadata": {},
   "source": [
    "### III. 2.A.  Le prix du mètre carré des appartements privés loués a-t-il une incidence sur le prix du mètre carré des résidences Crous ?\n",
    "\n",
    "Pour répondre à cette question, nous effectuons la régression linéaire du prix du mètre carré des résidences Crous sur le prix au mètre carré des appartements privés loués.¶"
   ]
  },
  {
   "cell_type": "code",
   "execution_count": null,
   "id": "103cb03a-99c9-4764-8fad-19ce22a3480d",
   "metadata": {},
   "outputs": [],
   "source": [
    "get_RLM(df2['Loyer_prive_m2'],df2['prix_par_m2_surf_max'])"
   ]
  },
  {
   "cell_type": "markdown",
   "id": "c4aaf6fd-0961-45cc-a1d8-2434384e1844",
   "metadata": {},
   "source": [
    "_Analyse_:\n",
    "- Le coefficient associé au prix du mètre carré des appartements privés loués est positif, il est de 0.1283 et est significatif au seuil de 1% (car la p-value est inférieure à 1%).\n",
    "\n",
    "- Ainsi, en admettant que la régression identifie un effet causal du prix au mètre carré des logements privés loués, une hausse de 1 euro du prix du mètre carré des appartements privés loués entraîne une hausse de 12 centimes du prix du mètre carré des résidences crous. \n",
    "- Concrètement, si l'on considère un studio de 20m2 loué au sein d'une résidence Crous à Grenoble. Une hausse de 10 euros du prix au mètre carré des loyers de location privée à Grenoble conduit à une hausse de 1,4 euros du prix au mètre carré des loyers des résidences Crous de Grenoble. En particulier, le loyer de l'appartement considéré augmente donc de 28 euros par mois. (En admettant à nouveau que la régression identifie un effet causal du prix au mètre carré des loyers privés).\n",
    "\n",
    "- La constante est de 14,3 ce qui paraît cohérent en réfléchissant en termes de prix au mètre carré. \n",
    "\n",
    "Les résidences Crous tendent donc à suivre les variations des prix de marché, mais faiblement.  "
   ]
  },
  {
   "cell_type": "code",
   "execution_count": null,
   "id": "c1a59362-7466-427d-b7a5-46ab26519c46",
   "metadata": {},
   "outputs": [],
   "source": [
    "sns.regplot(x='Loyer_prive_m2', y='prix_par_m2_surf_max', data=df2) "
   ]
  },
  {
   "cell_type": "markdown",
   "id": "d10bf768-142c-4d84-a0ad-57a80453e59d",
   "metadata": {},
   "source": [
    "### III. 2.B.  Le nombre d'étudiants scolarisés à proximité des résidences Crous ont-ils une incidence sur le prix au mètre carré de ces dernières ? \n",
    "\n",
    "Nous effectuons la régression du prix au mètre carré des logements Crous sur le nombre d'étudiants scolarisés à proximité.\n",
    "\n",
    "On créé pour cela un nouveau dataframe."
   ]
  },
  {
   "cell_type": "code",
   "execution_count": null,
   "id": "b80e2b97-54f1-424e-8919-7a113c5c1067",
   "metadata": {},
   "outputs": [],
   "source": [
    "df2['Nbstudents'].describe()"
   ]
  },
  {
   "cell_type": "markdown",
   "id": "0f7f3544-17db-406d-84c0-eac59c663c19",
   "metadata": {},
   "source": [
    "La variable Nbstudents correspond au nombre d'étudiants scolarisés à proximité de résidences Crous.\n",
    "On constate que le minimum de cette variable est de 0 ce qui signifie que certaines valeurs sont à 0 et vont fausser la régression.\n",
    "\n",
    "On créée donc un nouveau dataframe duquel on retire ces valeurs nulles. Le nouveau dataframe, ne contient donc plus les résidences Crous associées à aucun étudiant. "
   ]
  },
  {
   "cell_type": "code",
   "execution_count": null,
   "id": "2442d058-338e-4000-9492-463abe1f5f1a",
   "metadata": {},
   "outputs": [],
   "source": [
    "i = df2[df2['Nbstudents']<=1000].index.values\n",
    "df_students = df2.drop(i,axis=0)"
   ]
  },
  {
   "cell_type": "code",
   "execution_count": null,
   "id": "0a694e49-9429-433d-b0c6-f66490d485eb",
   "metadata": {},
   "outputs": [],
   "source": [
    "print(df_students['Nbstudents'].describe()) \n",
    "get_RLM(df_students['Nbstudents'],df_students['prix_par_m2_surf_max'])"
   ]
  },
  {
   "cell_type": "markdown",
   "id": "a38c9f4d-13b5-420e-b59f-42b79df69a56",
   "metadata": {},
   "source": [
    "_Analyse_:\n",
    "- Le coefficient associé à la variable nombre d'étudiants est positif : il y a donc une association positive entre le nombre d'étudiants et le prix au mètre carré\n",
    "- Le coefficient est significatif au seuil de 1% car la p-value = 0.004 <0.01.\n",
    "- Le coefficient est très faible, proche de 0. Cependant, rapporté au nombre moyen d'étudiants qui est de l'ordre de la dizaine de millier, il ne semble pas incohérent. Il faut que l'augmentation du nombre d'étudiants soit d'un facteur 10^6 pour avoir un impact significatif. \n",
    "- Ainsi, en admettant que la régression identifie un effet causal du nombre d'étudiants, une hausse de 1000 élèves a un impact de 0.7 centimes sur le prix du mètre carré. Donc, une hausse de 100 000 élèves a un impact de près de 80 centimes sur le prix du mètre carré.\n",
    "\n",
    "+ Interprétation : Ces résultats sont rassurants. Ils signifient que les résidences Crous ne spéculent pas sur la hausse de la demande et du nombre d'étudiants dans la région où ils se trouvent."
   ]
  },
  {
   "cell_type": "code",
   "execution_count": null,
   "id": "c2365a86-e0f0-4b3e-9eaa-20ec68a58a60",
   "metadata": {},
   "outputs": [],
   "source": [
    "sns.regplot(x='Nbstudents', y='prix_par_m2_surf_max', data=df2) "
   ]
  },
  {
   "cell_type": "markdown",
   "id": "f85a6dd4-d57e-4882-81e7-8c2b4c96ab9b",
   "metadata": {},
   "source": [
    "### III. 2.C.  Y-a-t-il un effet commun du nombre d'étudiants scolarisés à proximité des résidences et du prix au mètre carré des loyers privés sur le prix au mètre carré des résidences Crous ? "
   ]
  },
  {
   "cell_type": "markdown",
   "id": "91cbc28a-dbb1-456d-9f80-e036d01f352f",
   "metadata": {},
   "source": [
    "On effectue à présent une régression longue du prix au mètre carré dans les résidences Crous sur le nombre d'étudiants et le prix au mètre carré des appartements privés loués."
   ]
  },
  {
   "cell_type": "code",
   "execution_count": null,
   "id": "7b2448a8-9d65-4498-8481-59fd369ac16f",
   "metadata": {},
   "outputs": [],
   "source": [
    "get_RLM(df_students[['Nbstudents','Loyer_prive_m2']],df_students['prix_par_m2_surf_max'])"
   ]
  },
  {
   "cell_type": "markdown",
   "id": "5e57ae3b-14c4-4ad1-ba76-647f8482ce89",
   "metadata": {},
   "source": [
    "_Analyse_:\n",
    "- Le coefficient associé à la variable Loyer_prive_m2 est significatif au seuil de 10% (p-value = 0.067 <10%) et positif. Ainsi, comme pour la régression simple (III.3.A), une hausse du prix au mètre carré des loyers des appartements privés loués d'une ville est associée à une hausse des loyers des résidences du Crous de cette même ville. Une augmentation de 1 euro du loyer privé conduit à une augmentation de 14 centimes du loyer crous, en supposant que la regression identifie un effet causal du prix au mètre carré des appatemenrs privés. \n",
    "\n",
    "- Il est étonnant que le coefficient associé au nombre d'étudiants soit négatif. Une baisse du nombre d'étudiants entraînerait une hausse du prix au mètre carré des résidences crous, ce qui ne coïncide pas avec la régression précédente (III.3.B) et avec les analyses obtenues dans la partie visualisation. *Les loyers des résidences Crous de Paris sont 100 euros plus chers que ceux des résidences de Dijon, ville qui compte moins d'étudiants que Paris.* Cependant, ce coefficient n'est pas significatif puisque sa p-value >60%.  \n",
    "\n",
    "On arrive à la même conclusion que précédemment (III.3.A), les Crous suivent la loi du marché mais faiblement."
   ]
  },
  {
   "cell_type": "markdown",
   "id": "33c7eac6-68e0-48c7-8eda-2d1785de6323",
   "metadata": {},
   "source": [
    "### III.2.D L'élasticité prix du mètre carré des résidences Crous "
   ]
  },
  {
   "cell_type": "markdown",
   "id": "f59cf94a-4755-44b7-b0ad-c60452a596da",
   "metadata": {},
   "source": [
    "On s'intérèsse enfin à l'élasticité prix du mètre carré des résidences Crous sur le nombre d'étudiant. \n",
    "\n",
    "Nous effectuons la régression linéaire simple du logarithme du prix par mètre carré dans les résidences Crous sur le logarithme du nombre d'étudiants pour obtenir l'élasticité prix du mètre carré des résidences Crous."
   ]
  },
  {
   "cell_type": "code",
   "execution_count": null,
   "id": "17799f5b-0e60-4e3b-8590-5ed85b560692",
   "metadata": {},
   "outputs": [],
   "source": [
    "x= np.log(df_students['Nbstudents'])\n",
    "y= np.log(df_students['Loyer_prive_m2'])\n",
    "get_RLM(x,y)"
   ]
  },
  {
   "cell_type": "markdown",
   "id": "eacc2761-55c0-4b4b-9af8-4224a4896ca9",
   "metadata": {},
   "source": [
    "_Analyse_:\n",
    "- Le coefficient associé au logarithme du nombre total d'étudiants est positif et significatif au seuil de 1%.\n",
    "\n",
    "- Le coefficient correspond à l'élasticité prix du nombre d'étudiants, il peut être considéré comme l'élasticité prix de la demande, puisque les étudiants constituent l'essentiel des locataires des résidences Crous. \n",
    "\n",
    "- En supposant que la régression identifie un effet causal du nombre d'étudiants, une hausse de 100 points de pourcentage du nombre d'étudiants entraîne une hausse de 4 points de pourcentage du logarithme du prix au mètre carré des résidences Crous, toutes choses égales par ailleurs."
   ]
  },
  {
   "cell_type": "code",
   "execution_count": null,
   "id": "0f3fc75e-1d8f-40e9-86c5-d4d57be63538",
   "metadata": {},
   "outputs": [],
   "source": [
    "df2['log_Nbstudents'] = np.log(df_students['Nbstudents'])\n",
    "df2['log_Loyer_prive_m2'] = np.log(df_students['Loyer_prive_m2'])"
   ]
  },
  {
   "cell_type": "code",
   "execution_count": null,
   "id": "7c4c6126-13cb-4668-94e1-2f5d03d64c1d",
   "metadata": {},
   "outputs": [],
   "source": [
    "sns.regplot(x='log_Nbstudents', y='prix_par_m2_surf_max', data=df2) "
   ]
  },
  {
   "cell_type": "markdown",
   "id": "6eb994a6-f1e0-4905-98bb-aacc31106408",
   "metadata": {},
   "source": [
    "__Conclusion__:\n",
    "Ces régressions "
   ]
  }
 ],
 "metadata": {
  "kernelspec": {
   "display_name": "Python 3 (ipykernel)",
   "language": "python",
   "name": "python3"
  },
  "language_info": {
   "codemirror_mode": {
    "name": "ipython",
    "version": 3
   },
   "file_extension": ".py",
   "mimetype": "text/x-python",
   "name": "python",
   "nbconvert_exporter": "python",
   "pygments_lexer": "ipython3",
   "version": "3.10.4"
  }
 },
 "nbformat": 4,
 "nbformat_minor": 5
}
